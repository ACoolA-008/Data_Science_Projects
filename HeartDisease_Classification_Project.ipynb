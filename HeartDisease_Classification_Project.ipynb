{
 "cells": [
  {
   "cell_type": "code",
   "execution_count": 18,
   "id": "c534eca7",
   "metadata": {},
   "outputs": [],
   "source": [
    "import pandas as pd\n",
    "import numpy as np\n",
    "import matplotlib.pyplot as plt\n",
    "import seaborn as sns\n",
    "\n",
    "from sklearn.preprocessing import LabelEncoder\n",
    "from sklearn.preprocessing import StandardScaler\n",
    "from sklearn.model_selection import train_test_split\n",
    "from sklearn.decomposition import PCA\n",
    "from bioinfokit.visuz import cluster\n",
    "from sklearn.metrics import accuracy_score\n",
    "from sklearn.tree import DecisionTreeClassifier\n",
    "from sklearn.model_selection import GridSearchCV\n",
    "from sklearn.metrics import classification_report\n",
    "from mlxtend.evaluate import bias_variance_decomp\n",
    "from sklearn.metrics import roc_curve, auc"
   ]
  },
  {
   "cell_type": "code",
   "execution_count": 2,
   "id": "886018e5",
   "metadata": {
    "scrolled": false
   },
   "outputs": [
    {
     "data": {
      "text/html": [
       "<div>\n",
       "<style scoped>\n",
       "    .dataframe tbody tr th:only-of-type {\n",
       "        vertical-align: middle;\n",
       "    }\n",
       "\n",
       "    .dataframe tbody tr th {\n",
       "        vertical-align: top;\n",
       "    }\n",
       "\n",
       "    .dataframe thead th {\n",
       "        text-align: right;\n",
       "    }\n",
       "</style>\n",
       "<table border=\"1\" class=\"dataframe\">\n",
       "  <thead>\n",
       "    <tr style=\"text-align: right;\">\n",
       "      <th></th>\n",
       "      <th>Age</th>\n",
       "      <th>Sex</th>\n",
       "      <th>ChestPainType</th>\n",
       "      <th>RestingBP</th>\n",
       "      <th>Cholesterol</th>\n",
       "      <th>FastingBS</th>\n",
       "      <th>RestingECG</th>\n",
       "      <th>MaxHR</th>\n",
       "      <th>ExerciseAngina</th>\n",
       "      <th>Oldpeak</th>\n",
       "      <th>ST_Slope</th>\n",
       "      <th>HeartDisease</th>\n",
       "    </tr>\n",
       "  </thead>\n",
       "  <tbody>\n",
       "    <tr>\n",
       "      <th>0</th>\n",
       "      <td>40</td>\n",
       "      <td>1</td>\n",
       "      <td>1</td>\n",
       "      <td>140</td>\n",
       "      <td>289</td>\n",
       "      <td>0</td>\n",
       "      <td>1</td>\n",
       "      <td>172</td>\n",
       "      <td>0</td>\n",
       "      <td>0.0</td>\n",
       "      <td>2</td>\n",
       "      <td>0</td>\n",
       "    </tr>\n",
       "    <tr>\n",
       "      <th>1</th>\n",
       "      <td>49</td>\n",
       "      <td>0</td>\n",
       "      <td>2</td>\n",
       "      <td>160</td>\n",
       "      <td>180</td>\n",
       "      <td>0</td>\n",
       "      <td>1</td>\n",
       "      <td>156</td>\n",
       "      <td>0</td>\n",
       "      <td>1.0</td>\n",
       "      <td>1</td>\n",
       "      <td>1</td>\n",
       "    </tr>\n",
       "    <tr>\n",
       "      <th>2</th>\n",
       "      <td>37</td>\n",
       "      <td>1</td>\n",
       "      <td>1</td>\n",
       "      <td>130</td>\n",
       "      <td>283</td>\n",
       "      <td>0</td>\n",
       "      <td>2</td>\n",
       "      <td>98</td>\n",
       "      <td>0</td>\n",
       "      <td>0.0</td>\n",
       "      <td>2</td>\n",
       "      <td>0</td>\n",
       "    </tr>\n",
       "    <tr>\n",
       "      <th>3</th>\n",
       "      <td>48</td>\n",
       "      <td>0</td>\n",
       "      <td>0</td>\n",
       "      <td>138</td>\n",
       "      <td>214</td>\n",
       "      <td>0</td>\n",
       "      <td>1</td>\n",
       "      <td>108</td>\n",
       "      <td>1</td>\n",
       "      <td>1.5</td>\n",
       "      <td>1</td>\n",
       "      <td>1</td>\n",
       "    </tr>\n",
       "    <tr>\n",
       "      <th>4</th>\n",
       "      <td>54</td>\n",
       "      <td>1</td>\n",
       "      <td>2</td>\n",
       "      <td>150</td>\n",
       "      <td>195</td>\n",
       "      <td>0</td>\n",
       "      <td>1</td>\n",
       "      <td>122</td>\n",
       "      <td>0</td>\n",
       "      <td>0.0</td>\n",
       "      <td>2</td>\n",
       "      <td>0</td>\n",
       "    </tr>\n",
       "  </tbody>\n",
       "</table>\n",
       "</div>"
      ],
      "text/plain": [
       "   Age  Sex  ChestPainType  RestingBP  Cholesterol  FastingBS  RestingECG  \\\n",
       "0   40    1              1        140          289          0           1   \n",
       "1   49    0              2        160          180          0           1   \n",
       "2   37    1              1        130          283          0           2   \n",
       "3   48    0              0        138          214          0           1   \n",
       "4   54    1              2        150          195          0           1   \n",
       "\n",
       "   MaxHR  ExerciseAngina  Oldpeak  ST_Slope  HeartDisease  \n",
       "0    172               0      0.0         2             0  \n",
       "1    156               0      1.0         1             1  \n",
       "2     98               0      0.0         2             0  \n",
       "3    108               1      1.5         1             1  \n",
       "4    122               0      0.0         2             0  "
      ]
     },
     "execution_count": 2,
     "metadata": {},
     "output_type": "execute_result"
    }
   ],
   "source": [
    "heart_df = pd.read_csv('/Users/mucheng/Datasets/heart.csv')\n",
    "cat_columns = ['Sex', 'ChestPainType', 'RestingECG', 'ExerciseAngina', 'ST_Slope']\n",
    "heart_df[cat_columns] = heart_df[cat_columns].apply(LabelEncoder().fit_transform)\n",
    "heart_df.head()"
   ]
  },
  {
   "cell_type": "code",
   "execution_count": 316,
   "id": "1c964b4a",
   "metadata": {},
   "outputs": [
    {
     "data": {
      "text/plain": [
       "(918, 12)"
      ]
     },
     "execution_count": 316,
     "metadata": {},
     "output_type": "execute_result"
    }
   ],
   "source": [
    "heart_df.shape"
   ]
  },
  {
   "cell_type": "code",
   "execution_count": 315,
   "id": "21a7688e",
   "metadata": {},
   "outputs": [
    {
     "data": {
      "text/plain": [
       "1    508\n",
       "0    410\n",
       "Name: HeartDisease, dtype: int64"
      ]
     },
     "execution_count": 315,
     "metadata": {},
     "output_type": "execute_result"
    }
   ],
   "source": [
    "heart_df['HeartDisease'].value_counts()"
   ]
  },
  {
   "cell_type": "markdown",
   "id": "cf9a8c29",
   "metadata": {},
   "source": [
    "## Apply PCA"
   ]
  },
  {
   "cell_type": "markdown",
   "id": "2c93938d",
   "metadata": {},
   "source": [
    "### Standardize the Data"
   ]
  },
  {
   "cell_type": "code",
   "execution_count": 3,
   "id": "594c16a4",
   "metadata": {
    "scrolled": false
   },
   "outputs": [
    {
     "name": "stdout",
     "output_type": "stream",
     "text": [
      "[0.25139665 0.1330889  0.10512913 0.09088956 0.07916761 0.07695206\n",
      " 0.07333057 0.05675535 0.05066628 0.04557194 0.03705196]\n",
      "[0.25139665 0.38448554 0.48961467 0.58050423 0.65967184 0.73662391\n",
      " 0.80995448 0.86670982 0.9173761  0.96294804 1.        ]\n"
     ]
    },
    {
     "name": "stderr",
     "output_type": "stream",
     "text": [
      "/var/folders/dw/_3hp0rfn7rngzth_1dc9rh280000gn/T/ipykernel_10985/3724675732.py:1: FutureWarning: In a future version of pandas all arguments of DataFrame.drop except for the argument 'labels' will be keyword-only.\n",
      "  X = heart_df.drop(\"HeartDisease\", 1)\n"
     ]
    }
   ],
   "source": [
    "X = heart_df.drop(\"HeartDisease\", 1)\n",
    "y = heart_df.HeartDisease\n",
    "\n",
    "X = StandardScaler().fit_transform(X)\n",
    "\n",
    "X_pca = PCA().fit(X)\n",
    "explained_variance = X_pca.explained_variance_ratio_\n",
    "print(explained_variance)\n",
    "print(np.cumsum(explained_variance))"
   ]
  },
  {
   "cell_type": "code",
   "execution_count": 207,
   "id": "a6f91411",
   "metadata": {},
   "outputs": [],
   "source": [
    "# X_pca.components_ == eigenvalues"
   ]
  },
  {
   "cell_type": "markdown",
   "id": "bfad3bdc",
   "metadata": {},
   "source": [
    "### Scree Plot"
   ]
  },
  {
   "cell_type": "code",
   "execution_count": 208,
   "id": "8eaed359",
   "metadata": {
    "scrolled": true
   },
   "outputs": [
    {
     "data": {
      "image/png": "[encoded data removed]",
      "text/plain": [
       "<Figure size 432x288 with 1 Axes>"
      ]
     },
     "metadata": {},
     "output_type": "display_data"
    }
   ],
   "source": [
    "\n",
    "# # num_components = X_pca.n_features_\n",
    "# pc_list = [\"PC\"+str(i) for i in list(range(1, num_pc+1))]\n",
    "# cluster.screeplot(obj=[pc_list, X_pca.explained_variance_ratio_])\n",
    "\n",
    "\n",
    "# pca = PCA()\n",
    "# X_train = pca.fit_transform(X_train)\n",
    "# X_test = pca.transform(X_test)\n",
    "# explained_variance = pca.explained_variance_ratio_\n",
    "# explained_variance \n",
    "\n",
    "\n",
    "pca_values = np.arange(X_pca.n_components_) + 1\n",
    "plt.plot(pca_values, X_pca.explained_variance_ratio_, 'o-', linewidth=1, color='blue')\n",
    "plt.title('Scree Plot')\n",
    "plt.xlabel('Principal Component')\n",
    "plt.ylabel('Variance Explained')\n",
    "plt.show()"
   ]
  },
  {
   "cell_type": "markdown",
   "id": "1113f2fd",
   "metadata": {},
   "source": [
    "### Arrows Based on Eigenvalues and Eigenvectors\n",
    "Graph is shown in png file"
   ]
  },
  {
   "cell_type": "code",
   "execution_count": 209,
   "id": "4f046c1c",
   "metadata": {},
   "outputs": [],
   "source": [
    "pca_loadings = X_pca.components_\n",
    "pca_scores = PCA().fit_transform(X)\n",
    "cluster.biplot(cscore=pca_scores, loadings=pca_loadings, labels=heart_df.columns.values, var1=round(X_pca.explained_variance_ratio_[0]*100, 2),\n",
    "    var2=round(X_pca.explained_variance_ratio_[1]*100, 2))"
   ]
  },
  {
   "cell_type": "markdown",
   "id": "8a0c2282",
   "metadata": {},
   "source": [
    "## Implement Decision Tree Model"
   ]
  },
  {
   "cell_type": "markdown",
   "id": "0d36d6dd",
   "metadata": {},
   "source": [
    "## Build A Decision Tree\n",
    "Please note the following two blocks of code demonstrate how to build a decision tree \\\n",
    "are borrowed from \"Decision Tree Classification in Python (from scratch!)\" created by Normalized Nerd, https://www.youtube.com/watch?v=sgQAhG5Q7iY  \\\n",
    "\n",
    "Only for study purpose and comparing with other models"
   ]
  },
  {
   "cell_type": "code",
   "execution_count": 236,
   "id": "aea5fa7b",
   "metadata": {},
   "outputs": [],
   "source": [
    " class DT_Node():\n",
    "    def __init__(self, feature_index=None, threshold=None, left=None, right=None, info_gain=None, value=None):\n",
    "        self.feature_index = feature_index\n",
    "        self.threshold = threshold ## helps to split node\n",
    "        self.left = left\n",
    "        self.right = right\n",
    "        self.info_gain = info_gain ## find the best split\n",
    "        self.value = value\n",
    "   "
   ]
  },
  {
   "cell_type": "code",
   "execution_count": 237,
   "id": "06d3d607",
   "metadata": {},
   "outputs": [],
   "source": [
    "class DT_Model():\n",
    "    def __init__(self, min_samples_split=2, max_depth=2):\n",
    "        ''' constructor '''\n",
    "        \n",
    "        # initialize the root of the tree \n",
    "        self.root = None\n",
    "        \n",
    "        # stopping conditions\n",
    "        self.min_samples_split = min_samples_split\n",
    "        self.max_depth = max_depth\n",
    "        \n",
    "        \n",
    "    def build_tree(self, dataset, curr_depth=0):\n",
    "        ''' recursive function to build the tree ''' \n",
    "        \n",
    "        X, Y = dataset[:,:-1], dataset[:,-1]\n",
    "        num_samples, num_features = np.shape(X) \n",
    "        \n",
    "        # split until stopping conditions are met\n",
    "        if num_samples>=self.min_samples_split and curr_depth<=self.max_depth:\n",
    "            # find the best split\n",
    "            best_split = self.get_best_split(dataset, num_samples, num_features)\n",
    "            # check if information gain is positive\n",
    "            if best_split[\"info_gain\"]>0:\n",
    "                # recur left\n",
    "                left_subtree = self.build_tree(best_split[\"dataset_left\"], curr_depth+1)\n",
    "                # recur right\n",
    "                right_subtree = self.build_tree(best_split[\"dataset_right\"], curr_depth+1)\n",
    "                # return decision node\n",
    "                return DT_Node(best_split[\"feature_index\"], best_split[\"threshold\"], \n",
    "                            left_subtree, right_subtree, best_split[\"info_gain\"])\n",
    "        \n",
    "        # compute leaf node\n",
    "        leaf_value = self.calculate_leaf_value(Y)\n",
    "        # return leaf node\n",
    "        return DT_Node(value=leaf_value)\n",
    "    \n",
    "    def get_best_split(self, dataset, num_samples, num_features):\n",
    "        ''' function to find the best split '''\n",
    "        \n",
    "        # dictionary to store the best split\n",
    "        best_split = {}\n",
    "        max_info_gain = -float(\"inf\")\n",
    "        \n",
    "        # loop over all the features\n",
    "        for feature_index in range(num_features):\n",
    "            feature_values = dataset[:, feature_index]\n",
    "            possible_thresholds = np.unique(feature_values)\n",
    "            # loop over all the feature values present in the data\n",
    "            for threshold in possible_thresholds:\n",
    "                # get current split\n",
    "                dataset_left, dataset_right = self.split(dataset, feature_index, threshold)\n",
    "                # check if childs are not null\n",
    "                if len(dataset_left)>0 and len(dataset_right)>0:\n",
    "                    y, left_y, right_y = dataset[:, -1], dataset_left[:, -1], dataset_right[:, -1]\n",
    "                    # compute information gain\n",
    "                    curr_info_gain = self.information_gain(y, left_y, right_y, \"gini\")\n",
    "                    # update the best split if needed\n",
    "                    if curr_info_gain>max_info_gain:\n",
    "                        best_split[\"feature_index\"] = feature_index\n",
    "                        best_split[\"threshold\"] = threshold\n",
    "                        best_split[\"dataset_left\"] = dataset_left\n",
    "                        best_split[\"dataset_right\"] = dataset_right\n",
    "                        best_split[\"info_gain\"] = curr_info_gain\n",
    "                        max_info_gain = curr_info_gain\n",
    "                        \n",
    "        # return best split\n",
    "        return best_split\n",
    "    \n",
    "    def split(self, dataset, feature_index, threshold):\n",
    "        ''' function to split the data '''\n",
    "        \n",
    "        dataset_left = np.array([row for row in dataset if row[feature_index]<=threshold])\n",
    "        dataset_right = np.array([row for row in dataset if row[feature_index]>threshold])\n",
    "        return dataset_left, dataset_right\n",
    "    \n",
    "    def information_gain(self, parent, l_child, r_child, mode=\"entropy\"):\n",
    "        ''' function to compute information gain '''\n",
    "        \n",
    "        weight_l = len(l_child) / len(parent)\n",
    "        weight_r = len(r_child) / len(parent)\n",
    "        if mode==\"gini\":\n",
    "            gain = self.gini_index(parent) - (weight_l*self.gini_index(l_child) + weight_r*self.gini_index(r_child))\n",
    "        else:\n",
    "            gain = self.entropy(parent) - (weight_l*self.entropy(l_child) + weight_r*self.entropy(r_child))\n",
    "        return gain\n",
    "    \n",
    "    \n",
    "    def entropy(self, y):\n",
    "        ''' function to compute entropy '''\n",
    "        \n",
    "        class_labels = np.unique(y)\n",
    "        entropy = 0\n",
    "        for cls in class_labels:\n",
    "            p_cls = (y == cls).mean()\n",
    "            entropy += -p_cls * np.log2(p_cls)\n",
    "        return entropy\n",
    "    \n",
    "    def gini_index(self, y):\n",
    "        ''' function to compute gini index '''\n",
    "        \n",
    "        class_labels = np.unique(y)\n",
    "        gini = 0\n",
    "        for cls in class_labels:\n",
    "            p_cls = len(y[y == cls]) / len(y)\n",
    "            gini += p_cls**2\n",
    "        return 1 - gini\n",
    "        \n",
    "    def calculate_leaf_value(self, Y):\n",
    "        ''' function to compute leaf node '''\n",
    "        \n",
    "        Y = list(Y)\n",
    "        return max(Y, key=Y.count)\n",
    "    \n",
    "    def print_tree(self, tree=None, indent=\" \"):\n",
    "        ''' function to print the tree '''\n",
    "        \n",
    "        if not tree:\n",
    "            tree = self.root\n",
    "\n",
    "        if tree.value is not None:\n",
    "            print(tree.value)\n",
    "\n",
    "        else:\n",
    "            print(\"X_\"+str(tree.feature_index), \"<=\", tree.threshold, \"?\", tree.info_gain)\n",
    "            print(\"%sleft:\" % (indent), end=\"\")\n",
    "            self.print_tree(tree.left, indent + indent)\n",
    "            print(\"%sright:\" % (indent), end=\"\")\n",
    "            self.print_tree(tree.right, indent + indent)\n",
    "    \n",
    "    def fit(self, X, Y):\n",
    "        ''' function to train the tree '''\n",
    "        \n",
    "        dataset = np.concatenate((X, Y), axis=1)\n",
    "        self.root = self.build_tree(dataset)\n",
    "    \n",
    "    def predict(self, X):\n",
    "        ''' function to predict new dataset '''\n",
    "        \n",
    "        preditions = [self.make_prediction(x, self.root) for x in X]\n",
    "        return preditions\n",
    "    \n",
    "    def make_prediction(self, x, tree):\n",
    "        ''' function to predict a single data point '''\n",
    "        \n",
    "        if tree.value!=None: return tree.value\n",
    "        feature_val = x[tree.feature_index]\n",
    "        if feature_val<=tree.threshold:\n",
    "            return self.make_prediction(x, tree.left)\n",
    "        else:\n",
    "            return self.make_prediction(x, tree.right)\n",
    "\n"
   ]
  },
  {
   "cell_type": "code",
   "execution_count": 263,
   "id": "dcff96c2",
   "metadata": {},
   "outputs": [],
   "source": [
    "# heart_X = heart_df.iloc[:, :-1].values\n",
    "# heart_Y = heart_df.iloc[:, -1].values.reshape(-1,1)\n",
    "\n",
    "\n",
    "heart_X = X\n",
    "heart_Y = y.values.reshape(-1,1)\n",
    "from sklearn.model_selection import train_test_split\n",
    "X_train, X_test, Y_train, Y_test = train_test_split(heart_X, heart_Y, test_size=.2, random_state=41)\n",
    "\n",
    "\n",
    "\n",
    "# X_train, X_test, Y_train, Y_test = train_test_split(X, y, test_size=.2, random_state=41)"
   ]
  },
  {
   "cell_type": "code",
   "execution_count": 264,
   "id": "6130737b",
   "metadata": {
    "scrolled": true
   },
   "outputs": [
    {
     "name": "stdout",
     "output_type": "stream",
     "text": [
      "X_10 <= -0.5960781286477971 ? 0.20912139163151178\n",
      " left:X_2 <= -0.8169949500039223 ? 0.02723246990972128\n",
      "  left:X_1 <= -1.9381632242764861 ? 0.008223143153685997\n",
      "    left:1.0\n",
      "    right:1.0\n",
      "  right:X_7 <= -0.03180670686239484 ? 0.060743801652892504\n",
      "    left:1.0\n",
      "    right:1.0\n",
      " right:X_4 <= -1.8184347672830603 ? 0.07679893981203073\n",
      "  left:X_5 <= -0.5513413395776455 ? 0.14013840830449814\n",
      "    left:0.0\n",
      "    right:1.0\n",
      "  right:X_8 <= -0.8235562959371365 ? 0.030195305943106543\n",
      "    left:0.0\n",
      "    right:0.0\n"
     ]
    }
   ],
   "source": [
    "classifier = DT_Model(min_samples_split=2, max_depth=2)\n",
    "# classifier\n",
    "classifier.fit(X_train,Y_train)\n",
    "classifier.print_tree()\n"
   ]
  },
  {
   "cell_type": "code",
   "execution_count": 265,
   "id": "a32ebc86",
   "metadata": {},
   "outputs": [
    {
     "data": {
      "text/plain": [
       "0.7880434782608695"
      ]
     },
     "execution_count": 265,
     "metadata": {},
     "output_type": "execute_result"
    }
   ],
   "source": [
    "y_predictions = classifier.predict(X_test)\n",
    "accuracy_score(Y_test, y_predictions)"
   ]
  },
  {
   "cell_type": "code",
   "execution_count": 266,
   "id": "f3839347",
   "metadata": {},
   "outputs": [
    {
     "data": {
      "text/plain": [
       "0.7847296494355318"
      ]
     },
     "execution_count": 266,
     "metadata": {},
     "output_type": "execute_result"
    }
   ],
   "source": [
    "false_positive_rate, true_positive_rate, thresholds = roc_curve(Y_test, y_predictions)\n",
    "roc_auc = auc(false_positive_rate, true_positive_rate)\n",
    "roc_auc"
   ]
  },
  {
   "cell_type": "code",
   "execution_count": 267,
   "id": "5f346f81",
   "metadata": {},
   "outputs": [
    {
     "data": {
      "image/png": "[encoded data removed]",
      "text/plain": [
       "<Figure size 360x360 with 1 Axes>"
      ]
     },
     "metadata": {},
     "output_type": "display_data"
    }
   ],
   "source": [
    "from plot_metric.functions import BinaryClassification\n",
    "# Visualisation with plot_metric\n",
    "bc = BinaryClassification(Y_test, y_predictions, labels=[\"Class 1\", \"Class 2\"])\n",
    "\n",
    "# Figures\n",
    "plt.figure(figsize=(5,5))\n",
    "bc.plot_roc_curve()\n",
    "plt.show()\n"
   ]
  },
  {
   "cell_type": "markdown",
   "id": "88b35edd",
   "metadata": {},
   "source": [
    "## Test Built-in Classification Models"
   ]
  },
  {
   "cell_type": "markdown",
   "id": "ac7ea3b9",
   "metadata": {},
   "source": [
    "### No.1 Use Decision Tree Classfier"
   ]
  },
  {
   "cell_type": "markdown",
   "id": "ed590bbd",
   "metadata": {},
   "source": [
    "### Baseline Decision Tree \n",
    "'ccp_alpha': 0.0, \\\n",
    "'class_weight': None, \\\n",
    "'criterion': 'gini', \\\n",
    "'max_depth': None, how deep the tree can be. \\\n",
    "'max_features': None,\\\n",
    "'max_leaf_nodes': None, \\\n",
    "'min_impurity_decrease': 0.0, \\\n",
    "'min_samples_leaf': 1, \\\n",
    "'min_samples_split': 2, It helps to stop tree growth and control overfitting \\\n",
    "'min_weight_fraction_leaf': 0.0, \\\n",
    "'random_state': None, \\\n",
    "'splitter': 'best' \n"
   ]
  },
  {
   "cell_type": "code",
   "execution_count": 246,
   "id": "7c351e65",
   "metadata": {},
   "outputs": [
    {
     "data": {
      "text/plain": [
       "{'ccp_alpha': 0.0,\n",
       " 'class_weight': None,\n",
       " 'criterion': 'gini',\n",
       " 'max_depth': None,\n",
       " 'max_features': None,\n",
       " 'max_leaf_nodes': None,\n",
       " 'min_impurity_decrease': 0.0,\n",
       " 'min_samples_leaf': 1,\n",
       " 'min_samples_split': 2,\n",
       " 'min_weight_fraction_leaf': 0.0,\n",
       " 'random_state': None,\n",
       " 'splitter': 'best'}"
      ]
     },
     "execution_count": 246,
     "metadata": {},
     "output_type": "execute_result"
    }
   ],
   "source": [
    "DT_clf = DecisionTreeClassifier()\n",
    "DT_clf.get_params()\n"
   ]
  },
  {
   "cell_type": "code",
   "execution_count": 255,
   "id": "add5fbf2",
   "metadata": {},
   "outputs": [
    {
     "data": {
      "text/plain": [
       "0.8152173913043478"
      ]
     },
     "execution_count": 255,
     "metadata": {},
     "output_type": "execute_result"
    }
   ],
   "source": [
    "\n",
    "DT_clf = DT_clf.fit(X_train,Y_train)\n",
    "baseline_DT_y_pred = DT_clf.predict(X_test)\n",
    "accuracy_score(Y_test, baseline_DT_y_pred)"
   ]
  },
  {
   "cell_type": "code",
   "execution_count": 256,
   "id": "5f5e44ed",
   "metadata": {},
   "outputs": [
    {
     "data": {
      "text/plain": [
       "0.8149732620320856"
      ]
     },
     "execution_count": 256,
     "metadata": {},
     "output_type": "execute_result"
    }
   ],
   "source": [
    "from sklearn.metrics import roc_curve, auc\n",
    "false_positive_rate, true_positive_rate, thresholds = roc_curve(Y_test, baseline_DT_y_pred)\n",
    "roc_auc = auc(false_positive_rate, true_positive_rate)\n",
    "roc_auc"
   ]
  },
  {
   "cell_type": "code",
   "execution_count": 314,
   "id": "05efb4d4",
   "metadata": {},
   "outputs": [
    {
     "name": "stdout",
     "output_type": "stream",
     "text": [
      "Area Under the Curve:  0.8149732620320856\n",
      "              precision    recall  f1-score   support\n",
      "\n",
      "           0       0.79      0.81      0.80        85\n",
      "           1       0.84      0.82      0.83        99\n",
      "\n",
      "    accuracy                           0.82       184\n",
      "   macro avg       0.81      0.81      0.81       184\n",
      "weighted avg       0.82      0.82      0.82       184\n",
      "\n",
      "MSE: 0.4965884924385634 Bias: 71.08603260869565 Variance: 0.11025135869565217\n"
     ]
    },
    {
     "data": {
      "text/plain": [
       "array([[81, 18],\n",
       "       [16, 69]])"
      ]
     },
     "execution_count": 314,
     "metadata": {},
     "output_type": "execute_result"
    }
   ],
   "source": [
    "false_positive_rate, true_positive_rate, thresholds = roc_curve(Y_test, baseline_DT_y_pred)\n",
    "roc_auc = auc(false_positive_rate, true_positive_rate)\n",
    "print(\"Area Under the Curve: \", roc_auc)\n",
    "\n",
    "#Calculate F1 Value\n",
    "print(classification_report(Y_test, baseline_DT_y_pred))\n",
    "\n",
    "#Calculate MSE, Bias, and Variance Values\n",
    "mse, bias, var = bias_variance_decomp(DT_for_ptuning, X_train, Y_train, X_test, Y_test, loss='mse', random_seed=1)\n",
    "print(\"MSE: \" + str(mse),\"Bias: \" + str(bias), \"Variance: \" + str(var))\n",
    "\n",
    "#Compute Confusion Matrix\n",
    "V1_DT_GS_confusion_matrix = calculate_confusion_matrix(Y_test, baseline_DT_y_pred)\n",
    "V1_DT_GS_confusion_matrix"
   ]
  },
  {
   "cell_type": "code",
   "execution_count": 257,
   "id": "dab57550",
   "metadata": {
    "scrolled": true
   },
   "outputs": [
    {
     "data": {
      "image/png": "[encoded data removed]",
      "text/plain": [
       "<Figure size 360x360 with 1 Axes>"
      ]
     },
     "metadata": {},
     "output_type": "display_data"
    }
   ],
   "source": [
    "from plot_metric.functions import BinaryClassification\n",
    "# Visualisation with plot_metric\n",
    "bc = BinaryClassification(Y_test, baseline_DT_y_pred, labels=[\"Class 1\", \"Class 2\"])\n",
    "\n",
    "# Figures\n",
    "plt.figure(figsize=(5,5))\n",
    "bc.plot_roc_curve()\n",
    "plt.show()\n"
   ]
  },
  {
   "cell_type": "markdown",
   "id": "c0e60af6",
   "metadata": {},
   "source": [
    "### Baseline Model"
   ]
  },
  {
   "cell_type": "code",
   "execution_count": 323,
   "id": "031a60c2",
   "metadata": {},
   "outputs": [],
   "source": [
    "# Preparing GridSearch for data set:\n",
    "b_DT_parameters = {\n",
    "    \n",
    "    'criterion': ['gini'],\n",
    "    'max_depth': [2], \n",
    "    'min_impurity_decrease': [0.0],\n",
    "    'min_samples_leaf': [1],\n",
    "    'min_samples_split': [1.0],\n",
    "    'min_weight_fraction_leaf': [0.0],\n",
    "    'splitter': ['best']\n",
    "\n",
    "}\n",
    "\n",
    "b_DT_for_ptuning = DecisionTreeClassifier()\n",
    "b_DT_GS = GridSearchCV(b_DT_for_ptuning,                    # model\n",
    "                   param_grid = b_DT_parameters,   # hyperparameters\n",
    "                   scoring='accuracy',        # metric for scoring\n",
    "                   cv=10) \n",
    "\n",
    "b_DT_GS = b_DT_GS.fit(X_train, Y_train)\n",
    "b_DT_GS_predictions = b_DT_GS.predict(X_test)\n",
    "\n"
   ]
  },
  {
   "cell_type": "code",
   "execution_count": 324,
   "id": "1a71dbf1",
   "metadata": {},
   "outputs": [
    {
     "name": "stdout",
     "output_type": "stream",
     "text": [
      "Area Under the Curve:  0.7544266191325015\n",
      "              precision    recall  f1-score   support\n",
      "\n",
      "           0       0.73      0.74      0.74        85\n",
      "           1       0.78      0.77      0.77        99\n",
      "\n",
      "    accuracy                           0.76       184\n",
      "   macro avg       0.75      0.75      0.75       184\n",
      "weighted avg       0.76      0.76      0.76       184\n",
      "\n",
      "MSE: 0.4967063445179584 Bias: 70.87504239130433 Variance: 0.11151589673913043\n"
     ]
    },
    {
     "data": {
      "text/plain": [
       "array([[76, 23],\n",
       "       [22, 63]])"
      ]
     },
     "execution_count": 324,
     "metadata": {},
     "output_type": "execute_result"
    }
   ],
   "source": [
    "false_positive_rate, true_positive_rate, thresholds = roc_curve(Y_test, b_DT_GS_predictions)\n",
    "roc_auc = auc(false_positive_rate, true_positive_rate)\n",
    "print(\"Area Under the Curve: \", roc_auc)\n",
    "\n",
    "#Calculate F1 Value\n",
    "print(classification_report(Y_test, b_DT_GS_predictions))\n",
    "\n",
    "#Calculate MSE, Bias, and Variance Values\n",
    "mse, bias, var = bias_variance_decomp(DT_for_ptuning, X_train, Y_train, X_test, Y_test, loss='mse', random_seed=1)\n",
    "print(\"MSE: \" + str(mse),\"Bias: \" + str(bias), \"Variance: \" + str(var))\n",
    "\n",
    "#Compute Confusion Matrix\n",
    "b_DT_GS_confusion_matrix = calculate_confusion_matrix(Y_test, b_DT_GS_predictions)\n",
    "b_DT_GS_confusion_matrix"
   ]
  },
  {
   "cell_type": "markdown",
   "id": "b7138db3",
   "metadata": {},
   "source": [
    "### Calculate Confusion Matrix"
   ]
  },
  {
   "cell_type": "code",
   "execution_count": 13,
   "id": "d2f9573e",
   "metadata": {},
   "outputs": [],
   "source": [
    "#Input actual result and predictions\n",
    "#Output confusion matrix\n",
    "\n",
    "def calculate_confusion_matrix(actual, predicted):\n",
    "    tp = 0\n",
    "    tn = 0\n",
    "    fp = 0\n",
    "    fn = 0\n",
    "    \n",
    "    for a_val, p_val in zip(actual, predicted):\n",
    "        if a_val == p_val:\n",
    "            if a_val == 1.0:\n",
    "                tp += 1\n",
    "            else:\n",
    "                tn += 1\n",
    "        else:\n",
    "            if a_val == 1.0:\n",
    "                fp += 1\n",
    "            else:\n",
    "                fn += 1\n",
    "    confusion_matrix = [\n",
    "        [tp, fp],\n",
    "        [fn, tn]\n",
    "    ]\n",
    "    confusion_matrix = np.array(confusion_matrix)\n",
    "\n",
    "    \n",
    "    return confusion_matrix"
   ]
  },
  {
   "cell_type": "markdown",
   "id": "7ebce15d",
   "metadata": {},
   "source": [
    "### Try V1. with max_depth\n",
    "increase max_depth from 2 to 4"
   ]
  },
  {
   "cell_type": "markdown",
   "id": "38c49863",
   "metadata": {},
   "source": [
    "### Variation 1. Max_Depth\n",
    "The deeper the tree, the more splits it has and it captures more information about the data."
   ]
  },
  {
   "cell_type": "code",
   "execution_count": 269,
   "id": "7797d764",
   "metadata": {},
   "outputs": [],
   "source": [
    "# Preparing GridSearch \n",
    "V1_DT_parameters = {\n",
    "    \n",
    "    'ccp_alpha': [0.0],\n",
    "    'criterion': ['gini'],\n",
    "    'max_depth': [4], \n",
    "    'min_impurity_decrease': [0.0],\n",
    "    'min_samples_leaf': [1],\n",
    "    'min_samples_split': [2],\n",
    "    'min_weight_fraction_leaf': [0.0],\n",
    "    'splitter': ['best']\n",
    "\n",
    "}\n",
    "\n",
    "DT_for_ptuning = DecisionTreeClassifier()\n",
    "V1_DT_GS = GridSearchCV(DT_for_ptuning,                    # model\n",
    "                   param_grid = V1_DT_parameters,   # hyperparameters\n",
    "                   scoring='accuracy',        # metric for scoring\n",
    "                   cv=10) \n",
    "\n",
    "V1_DT_GS = V1_DT_GS.fit(X_train, Y_train)\n",
    "V1_DT_GS_predictions = V1_DT_GS.predict(X_test)\n",
    "\n"
   ]
  },
  {
   "cell_type": "code",
   "execution_count": 270,
   "id": "af78b2f7",
   "metadata": {},
   "outputs": [
    {
     "name": "stdout",
     "output_type": "stream",
     "text": [
      "Best max_depth: {'ccp_alpha': 0.0, 'criterion': 'gini', 'max_depth': 4, 'min_impurity_decrease': 0.0, 'min_samples_leaf': 1, 'min_samples_split': 2, 'min_weight_fraction_leaf': 0.0, 'splitter': 'best'}\n"
     ]
    }
   ],
   "source": [
    "# print(\"Best max_depth:\", V1_DT_GS.best_estimator_.get_params()['max_depth'])\n",
    "print(\"Best max_depth:\", V1_DT_GS.best_params_)\n"
   ]
  },
  {
   "cell_type": "code",
   "execution_count": 271,
   "id": "64f4f671",
   "metadata": {
    "scrolled": true
   },
   "outputs": [
    {
     "name": "stdout",
     "output_type": "stream",
     "text": [
      "Area Under the Curve:  0.8301841948900772\n",
      "              precision    recall  f1-score   support\n",
      "\n",
      "           0       0.89      0.74      0.81        85\n",
      "           1       0.81      0.92      0.86        99\n",
      "\n",
      "    accuracy                           0.84       184\n",
      "   macro avg       0.85      0.83      0.83       184\n",
      "weighted avg       0.84      0.84      0.84       184\n",
      "\n",
      "MSE: 0.49670220935727794 Bias: 70.89723152173913 Variance: 0.11139116847826086\n"
     ]
    },
    {
     "data": {
      "text/plain": [
       "array([[91,  8],\n",
       "       [22, 63]])"
      ]
     },
     "execution_count": 271,
     "metadata": {},
     "output_type": "execute_result"
    }
   ],
   "source": [
    "\n",
    "false_positive_rate, true_positive_rate, thresholds = roc_curve(Y_test, V1_DT_GS_predictions)\n",
    "roc_auc = auc(false_positive_rate, true_positive_rate)\n",
    "print(\"Area Under the Curve: \", roc_auc)\n",
    "\n",
    "#Calculate F1 Value\n",
    "print(classification_report(Y_test, V1_DT_GS_predictions))\n",
    "\n",
    "#Calculate MSE, Bias, and Variance Values\n",
    "mse, bias, var = bias_variance_decomp(DT_for_ptuning, X_train, Y_train, X_test, Y_test, loss='mse', random_seed=1)\n",
    "print(\"MSE: \" + str(mse),\"Bias: \" + str(bias), \"Variance: \" + str(var))\n",
    "\n",
    "#Compute Confusion Matrix\n",
    "V1_DT_GS_confusion_matrix = calculate_confusion_matrix(Y_test, V1_DT_GS_predictions)\n",
    "V1_DT_GS_confusion_matrix"
   ]
  },
  {
   "cell_type": "code",
   "execution_count": 311,
   "id": "e0d80ab4",
   "metadata": {},
   "outputs": [
    {
     "data": {
      "image/png": "[encoded data removed]",
      "text/plain": [
       "<Figure size 360x360 with 1 Axes>"
      ]
     },
     "metadata": {},
     "output_type": "display_data"
    }
   ],
   "source": [
    "\n",
    "false_positive_rate, true_positive_rate, thresholds = roc_curve(Y_test, V1_DT_GS_predictions)\n",
    "roc_auc = auc(false_positive_rate, true_positive_rate)\n",
    "roc_auc\n",
    "\n",
    "from plot_metric.functions import BinaryClassification\n",
    "# Visualisation with plot_metric\n",
    "bc = BinaryClassification(Y_test, V1_DT_GS_predictions, labels=[\"Class 1\", \"Class 2\"])\n",
    "\n",
    "# Figures\n",
    "plt.figure(figsize=(5,5))\n",
    "bc.plot_roc_curve()\n",
    "plt.show()"
   ]
  },
  {
   "cell_type": "markdown",
   "id": "9e381fbd",
   "metadata": {},
   "source": [
    "### Variation 2.  Minimum Samples Leaf"
   ]
  },
  {
   "cell_type": "code",
   "execution_count": 284,
   "id": "848fbc82",
   "metadata": {},
   "outputs": [],
   "source": [
    "# Preparing GridSearch\n",
    "V2_DT_parameters = {\n",
    "    \n",
    "    'ccp_alpha': [0.0],\n",
    "    'criterion': ['gini'],\n",
    "    'max_depth': [4], \n",
    "    'min_impurity_decrease': [0.0],\n",
    "    'min_samples_leaf': [1],\n",
    "    'min_samples_split': [2],\n",
    "    'min_weight_fraction_leaf': [0.0],\n",
    "    'splitter': ['best'],\n",
    "    'max_features': [None] #,\"auto\",\"log2\",\"sqrt\",None],\n",
    "}\n",
    "\n",
    "DT_for_ptuning = DecisionTreeClassifier()\n",
    "V2_DT_GS = GridSearchCV(DT_for_ptuning,                    # model\n",
    "                   param_grid = V2_DT_parameters,   # hyperparameters\n",
    "                   scoring='accuracy',        # metric for scoring\n",
    "                   cv=10) \n",
    "\n",
    "V2_DT_GS = V2_DT_GS.fit(X_train, Y_train)\n",
    "V2_DT_GS_predictions = V2_DT_GS.predict(X_test)"
   ]
  },
  {
   "cell_type": "code",
   "execution_count": 285,
   "id": "8894345c",
   "metadata": {},
   "outputs": [
    {
     "name": "stdout",
     "output_type": "stream",
     "text": [
      "Best max_depth: {'ccp_alpha': 0.0, 'criterion': 'gini', 'max_depth': 4, 'max_features': None, 'min_impurity_decrease': 0.0, 'min_samples_leaf': 1, 'min_samples_split': 2, 'min_weight_fraction_leaf': 0.0, 'splitter': 'best'}\n"
     ]
    }
   ],
   "source": [
    "print(\"Best max_depth:\", V2_DT_GS.best_params_)"
   ]
  },
  {
   "cell_type": "code",
   "execution_count": 286,
   "id": "a7cd9714",
   "metadata": {
    "scrolled": true
   },
   "outputs": [
    {
     "name": "stdout",
     "output_type": "stream",
     "text": [
      "Area Under the Curve:  0.8301841948900772\n",
      "              precision    recall  f1-score   support\n",
      "\n",
      "           0       0.89      0.74      0.81        85\n",
      "           1       0.81      0.92      0.86        99\n",
      "\n",
      "    accuracy                           0.84       184\n",
      "   macro avg       0.85      0.83      0.83       184\n",
      "weighted avg       0.84      0.84      0.84       184\n",
      "\n",
      "MSE: 0.49672495274102085 Bias: 71.01709130434783 Variance: 0.1107625\n"
     ]
    },
    {
     "data": {
      "text/plain": [
       "array([[91,  8],\n",
       "       [22, 63]])"
      ]
     },
     "execution_count": 286,
     "metadata": {},
     "output_type": "execute_result"
    }
   ],
   "source": [
    "\n",
    "false_positive_rate, true_positive_rate, thresholds = roc_curve(Y_test, V2_DT_GS_predictions)\n",
    "roc_auc = auc(false_positive_rate, true_positive_rate)\n",
    "print(\"Area Under the Curve: \", roc_auc)\n",
    "\n",
    "#Calculate F1 Value\n",
    "print(classification_report(Y_test, V2_DT_GS_predictions))\n",
    "\n",
    "#Calculate MSE, Bias, and Variance Values\n",
    "mse, bias, var = bias_variance_decomp(DT_for_ptuning, X_train, Y_train, X_test, Y_test, loss='mse', random_seed=1)\n",
    "print(\"MSE: \" + str(mse),\"Bias: \" + str(bias), \"Variance: \" + str(var))\n",
    "\n",
    "#Compute Confusion Matrix\n",
    "V2_DT_GS_confusion_matrix = calculate_confusion_matrix(Y_test, V2_DT_GS_predictions)\n",
    "V2_DT_GS_confusion_matrix"
   ]
  },
  {
   "cell_type": "code",
   "execution_count": 312,
   "id": "022e3906",
   "metadata": {},
   "outputs": [
    {
     "data": {
      "image/png": "[encoded data removed]",
      "text/plain": [
       "<Figure size 360x360 with 1 Axes>"
      ]
     },
     "metadata": {},
     "output_type": "display_data"
    }
   ],
   "source": [
    "from sklearn.metrics import roc_curve, auc\n",
    "false_positive_rate, true_positive_rate, thresholds = roc_curve(Y_test, V2_DT_GS_predictions)\n",
    "roc_auc = auc(false_positive_rate, true_positive_rate)\n",
    "roc_auc\n",
    "\n",
    "from plot_metric.functions import BinaryClassification\n",
    "# Visualisation with plot_metric\n",
    "bc = BinaryClassification(Y_test, V2_DT_GS_predictions, labels=[\"Class 1\", \"Class 2\"])\n",
    "\n",
    "# Figures\n",
    "plt.figure(figsize=(5,5))\n",
    "bc.plot_roc_curve()\n",
    "plt.show()"
   ]
  },
  {
   "cell_type": "markdown",
   "id": "c5862aff",
   "metadata": {},
   "source": [
    "### Variation 3.  Minimum Samples Split"
   ]
  },
  {
   "cell_type": "code",
   "execution_count": 305,
   "id": "75811081",
   "metadata": {},
   "outputs": [],
   "source": [
    "# Preparing GridSearch \n",
    "V3_DT_parameters = {\n",
    "    'ccp_alpha': [0.0],\n",
    "    'criterion': ['gini'],\n",
    "    'max_depth': [4], \n",
    "    'min_impurity_decrease': [0.0],\n",
    "    'min_samples_leaf': [1],\n",
    "    'min_samples_split': [2],\n",
    "    'min_weight_fraction_leaf': [0.0],\n",
    "    'splitter': ['best'],\n",
    "    \"max_leaf_nodes\": [10], #[None,10,20,30,40,50,60,70,80,90],\n",
    "    'max_features': [None] #,\"auto\",\"log2\",\"sqrt\",None],\n",
    "}\n",
    "\n",
    "DT_for_ptuning = DecisionTreeClassifier()\n",
    "V3_DT_GS = GridSearchCV(DT_for_ptuning,                    # model\n",
    "                   param_grid = V3_DT_parameters,   # hyperparameters\n",
    "                   scoring='accuracy',        # metric for scoring\n",
    "                   cv=10) \n",
    "\n",
    "V3_DT_GS = V3_DT_GS.fit(X_train, Y_train)\n",
    "V3_DT_GS_predictions = V3_DT_GS.predict(X_test)"
   ]
  },
  {
   "cell_type": "code",
   "execution_count": 306,
   "id": "5aa2445d",
   "metadata": {},
   "outputs": [
    {
     "name": "stdout",
     "output_type": "stream",
     "text": [
      "Best max_depth: {'ccp_alpha': 0.0, 'criterion': 'gini', 'max_depth': 4, 'max_features': None, 'max_leaf_nodes': 10, 'min_impurity_decrease': 0.0, 'min_samples_leaf': 1, 'min_samples_split': 2, 'min_weight_fraction_leaf': 0.0, 'splitter': 'best'}\n"
     ]
    }
   ],
   "source": [
    "print(\"Best max_depth:\", V3_DT_GS.best_params_)"
   ]
  },
  {
   "cell_type": "code",
   "execution_count": 307,
   "id": "e9d48fad",
   "metadata": {
    "scrolled": true
   },
   "outputs": [
    {
     "name": "stdout",
     "output_type": "stream",
     "text": [
      "Area Under the Curve:  0.854486036838978\n",
      "              precision    recall  f1-score   support\n",
      "\n",
      "           0       0.82      0.87      0.85        85\n",
      "           1       0.88      0.84      0.86        99\n",
      "\n",
      "    accuracy                           0.85       184\n",
      "   macro avg       0.85      0.85      0.85       184\n",
      "weighted avg       0.85      0.85      0.85       184\n",
      "\n",
      "MSE: 0.49662364130434783 Bias: 70.98577499999999 Variance: 0.11083138586956522\n"
     ]
    },
    {
     "data": {
      "text/plain": [
       "array([[83, 16],\n",
       "       [11, 74]])"
      ]
     },
     "execution_count": 307,
     "metadata": {},
     "output_type": "execute_result"
    }
   ],
   "source": [
    "\n",
    "false_positive_rate, true_positive_rate, thresholds = roc_curve(Y_test, V3_DT_GS_predictions)\n",
    "roc_auc = auc(false_positive_rate, true_positive_rate)\n",
    "print(\"Area Under the Curve: \", roc_auc)\n",
    "\n",
    "#Calculate F1 Value\n",
    "print(classification_report(Y_test, V3_DT_GS_predictions))\n",
    "\n",
    "#Calculate MSE, Bias, and Variance Values\n",
    "mse, bias, var = bias_variance_decomp(DT_for_ptuning, X_train, Y_train, X_test, Y_test, loss='mse', random_seed=1)\n",
    "print(\"MSE: \" + str(mse),\"Bias: \" + str(bias), \"Variance: \" + str(var))\n",
    "\n",
    "#Compute Confusion Matrix\n",
    "V3_DT_GS_confusion_matrix = calculate_confusion_matrix(Y_test, V3_DT_GS_predictions)\n",
    "V3_DT_GS_confusion_matrix"
   ]
  },
  {
   "cell_type": "code",
   "execution_count": 313,
   "id": "179fa1db",
   "metadata": {},
   "outputs": [
    {
     "data": {
      "image/png": "[encoded data removed]",
      "text/plain": [
       "<Figure size 360x360 with 1 Axes>"
      ]
     },
     "metadata": {},
     "output_type": "display_data"
    }
   ],
   "source": [
    "from sklearn.metrics import roc_curve, auc\n",
    "false_positive_rate, true_positive_rate, thresholds = roc_curve(Y_test, V3_DT_GS_predictions)\n",
    "roc_auc = auc(false_positive_rate, true_positive_rate)\n",
    "roc_auc\n",
    "\n",
    "from plot_metric.functions import BinaryClassification\n",
    "# Visualisation with plot_metric\n",
    "bc = BinaryClassification(Y_test, V3_DT_GS_predictions, labels=[\"Class 1\", \"Class 2\"])\n",
    "\n",
    "# Figures\n",
    "plt.figure(figsize=(5,5))\n",
    "bc.plot_roc_curve()\n",
    "plt.show()"
   ]
  },
  {
   "cell_type": "code",
   "execution_count": 308,
   "id": "5f982e11",
   "metadata": {},
   "outputs": [],
   "source": [
    "V3_DT_GS_best_param = V3_DT_GS.best_estimator_\n"
   ]
  },
  {
   "cell_type": "code",
   "execution_count": 309,
   "id": "836136a9",
   "metadata": {},
   "outputs": [],
   "source": [
    "from sklearn import tree\n",
    "def get_dt_graph(dt_classifier):\n",
    "    fig = plt.figure(figsize=(25,20))\n",
    "    _ = tree.plot_tree(dt_classifier,\n",
    "                       feature_names=heart_df.columns,\n",
    "                       class_names=['No Disease', \"Disease\"],\n",
    "                       filled=True)"
   ]
  },
  {
   "cell_type": "code",
   "execution_count": 310,
   "id": "81e9ee5f",
   "metadata": {
    "scrolled": true
   },
   "outputs": [
    {
     "data": {
      "image/png": "[encoded data removed]",
      "text/plain": [
       "<Figure size 1800x1440 with 1 Axes>"
      ]
     },
     "metadata": {},
     "output_type": "display_data"
    }
   ],
   "source": [
    "get_dt_graph(V3_DT_GS_best_param)"
   ]
  },
  {
   "cell_type": "markdown",
   "id": "f1ca47f1",
   "metadata": {},
   "source": [
    "## Other Models"
   ]
  },
  {
   "cell_type": "markdown",
   "id": "5c947972",
   "metadata": {},
   "source": [
    "### Split the dataset using PCA projected data"
   ]
  },
  {
   "cell_type": "code",
   "execution_count": 5,
   "id": "101a8b23",
   "metadata": {},
   "outputs": [],
   "source": [
    "from sklearn.model_selection import train_test_split\n",
    "pca_X_train, pca_X_test, pca_Y_train, pca_Y_test = train_test_split(X, y, test_size=.2, random_state=41)\n"
   ]
  },
  {
   "cell_type": "markdown",
   "id": "85fd5ca7",
   "metadata": {},
   "source": [
    "## Random Forest Model"
   ]
  },
  {
   "cell_type": "code",
   "execution_count": 27,
   "id": "3b8972a5",
   "metadata": {},
   "outputs": [
    {
     "name": "stdout",
     "output_type": "stream",
     "text": [
      "0.8586956521739131\n",
      "{'bootstrap': True, 'ccp_alpha': 0.0, 'class_weight': None, 'criterion': 'gini', 'max_depth': None, 'max_features': 'auto', 'max_leaf_nodes': None, 'max_samples': None, 'min_impurity_decrease': 0.0, 'min_samples_leaf': 1, 'min_samples_split': 2, 'min_weight_fraction_leaf': 0.0, 'n_estimators': 100, 'n_jobs': None, 'oob_score': False, 'random_state': None, 'verbose': 0, 'warm_start': False}\n"
     ]
    }
   ],
   "source": [
    "from sklearn.ensemble import RandomForestClassifier\n",
    "RF_clf = RandomForestClassifier()\n",
    "RF_clf = RF_clf.fit(pca_X_train,pca_Y_train)\n",
    "baseline_RF_y_pred = RF_clf.predict(pca_X_test)\n",
    "print(accuracy_score(pca_Y_test, baseline_RF_y_pred))\n",
    "print(RF_clf.get_params())"
   ]
  },
  {
   "cell_type": "code",
   "execution_count": 30,
   "id": "fa2ecd3b",
   "metadata": {},
   "outputs": [],
   "source": [
    "# Preparing GridSearch \n",
    "RF_clf_parameters = {\n",
    "    'bootstrap': [True, False],\n",
    "    'max_depth': [10, 20, 30, None],\n",
    "    'max_features': ['auto', 'sqrt'],\n",
    "    'min_samples_leaf': [1, 2, 4],\n",
    "    'min_samples_split': [2, 5, 10]\n",
    "}\n",
    "                     \n",
    "\n",
    "RF_clf_for_ptuning = RandomForestClassifier()\n",
    "RF_clf_GS = GridSearchCV(RF_clf_for_ptuning,                    # model\n",
    "                   param_grid = RF_clf_parameters,   # hyperparameters\n",
    "                   scoring='accuracy',        # metric for scoring\n",
    "                   cv=10) \n",
    "\n",
    "RF_clf_GS = RF_clf_GS.fit(pca_X_train, pca_Y_train)\n",
    "RF_clf_GS_predictions = RF_clf_GS.predict(pca_X_test)"
   ]
  },
  {
   "cell_type": "code",
   "execution_count": 31,
   "id": "10472c8a",
   "metadata": {},
   "outputs": [
    {
     "name": "stdout",
     "output_type": "stream",
     "text": [
      "Area Under the Curve:  0.8562091503267972\n",
      "              precision    recall  f1-score   support\n",
      "\n",
      "           0       0.86      0.82      0.84        85\n",
      "           1       0.85      0.89      0.87        99\n",
      "\n",
      "    accuracy                           0.86       184\n",
      "   macro avg       0.86      0.86      0.86       184\n",
      "weighted avg       0.86      0.86      0.86       184\n",
      "\n"
     ]
    },
    {
     "data": {
      "text/plain": [
       "array([[88, 11],\n",
       "       [15, 70]])"
      ]
     },
     "execution_count": 31,
     "metadata": {},
     "output_type": "execute_result"
    }
   ],
   "source": [
    "false_positive_rate, true_positive_rate, thresholds = roc_curve(pca_Y_test, RF_clf_GS_predictions)\n",
    "roc_auc = auc(false_positive_rate, true_positive_rate)\n",
    "print(\"Area Under the Curve: \", roc_auc)\n",
    "\n",
    "#Calculate F1 Value\n",
    "print(classification_report(pca_Y_test, RF_clf_GS_predictions))\n",
    "\n",
    "#Compute Confusion Matrix\n",
    "RF_clf_GS_confusion_matrix = calculate_confusion_matrix(pca_Y_test, RF_clf_GS_predictions)\n",
    "RF_clf_GS_confusion_matrix"
   ]
  },
  {
   "cell_type": "markdown",
   "id": "8def9b7d",
   "metadata": {},
   "source": [
    "### KNN Model\n",
    "Improved accuracy score of the base model from 0.8586956521739131 to 0.8906714200831848"
   ]
  },
  {
   "cell_type": "code",
   "execution_count": 11,
   "id": "be07427f",
   "metadata": {},
   "outputs": [
    {
     "name": "stdout",
     "output_type": "stream",
     "text": [
      "0.8586956521739131\n",
      "{'algorithm': 'auto', 'leaf_size': 30, 'metric': 'minkowski', 'metric_params': None, 'n_jobs': None, 'n_neighbors': 5, 'p': 2, 'weights': 'uniform'}\n"
     ]
    }
   ],
   "source": [
    "from sklearn.neighbors import KNeighborsClassifier\n",
    "KNN_clf = KNeighborsClassifier()\n",
    "KNN_clf = KNN_clf.fit(pca_X_train,pca_Y_train)\n",
    "baseline_KNN_y_pred = KNN_clf.predict(pca_X_test)\n",
    "print(accuracy_score(pca_Y_test, baseline_KNN_y_pred))\n",
    "print(KNN_clf.get_params())\n"
   ]
  },
  {
   "cell_type": "code",
   "execution_count": 12,
   "id": "1d2da834",
   "metadata": {},
   "outputs": [
    {
     "data": {
      "text/plain": [
       "{'algorithm': 'auto',\n",
       " 'leaf_size': 30,\n",
       " 'metric': 'minkowski',\n",
       " 'metric_params': None,\n",
       " 'n_jobs': None,\n",
       " 'n_neighbors': 5,\n",
       " 'p': 2,\n",
       " 'weights': 'uniform'}"
      ]
     },
     "execution_count": 12,
     "metadata": {},
     "output_type": "execute_result"
    }
   ],
   "source": [
    "KNN_clf.get_params()"
   ]
  },
  {
   "cell_type": "code",
   "execution_count": 16,
   "id": "f4c38ea8",
   "metadata": {},
   "outputs": [],
   "source": [
    "# Preparing GridSearch \n",
    "KNN_clf_parameters = {\n",
    "\n",
    "    'n_neighbors' : [5,7,9,11,13,15],\n",
    "    'weights' : ['uniform','distance'],\n",
    "    'metric' : ['minkowski','euclidean','manhattan']\n",
    "\n",
    "}\n",
    "\n",
    "KNN_clf_for_ptuning = KNeighborsClassifier()\n",
    "KNN_clf_GS = GridSearchCV(KNN_clf_for_ptuning,                    # model\n",
    "                   param_grid = KNN_clf_parameters,   # hyperparameters\n",
    "                   scoring='accuracy',        # metric for scoring\n",
    "                   cv=10) \n",
    "\n",
    "KNN_clf_GS = KNN_clf_GS.fit(pca_X_train, pca_Y_train)\n",
    "KNN_clf_GS_predictions = KNN_clf_GS.predict(pca_X_test)"
   ]
  },
  {
   "cell_type": "code",
   "execution_count": 23,
   "id": "235211bd",
   "metadata": {},
   "outputs": [
    {
     "name": "stdout",
     "output_type": "stream",
     "text": [
      "Area Under the Curve:  0.8906714200831848\n",
      "              precision    recall  f1-score   support\n",
      "\n",
      "           0       0.88      0.88      0.88        85\n",
      "           1       0.90      0.90      0.90        99\n",
      "\n",
      "    accuracy                           0.89       184\n",
      "   macro avg       0.89      0.89      0.89       184\n",
      "weighted avg       0.89      0.89      0.89       184\n",
      "\n"
     ]
    },
    {
     "data": {
      "text/plain": [
       "array([[89, 10],\n",
       "       [10, 75]])"
      ]
     },
     "execution_count": 23,
     "metadata": {},
     "output_type": "execute_result"
    }
   ],
   "source": [
    "\n",
    "false_positive_rate, true_positive_rate, thresholds = roc_curve(pca_Y_test, KNN_clf_GS_predictions)\n",
    "roc_auc = auc(false_positive_rate, true_positive_rate)\n",
    "print(\"Area Under the Curve: \", roc_auc)\n",
    "\n",
    "#Calculate F1 Value\n",
    "print(classification_report(pca_Y_test, KNN_clf_GS_predictions))\n",
    "\n",
    "#Compute Confusion Matrix\n",
    "KNN_clf_GS_confusion_matrix = calculate_confusion_matrix(pca_Y_test, KNN_clf_GS_predictions)\n",
    "KNN_clf_GS_confusion_matrix"
   ]
  },
  {
   "cell_type": "markdown",
   "id": "69052e87",
   "metadata": {},
   "source": [
    "## CNN Model"
   ]
  },
  {
   "cell_type": "code",
   "execution_count": 48,
   "id": "b5ee9a4f",
   "metadata": {},
   "outputs": [],
   "source": [
    "import torch\n",
    "from torch import nn\n",
    "from torch.utils.data import DataLoader\n",
    "from torchvision import datasets\n",
    "from torchvision.transforms import ToTensor\n",
    "\n",
    "import torchvision\n",
    "import torchvision.transforms as transforms\n",
    "import matplotlib.pyplot as plt\n",
    "from sklearn.preprocessing import OneHotEncoder,OrdinalEncoder\n",
    "from sklearn.impute import SimpleImputer\n",
    "from sklearn.pipeline import Pipeline\n",
    "from sklearn.compose import ColumnTransformer\n",
    "from sklearn.preprocessing import StandardScaler\n",
    "from sklearn import preprocessing\n",
    "\n",
    "import pandas as pd\n",
    "from torch.utils.data import Dataset,DataLoader,TensorDataset"
   ]
  },
  {
   "cell_type": "code",
   "execution_count": 44,
   "id": "5498b763",
   "metadata": {
    "scrolled": true
   },
   "outputs": [
    {
     "data": {
      "text/html": [
       "<div>\n",
       "<style scoped>\n",
       "    .dataframe tbody tr th:only-of-type {\n",
       "        vertical-align: middle;\n",
       "    }\n",
       "\n",
       "    .dataframe tbody tr th {\n",
       "        vertical-align: top;\n",
       "    }\n",
       "\n",
       "    .dataframe thead th {\n",
       "        text-align: right;\n",
       "    }\n",
       "</style>\n",
       "<table border=\"1\" class=\"dataframe\">\n",
       "  <thead>\n",
       "    <tr style=\"text-align: right;\">\n",
       "      <th></th>\n",
       "      <th>Age</th>\n",
       "      <th>Sex</th>\n",
       "      <th>ChestPainType</th>\n",
       "      <th>RestingBP</th>\n",
       "      <th>Cholesterol</th>\n",
       "      <th>FastingBS</th>\n",
       "      <th>RestingECG</th>\n",
       "      <th>MaxHR</th>\n",
       "      <th>ExerciseAngina</th>\n",
       "      <th>Oldpeak</th>\n",
       "      <th>ST_Slope</th>\n",
       "      <th>HeartDisease</th>\n",
       "    </tr>\n",
       "  </thead>\n",
       "  <tbody>\n",
       "    <tr>\n",
       "      <th>0</th>\n",
       "      <td>40</td>\n",
       "      <td>M</td>\n",
       "      <td>ATA</td>\n",
       "      <td>140</td>\n",
       "      <td>289</td>\n",
       "      <td>0</td>\n",
       "      <td>Normal</td>\n",
       "      <td>172</td>\n",
       "      <td>N</td>\n",
       "      <td>0.0</td>\n",
       "      <td>Up</td>\n",
       "      <td>0</td>\n",
       "    </tr>\n",
       "    <tr>\n",
       "      <th>1</th>\n",
       "      <td>49</td>\n",
       "      <td>F</td>\n",
       "      <td>NAP</td>\n",
       "      <td>160</td>\n",
       "      <td>180</td>\n",
       "      <td>0</td>\n",
       "      <td>Normal</td>\n",
       "      <td>156</td>\n",
       "      <td>N</td>\n",
       "      <td>1.0</td>\n",
       "      <td>Flat</td>\n",
       "      <td>1</td>\n",
       "    </tr>\n",
       "    <tr>\n",
       "      <th>2</th>\n",
       "      <td>37</td>\n",
       "      <td>M</td>\n",
       "      <td>ATA</td>\n",
       "      <td>130</td>\n",
       "      <td>283</td>\n",
       "      <td>0</td>\n",
       "      <td>ST</td>\n",
       "      <td>98</td>\n",
       "      <td>N</td>\n",
       "      <td>0.0</td>\n",
       "      <td>Up</td>\n",
       "      <td>0</td>\n",
       "    </tr>\n",
       "    <tr>\n",
       "      <th>3</th>\n",
       "      <td>48</td>\n",
       "      <td>F</td>\n",
       "      <td>ASY</td>\n",
       "      <td>138</td>\n",
       "      <td>214</td>\n",
       "      <td>0</td>\n",
       "      <td>Normal</td>\n",
       "      <td>108</td>\n",
       "      <td>Y</td>\n",
       "      <td>1.5</td>\n",
       "      <td>Flat</td>\n",
       "      <td>1</td>\n",
       "    </tr>\n",
       "    <tr>\n",
       "      <th>4</th>\n",
       "      <td>54</td>\n",
       "      <td>M</td>\n",
       "      <td>NAP</td>\n",
       "      <td>150</td>\n",
       "      <td>195</td>\n",
       "      <td>0</td>\n",
       "      <td>Normal</td>\n",
       "      <td>122</td>\n",
       "      <td>N</td>\n",
       "      <td>0.0</td>\n",
       "      <td>Up</td>\n",
       "      <td>0</td>\n",
       "    </tr>\n",
       "  </tbody>\n",
       "</table>\n",
       "</div>"
      ],
      "text/plain": [
       "   Age Sex ChestPainType  RestingBP  Cholesterol  FastingBS RestingECG  MaxHR  \\\n",
       "0   40   M           ATA        140          289          0     Normal    172   \n",
       "1   49   F           NAP        160          180          0     Normal    156   \n",
       "2   37   M           ATA        130          283          0         ST     98   \n",
       "3   48   F           ASY        138          214          0     Normal    108   \n",
       "4   54   M           NAP        150          195          0     Normal    122   \n",
       "\n",
       "  ExerciseAngina  Oldpeak ST_Slope  HeartDisease  \n",
       "0              N      0.0       Up             0  \n",
       "1              N      1.0     Flat             1  \n",
       "2              N      0.0       Up             0  \n",
       "3              Y      1.5     Flat             1  \n",
       "4              N      0.0       Up             0  "
      ]
     },
     "execution_count": 44,
     "metadata": {},
     "output_type": "execute_result"
    }
   ],
   "source": [
    "pd_ori = pd.read_csv('/Users/mucheng/Desktop/heart.csv')\n",
    "pd_ori.head()"
   ]
  },
  {
   "cell_type": "code",
   "execution_count": 50,
   "id": "6dd3cba2",
   "metadata": {},
   "outputs": [],
   "source": [
    "cat_si_step = ('si', SimpleImputer(strategy='constant', fill_value=-99))\n",
    "cat_ohe_step = ('ohe', OrdinalEncoder())\n",
    "cat_steps = [cat_si_step, cat_ohe_step]\n",
    "\n",
    "cat_pipe = Pipeline(cat_steps)\n",
    "cat_cols = ['Sex','ChestPainType','RestingECG','ExerciseAngina'\n",
    ",'ST_Slope']\n",
    "cat_transformers = [('cat', cat_pipe, cat_cols)]\n",
    "\n",
    "ct = ColumnTransformer(transformers=cat_transformers)\n",
    "X_kdd_transformed = ct.fit_transform(pd_ori)\n",
    "\n",
    "num_cols = ['Age', 'RestingBP', 'Cholesterol','FastingBS','MaxHR', 'Oldpeak']\n",
    "num_si_step = ('si', SimpleImputer(strategy='median'))\n",
    "num_ss_step = ('ss', StandardScaler())\n",
    "num_steps = [num_si_step, num_ss_step]\n",
    "num_pipe = Pipeline(num_steps)\n",
    "num_transformers = [('num', num_pipe, num_cols)]\n",
    "ct = ColumnTransformer(transformers=num_transformers)\n",
    "X_num_transformed = ct.fit_transform(pd_ori)\n",
    "transformers = [('cat', cat_pipe, cat_cols),\n",
    "                ('num', num_pipe, num_cols)]\n",
    "ct = ColumnTransformer(transformers=transformers)\n",
    "X_strct = ct.fit_transform(pd_ori)\n",
    "\n",
    "\n",
    "\n",
    "label_encoder = preprocessing.LabelEncoder()\n",
    "labels_ori_list =pd_ori['HeartDisease'].values\n",
    "label_list = label_encoder.fit_transform(labels_ori_list)\n"
   ]
  },
  {
   "cell_type": "code",
   "execution_count": null,
   "id": "691f7bee",
   "metadata": {},
   "outputs": [],
   "source": []
  },
  {
   "cell_type": "code",
   "execution_count": 51,
   "id": "4ac6ae3a",
   "metadata": {},
   "outputs": [],
   "source": [
    "ds_train = TensorDataset(torch.tensor(X_strct[:700]).float(),torch.tensor(label_list[:700]))\n",
    "ds_test = TensorDataset(torch.tensor(X_strct[700:]).float(),torch.tensor(label_list[700:]))\n",
    "\n",
    "dl_train = DataLoader(ds_train,shuffle = True, batch_size = 8)\n",
    "dl_test = DataLoader(ds_test,shuffle = False, batch_size = 8)"
   ]
  },
  {
   "cell_type": "code",
   "execution_count": 53,
   "id": "e52c42f5",
   "metadata": {},
   "outputs": [
    {
     "name": "stdout",
     "output_type": "stream",
     "text": [
      "tensor([[ 1.0000,  1.0000,  1.0000,  0.0000,  2.0000, -0.9028,  0.4109,  0.2305,\n",
      "          1.8138, -0.5820, -0.8324],\n",
      "        [ 1.0000,  0.0000,  0.0000,  1.0000,  1.0000,  0.7944,  0.3028, -0.3000,\n",
      "         -0.5513, -0.4641,  2.5447],\n",
      "        [ 0.0000,  1.0000,  1.0000,  0.0000,  2.0000, -1.3271, -0.1295,  0.4226,\n",
      "         -0.5513,  0.5184, -0.8324],\n",
      "        [ 1.0000,  2.0000,  2.0000,  0.0000,  2.0000, -0.1603, -0.2376, -1.8184,\n",
      "         -0.5513,  1.6973,  1.9819],\n",
      "        [ 1.0000,  3.0000,  2.0000,  0.0000,  1.0000, -1.1149, -0.6699,  0.8434,\n",
      "         -0.5513,  0.7149, -0.8324],\n",
      "        [ 1.0000,  0.0000,  0.0000,  1.0000,  1.0000, -0.3724,  0.6271,  0.0110,\n",
      "         -0.5513, -0.4248,  0.0119],\n",
      "        [ 0.0000,  1.0000,  1.0000,  0.0000,  2.0000, -1.7514, -0.6699,  0.5598,\n",
      "         -0.5513, -0.2676, -0.8324],\n",
      "        [ 1.0000,  0.0000,  1.0000,  0.0000,  1.0000, -0.5846, -1.4265,  0.5872,\n",
      "          1.8138, -1.0536, -0.8324]]) tensor([0, 1, 0, 1, 1, 1, 0, 1])\n"
     ]
    }
   ],
   "source": [
    "for features,labels in dl_train:\n",
    "    print(features,labels)\n",
    "    break"
   ]
  },
  {
   "cell_type": "code",
   "execution_count": 55,
   "id": "f647cd76",
   "metadata": {},
   "outputs": [
    {
     "data": {
      "text/plain": [
       "torch.Size([8, 2])"
      ]
     },
     "execution_count": 55,
     "metadata": {},
     "output_type": "execute_result"
    }
   ],
   "source": [
    "import torch.nn as nn\n",
    "import torch.nn.functional as F\n",
    "\n",
    "class NetHeartCnn(nn.Module):\n",
    "    def __init__(self):\n",
    "        super().__init__()\n",
    "        self.conv1 = nn.Conv1d(5, 6, 5)\n",
    "        self.pool = nn.MaxPool2d(2, 2)\n",
    "        self.flatten = nn.Flatten()\n",
    "        self.fc1 = nn.Linear(11, 50)\n",
    "        self.fc2 = nn.Linear(9, 20)\n",
    "        self.fc3 = nn.Linear(20, 2)\n",
    "\n",
    "    def forward(self, x):\n",
    "        x = F.relu(self.fc1(x))\n",
    "        x = x.view(-1,5,10)\n",
    "        x = self.pool(F.relu(self.conv1(x)))\n",
    "        x = self.flatten(x)\n",
    "        x = F.relu(self.fc2(x))\n",
    "        x = self.fc3(x)\n",
    "        return x\n",
    "\n",
    "\n",
    "net_heart_cnn = NetHeartCnn().to(device)\n",
    "net_heart_cnn(features).shape"
   ]
  },
  {
   "cell_type": "code",
   "execution_count": 56,
   "id": "11d9901a",
   "metadata": {},
   "outputs": [],
   "source": [
    "loss_fn = nn.CrossEntropyLoss()\n",
    "optimizer = torch.optim.Adam(net_heart_dnn.parameters(), lr=1e-3)"
   ]
  },
  {
   "cell_type": "code",
   "execution_count": 57,
   "id": "e7af0ad7",
   "metadata": {},
   "outputs": [],
   "source": [
    "def train(dataloader, model, loss_fn, optimizer):\n",
    "    size = len(dataloader.dataset)\n",
    "    model.train()\n",
    "    for batch, (X, y) in enumerate(dataloader):\n",
    "        X, y = X.to(device), y.to(device)\n",
    "\n",
    "        # Compute prediction error\n",
    "        pred = model(X)\n",
    "        loss = loss_fn(pred, y)\n",
    "\n",
    "        # Backpropagation\n",
    "        optimizer.zero_grad()\n",
    "        loss.backward()\n",
    "        optimizer.step()\n",
    "\n",
    "        if batch % 100 == 0:\n",
    "            loss, current = loss.item(), batch * len(X)\n",
    "            print(f\"loss: {loss:>7f}  [{current:>5d}/{size:>5d}]\")"
   ]
  },
  {
   "cell_type": "code",
   "execution_count": 58,
   "id": "170fedb5",
   "metadata": {},
   "outputs": [],
   "source": [
    "def test(dataloader, model, loss_fn):\n",
    "    size = len(dataloader.dataset)\n",
    "    num_batches = len(dataloader)\n",
    "    model.eval()\n",
    "    test_loss, correct = 0, 0\n",
    "    with torch.no_grad():\n",
    "        for X, y in dataloader:\n",
    "            X, y = X.to(device), y.to(device)\n",
    "            pred = model(X)\n",
    "            test_loss += loss_fn(pred, y).item()\n",
    "            correct += (pred.argmax(1) == y).type(torch.float).sum().item()\n",
    "    test_loss /= num_batches\n",
    "    correct /= size\n",
    "    \n",
    "    print(f\"Test Error: \\n Accuracy: {(100*correct):>0.1f}%, Avg loss: {test_loss:>8f} \\n\")\n",
    "    return correct,test_loss"
   ]
  },
  {
   "cell_type": "markdown",
   "id": "632625f8",
   "metadata": {},
   "source": [
    "### Evaluations"
   ]
  },
  {
   "cell_type": "code",
   "execution_count": 59,
   "id": "597eb05c",
   "metadata": {},
   "outputs": [
    {
     "name": "stdout",
     "output_type": "stream",
     "text": [
      "Epoch 1\n",
      "-------------------------------\n",
      "loss: 0.660633  [    0/  700]\n",
      "Test Error: \n",
      " Accuracy: 84.6%, Avg loss: 0.426962 \n",
      "\n",
      "Test Error: \n",
      " Accuracy: 77.1%, Avg loss: 0.503091 \n",
      "\n",
      "Epoch 2\n",
      "-------------------------------\n",
      "loss: 0.331384  [    0/  700]\n",
      "Test Error: \n",
      " Accuracy: 87.4%, Avg loss: 0.340343 \n",
      "\n",
      "Test Error: \n",
      " Accuracy: 79.8%, Avg loss: 0.455253 \n",
      "\n",
      "Epoch 3\n",
      "-------------------------------\n",
      "loss: 0.324536  [    0/  700]\n",
      "Test Error: \n",
      " Accuracy: 88.1%, Avg loss: 0.318079 \n",
      "\n",
      "Test Error: \n",
      " Accuracy: 78.4%, Avg loss: 0.470230 \n",
      "\n",
      "Epoch 4\n",
      "-------------------------------\n",
      "loss: 0.103604  [    0/  700]\n",
      "Test Error: \n",
      " Accuracy: 87.3%, Avg loss: 0.304158 \n",
      "\n",
      "Test Error: \n",
      " Accuracy: 78.9%, Avg loss: 0.504156 \n",
      "\n",
      "Epoch 5\n",
      "-------------------------------\n",
      "loss: 0.230599  [    0/  700]\n",
      "Test Error: \n",
      " Accuracy: 89.6%, Avg loss: 0.282013 \n",
      "\n",
      "Test Error: \n",
      " Accuracy: 77.1%, Avg loss: 0.498876 \n",
      "\n",
      "Epoch 6\n",
      "-------------------------------\n",
      "loss: 0.060571  [    0/  700]\n",
      "Test Error: \n",
      " Accuracy: 89.7%, Avg loss: 0.274344 \n",
      "\n",
      "Test Error: \n",
      " Accuracy: 77.5%, Avg loss: 0.499565 \n",
      "\n",
      "Epoch 7\n",
      "-------------------------------\n",
      "loss: 0.548992  [    0/  700]\n",
      "Test Error: \n",
      " Accuracy: 90.1%, Avg loss: 0.268323 \n",
      "\n",
      "Test Error: \n",
      " Accuracy: 78.0%, Avg loss: 0.507372 \n",
      "\n",
      "Epoch 8\n",
      "-------------------------------\n",
      "loss: 0.078805  [    0/  700]\n",
      "Test Error: \n",
      " Accuracy: 91.1%, Avg loss: 0.258524 \n",
      "\n",
      "Test Error: \n",
      " Accuracy: 77.5%, Avg loss: 0.513556 \n",
      "\n",
      "Epoch 9\n",
      "-------------------------------\n",
      "loss: 0.257007  [    0/  700]\n",
      "Test Error: \n",
      " Accuracy: 91.1%, Avg loss: 0.256655 \n",
      "\n",
      "Test Error: \n",
      " Accuracy: 77.5%, Avg loss: 0.523300 \n",
      "\n",
      "Epoch 10\n",
      "-------------------------------\n",
      "loss: 0.197499  [    0/  700]\n",
      "Test Error: \n",
      " Accuracy: 90.7%, Avg loss: 0.251266 \n",
      "\n",
      "Test Error: \n",
      " Accuracy: 77.5%, Avg loss: 0.527437 \n",
      "\n",
      "Done!\n"
     ]
    }
   ],
   "source": [
    "epochs = 10\n",
    "train_correct_list = []\n",
    "train_loss_list = []\n",
    "test_correct_list = []\n",
    "test_loss_list = []\n",
    "# model_eg = net_heart_cnn\n",
    "model_eg = net_heart_dnn\n",
    "for t in range(epochs):\n",
    "    print(f\"Epoch {t+1}\\n-------------------------------\")\n",
    "    train(dl_train, model_eg, loss_fn, optimizer)\n",
    "    train_correct,train_loss = test(dl_train, model_eg, loss_fn)\n",
    "    test_correct,test_loss = test(dl_test, model_eg, loss_fn)\n",
    "    train_correct_list.append(train_correct)\n",
    "    train_loss_list.append(train_loss)\n",
    "    test_correct_list.append(test_correct)\n",
    "    test_loss_list.append(test_loss)\n",
    "print(\"Done!\")"
   ]
  },
  {
   "cell_type": "markdown",
   "id": "9803ec71",
   "metadata": {},
   "source": [
    "#### Conclusion: KNN(89%) > Random Forest (86%) > other Decision Tree models with Variations (83%) > CNN: 77.1%"
   ]
  },
  {
   "cell_type": "code",
   "execution_count": null,
   "id": "8b209d84",
   "metadata": {},
   "outputs": [],
   "source": []
  }
 ],
 "metadata": {
  "kernelspec": {
   "display_name": "Python 3 (ipykernel)",
   "language": "python",
   "name": "python3"
  },
  "language_info": {
   "codemirror_mode": {
    "name": "ipython",
    "version": 3
   },
   "file_extension": ".py",
   "mimetype": "text/x-python",
   "name": "python",
   "nbconvert_exporter": "python",
   "pygments_lexer": "ipython3",
   "version": "3.9.12"
  }
 },
 "nbformat": 4,
 "nbformat_minor": 5
}
