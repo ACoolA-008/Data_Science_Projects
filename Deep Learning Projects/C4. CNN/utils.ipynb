{
  "nbformat": 4,
  "nbformat_minor": 0,
  "metadata": {
    "colab": {
      "provenance": [],
      "authorship_tag": "ABX9TyPVXCfpwQI7+tr3pwIPIlr6",
      "include_colab_link": true
    },
    "kernelspec": {
      "name": "python3",
      "display_name": "Python 3"
    },
    "language_info": {
      "name": "python"
    }
  },
  "cells": [
    {
      "cell_type": "markdown",
      "metadata": {
        "id": "view-in-github",
        "colab_type": "text"
      },
      "source": [
        "<a href=\"https://colab.research.google.com/github/ACoolA-008/Data_Science_Projects/blob/main/Deep%20Learning%20Projects/C4.%20CNN/utils.ipynb\" target=\"_parent\"><img src=\"https://colab.research.google.com/assets/colab-badge.svg\" alt=\"Open In Colab\"/></a>"
      ]
    },
    {
      "cell_type": "code",
      "source": [
        "from google.colab import drive\n",
        "drive.mount('/content/drive')"
      ],
      "metadata": {
        "colab": {
          "base_uri": "https://localhost:8080/"
        },
        "id": "qnebIedZ3TS9",
        "outputId": "fc7c6408-1df9-45d0-b68f-89865d476aa6"
      },
      "execution_count": 6,
      "outputs": [
        {
          "output_type": "stream",
          "name": "stdout",
          "text": [
            "Mounted at /content/drive\n"
          ]
        }
      ]
    },
    {
      "cell_type": "code",
      "execution_count": 5,
      "metadata": {
        "id": "tCbYZtC1zCZm"
      },
      "outputs": [],
      "source": [
        "import os\n",
        "import random\n",
        "import shutil\n",
        "import piexif\n",
        "\n",
        "# Randomly assign 80% of the images as train images and 20% of the total images as test images WITHIN cat and dog folders.\n",
        "\n",
        "def train_test_split(src_folder, train_size = 0.8):\n",
        "\t# Make sure we remove any existing folders and start from a clean slate\n",
        "\tshutil.rmtree(src_folder+'Train/Cat/', ignore_errors=True)\n",
        "\tshutil.rmtree(src_folder+'Train/Dog/', ignore_errors=True)\n",
        "\tshutil.rmtree(src_folder+'Test/Cat/', ignore_errors=True)\n",
        "\tshutil.rmtree(src_folder+'Test/Dog/', ignore_errors=True)\n",
        "\n",
        "\t# Now, create new empty train and test folders\n",
        "\tos.makedirs(src_folder+'Train/Cat/')\n",
        "\tos.makedirs(src_folder+'Train/Dog/')\n",
        "\tos.makedirs(src_folder+'Test/Cat/')\n",
        "\tos.makedirs(src_folder+'Test/Dog/')\n",
        "\n",
        "\t# Get the number of cats and dogs images\n",
        "\t_, _, cat_images = next(os.walk(src_folder+'Cat/'))\n",
        "\tfiles_to_be_removed = ['Thumbs.db', '666.jpg', '835.jpg']\n",
        "\tfor file in files_to_be_removed:\n",
        "\t\tcat_images.remove(file)\n",
        "\tnum_cat_images = len(cat_images)\n",
        "\tnum_cat_images_train = int(train_size * num_cat_images)\n",
        "\tnum_cat_images_test = num_cat_images - num_cat_images_train\n",
        "\n",
        "\t_, _, dog_images = next(os.walk(src_folder+'Dog/'))\n",
        "\tfiles_to_be_removed = ['Thumbs.db', '11702.jpg']\n",
        "\tfor file in files_to_be_removed:\n",
        "\t\tdog_images.remove(file)\n",
        "\tnum_dog_images = len(dog_images)\n",
        "\tnum_dog_images_train = int(train_size * num_dog_images)\n",
        "\tnum_dog_images_test = num_dog_images - num_dog_images_train\n",
        "\n",
        "\t# Randomly assign images to train and test\n",
        "\tcat_train_images = random.sample(cat_images, num_cat_images_train)\n",
        "\tfor img in cat_train_images:\n",
        "\t\tshutil.copy(src=src_folder+'Cat/'+img, dst=src_folder+'Train/Cat/')\n",
        "\tcat_test_images  = [img for img in cat_images if img not in cat_train_images]\n",
        "\tfor img in cat_test_images:\n",
        "\t\tshutil.copy(src=src_folder+'Cat/'+img, dst=src_folder+'Test/Cat/')\n",
        "\n",
        "\tdog_train_images = random.sample(dog_images, num_dog_images_train)\n",
        "\tfor img in dog_train_images:\n",
        "\t\tshutil.copy(src=src_folder+'Dog/'+img, dst=src_folder+'Train/Dog/')\n",
        "\tdog_test_images  = [img for img in dog_images if img not in dog_train_images]\n",
        "\tfor img in dog_test_images:\n",
        "\t\tshutil.copy(src=src_folder+'Dog/'+img, dst=src_folder+'Test/Dog/')\n",
        "\n",
        "\t# remove corrupted exif data from the dataset\n",
        "\tremove_exif_data(src_folder+'Train/')\n",
        "\tremove_exif_data(src_folder+'Test/')\n",
        "\n",
        "# helper function to remove corrupt exif data from Microsoft's dataset\n",
        "def remove_exif_data(src_folder):\n",
        "  _, _, cat_images = next(os.walk(src_folder+'Cat/'))\n",
        "  for img in cat_images:\n",
        "    try:\n",
        "      piexif.remove(src_folder+'Cat/'+img)\n",
        "    except:\n",
        "      pass\n",
        "\n",
        "  _, _, dog_images = next(os.walk(src_folder+'Dog/'))\n",
        "  for img in dog_images:\n",
        "    try:\n",
        "      piexif.remove(src_folder+'Dog/'+img)\n",
        "    except:\n",
        "      pass"
      ]
    },
    {
      "cell_type": "code",
      "source": [],
      "metadata": {
        "id": "-BOlz2QIzG8d"
      },
      "execution_count": null,
      "outputs": []
    }
  ]
}