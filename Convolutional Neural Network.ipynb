{
 "cells": [
  {
   "cell_type": "markdown",
   "metadata": {},
   "source": [
    "## Mu Cheng Project 4 "
   ]
  },
  {
   "cell_type": "code",
   "execution_count": 1,
   "metadata": {
    "id": "_9sywwEX6phH"
   },
   "outputs": [],
   "source": [
    "%matplotlib inline"
   ]
  },
  {
   "cell_type": "markdown",
   "metadata": {
    "id": "Uc4l1l7wa7XP"
   },
   "source": [
    "## Task 1. MNIST Tutorial"
   ]
  },
  {
   "cell_type": "code",
   "execution_count": 2,
   "metadata": {
    "id": "lwwZSZK16phN"
   },
   "outputs": [],
   "source": [
    "import torch\n",
    "from torch import nn\n",
    "from torch.utils.data import DataLoader\n",
    "from torchvision import datasets\n",
    "from torchvision.transforms import ToTensor\n",
    "\n",
    "import torchvision\n",
    "import torchvision.transforms as transforms\n",
    "import matplotlib.pyplot as plt\n"
   ]
  },
  {
   "cell_type": "markdown",
   "metadata": {
    "id": "zDG74YtB8AKO"
   },
   "source": [
    "### Dataset"
   ]
  },
  {
   "cell_type": "code",
   "execution_count": 3,
   "metadata": {
    "id": "vWb5UDCh6phO"
   },
   "outputs": [],
   "source": [
    "# Download training data from open datasets.\n",
    "training_data = datasets.MNIST(\n",
    "    root=\"data\",\n",
    "    train=True,\n",
    "    download=True,\n",
    "    transform=ToTensor(),\n",
    ")\n",
    "\n",
    "# Download test data from open datasets.\n",
    "test_data = datasets.MNIST(\n",
    "    root=\"data\",\n",
    "    train=False,\n",
    "    download=True,\n",
    "    transform=ToTensor(),\n",
    ")"
   ]
  },
  {
   "cell_type": "code",
   "execution_count": 4,
   "metadata": {
    "colab": {
     "base_uri": "https://localhost:8080/"
    },
    "id": "baZyKMLf7TBf",
    "outputId": "263d3068-d0ae-4bd7-a956-a10b4d38f0bc"
   },
   "outputs": [
    {
     "data": {
      "text/plain": [
       "Dataset MNIST\n",
       "    Number of datapoints: 60000\n",
       "    Root location: data\n",
       "    Split: Train\n",
       "    StandardTransform\n",
       "Transform: ToTensor()"
      ]
     },
     "execution_count": 4,
     "metadata": {},
     "output_type": "execute_result"
    }
   ],
   "source": [
    "training_data"
   ]
  },
  {
   "cell_type": "code",
   "execution_count": 5,
   "metadata": {
    "colab": {
     "base_uri": "https://localhost:8080/"
    },
    "id": "FLKocIbY7TEN",
    "outputId": "ea59a564-4041-4f4c-dffc-69fc53a576fa"
   },
   "outputs": [
    {
     "data": {
      "text/plain": [
       "60000"
      ]
     },
     "execution_count": 5,
     "metadata": {},
     "output_type": "execute_result"
    }
   ],
   "source": [
    "len(training_data)"
   ]
  },
  {
   "cell_type": "code",
   "execution_count": 6,
   "metadata": {
    "colab": {
     "base_uri": "https://localhost:8080/"
    },
    "id": "ApEW3nYO7THM",
    "outputId": "26501a63-1a49-4c2f-84d4-ffee0ca3311c"
   },
   "outputs": [
    {
     "data": {
      "text/plain": [
       "2"
      ]
     },
     "execution_count": 6,
     "metadata": {},
     "output_type": "execute_result"
    }
   ],
   "source": [
    "len(training_data[0])"
   ]
  },
  {
   "cell_type": "code",
   "execution_count": 7,
   "metadata": {
    "colab": {
     "base_uri": "https://localhost:8080/"
    },
    "id": "5b5nvsO17w4u",
    "outputId": "d6c621fe-a6bd-45b2-a16e-2eb1c2e07dc6"
   },
   "outputs": [
    {
     "data": {
      "text/plain": [
       "(torch.Size([1, 28, 28]), 5)"
      ]
     },
     "execution_count": 7,
     "metadata": {},
     "output_type": "execute_result"
    }
   ],
   "source": [
    "training_data[0][0].shape,training_data[0][1]"
   ]
  },
  {
   "cell_type": "markdown",
   "metadata": {
    "id": "HF9CipCQ6phP"
   },
   "source": [
    "### Dataloader\n"
   ]
  },
  {
   "cell_type": "code",
   "execution_count": 8,
   "metadata": {
    "id": "x8DjLo156phQ"
   },
   "outputs": [],
   "source": [
    "batch_size = 64\n",
    "\n",
    "# Create data loaders.\n",
    "train_dataloader = DataLoader(training_data, batch_size=batch_size)\n",
    "test_dataloader = DataLoader(test_data, batch_size=batch_size)\n"
   ]
  },
  {
   "cell_type": "code",
   "execution_count": 9,
   "metadata": {
    "colab": {
     "base_uri": "https://localhost:8080/"
    },
    "id": "V83QcflL8HB1",
    "outputId": "08972a78-7b66-4cc7-f817-afa31645d30a"
   },
   "outputs": [
    {
     "name": "stdout",
     "output_type": "stream",
     "text": [
      "Shape of X [N, C, H, W]: torch.Size([64, 1, 28, 28])\n",
      "Shape of y: torch.Size([64]) torch.int64\n"
     ]
    }
   ],
   "source": [
    "\n",
    "for X, y in test_dataloader:\n",
    "    print(f\"Shape of X [N, C, H, W]: {X.shape}\")\n",
    "    print(f\"Shape of y: {y.shape} {y.dtype}\")\n",
    "    break"
   ]
  },
  {
   "cell_type": "markdown",
   "metadata": {
    "id": "WCrUQMEF8kdZ"
   },
   "source": [
    "### Check device"
   ]
  },
  {
   "cell_type": "code",
   "execution_count": 10,
   "metadata": {
    "colab": {
     "base_uri": "https://localhost:8080/"
    },
    "id": "dmc5P-e_8oE-",
    "outputId": "3f2daca5-e2ad-4480-9f80-f000accd3f16"
   },
   "outputs": [
    {
     "name": "stdout",
     "output_type": "stream",
     "text": [
      "Using cpu device\n"
     ]
    }
   ],
   "source": [
    "# Get cpu or gpu device for training.\n",
    "device = \"cuda\" if torch.cuda.is_available() else \"cpu\"\n",
    "print(f\"Using {device} device\")\n"
   ]
  },
  {
   "cell_type": "markdown",
   "metadata": {
    "id": "WFTrHoEc6phQ"
   },
   "source": [
    "## Building a CNN Model for MNIST Dataset\n",
    "\n",
    "\n"
   ]
  },
  {
   "cell_type": "code",
   "execution_count": 11,
   "metadata": {
    "colab": {
     "base_uri": "https://localhost:8080/"
    },
    "id": "yMF0Lofofjh1",
    "outputId": "c62cc12c-311f-46d0-d509-8329511559d9"
   },
   "outputs": [
    {
     "data": {
      "text/plain": [
       "torch.Size([64, 10])"
      ]
     },
     "execution_count": 11,
     "metadata": {},
     "output_type": "execute_result"
    }
   ],
   "source": [
    "import torch.nn as nn\n",
    "import torch.nn.functional as F\n",
    "\n",
    "class NetMnist(nn.Module):\n",
    "    def __init__(self):\n",
    "        super().__init__()\n",
    "        self.conv1 = nn.Conv2d(1, 6, 5)\n",
    "        self.pool = nn.MaxPool2d(2, 2)\n",
    "        self.conv2 = nn.Conv2d(6, 16, 5)\n",
    "        self.flatten = nn.Flatten()\n",
    "        self.fc1 = nn.Linear(16 * 4 * 4, 120)\n",
    "        self.fc2 = nn.Linear(120, 84)\n",
    "        self.fc3 = nn.Linear(84, 10)\n",
    "\n",
    "    def forward(self, x):\n",
    "        x = self.pool(F.relu(self.conv1(x)))\n",
    "        x = self.pool(F.relu(self.conv2(x)))\n",
    "        x = self.flatten(x) # flatten all dimensions except batch\n",
    "        x = F.relu(self.fc1(x))\n",
    "        x = F.relu(self.fc2(x))\n",
    "        x = self.fc3(x)\n",
    "        return x\n",
    "\n",
    "\n",
    "model_cnn_mnist = NetMnist().to(device)\n",
    "model_cnn_mnist(X).shape"
   ]
  },
  {
   "cell_type": "code",
   "execution_count": 16,
   "metadata": {},
   "outputs": [
    {
     "data": {
      "text/plain": [
       "NetMnist(\n",
       "  (conv1): Conv2d(1, 6, kernel_size=(5, 5), stride=(1, 1))\n",
       "  (pool): MaxPool2d(kernel_size=2, stride=2, padding=0, dilation=1, ceil_mode=False)\n",
       "  (conv2): Conv2d(6, 16, kernel_size=(5, 5), stride=(1, 1))\n",
       "  (flatten): Flatten(start_dim=1, end_dim=-1)\n",
       "  (fc1): Linear(in_features=256, out_features=120, bias=True)\n",
       "  (fc2): Linear(in_features=120, out_features=84, bias=True)\n",
       "  (fc3): Linear(in_features=84, out_features=10, bias=True)\n",
       ")"
      ]
     },
     "execution_count": 16,
     "metadata": {},
     "output_type": "execute_result"
    }
   ],
   "source": [
    "model_cnn_mnist"
   ]
  },
  {
   "cell_type": "markdown",
   "metadata": {
    "id": "GUFcnKyD6phS"
   },
   "source": [
    "### Calculating Loss and Add an Optimizer\n"
   ]
  },
  {
   "cell_type": "code",
   "execution_count": 12,
   "metadata": {
    "id": "LhOuzGsx6phS"
   },
   "outputs": [],
   "source": [
    "loss_fn = nn.CrossEntropyLoss()\n",
    "optimizer = torch.optim.Adam(model_cnn_mnist.parameters(), lr=1e-3)"
   ]
  },
  {
   "cell_type": "markdown",
   "metadata": {
    "id": "wc4VRQUW6phS"
   },
   "source": [
    "### Training and Testing Loops\n"
   ]
  },
  {
   "cell_type": "code",
   "execution_count": 13,
   "metadata": {
    "id": "DKknNsW-6phT"
   },
   "outputs": [],
   "source": [
    "def train(dataloader, model, loss_fn, optimizer):\n",
    "    size = len(dataloader.dataset)\n",
    "    model.train()\n",
    "    for batch, (X, y) in enumerate(dataloader):\n",
    "        X, y = X.to(device), y.to(device)\n",
    "\n",
    "        # Compute prediction error\n",
    "        pred = model(X)\n",
    "        loss = loss_fn(pred, y)\n",
    "\n",
    "        # Backpropagation\n",
    "        optimizer.zero_grad()\n",
    "        loss.backward()\n",
    "        optimizer.step()\n",
    "\n",
    "        if batch % 100 == 0:\n",
    "            loss, current = loss.item(), batch * len(X)\n",
    "            print(f\"loss: {loss:>7f}  [{current:>5d}/{size:>5d}]\")"
   ]
  },
  {
   "cell_type": "code",
   "execution_count": 14,
   "metadata": {
    "id": "aXDFRMB66phT"
   },
   "outputs": [],
   "source": [
    "def test(dataloader, model, loss_fn):\n",
    "    size = len(dataloader.dataset)\n",
    "    num_batches = len(dataloader)\n",
    "    model.eval()\n",
    "    test_loss, correct = 0, 0\n",
    "    with torch.no_grad():\n",
    "        for X, y in dataloader:\n",
    "            X, y = X.to(device), y.to(device)\n",
    "            pred = model(X)\n",
    "            test_loss += loss_fn(pred, y).item()\n",
    "            correct += (pred.argmax(1) == y).type(torch.float).sum().item()\n",
    "    test_loss /= num_batches\n",
    "    correct /= size\n",
    "    \n",
    "    print(f\"Test Error: \\n Accuracy: {(100*correct):>0.1f}%, Avg loss: {test_loss:>8f} \\n\")\n",
    "    return correct,test_loss"
   ]
  },
  {
   "cell_type": "markdown",
   "metadata": {
    "id": "S-Xjkpr86phT"
   },
   "source": [
    "### Train and Test the Model\n",
    "\n"
   ]
  },
  {
   "cell_type": "code",
   "execution_count": 15,
   "metadata": {
    "colab": {
     "base_uri": "https://localhost:8080/"
    },
    "id": "O11FA6Mj6phT",
    "outputId": "a7f5e07b-8d79-4c54-ff7b-9aa976c878a5",
    "scrolled": false
   },
   "outputs": [
    {
     "name": "stdout",
     "output_type": "stream",
     "text": [
      "Epoch 1\n",
      "-------------------------------\n",
      "loss: 2.308596  [    0/60000]\n",
      "loss: 0.536761  [ 6400/60000]\n",
      "loss: 0.245681  [12800/60000]\n",
      "loss: 0.278733  [19200/60000]\n",
      "loss: 0.204449  [25600/60000]\n",
      "loss: 0.134031  [32000/60000]\n",
      "loss: 0.153969  [38400/60000]\n",
      "loss: 0.199176  [44800/60000]\n",
      "loss: 0.318619  [51200/60000]\n",
      "loss: 0.134764  [57600/60000]\n",
      "Test Error: \n",
      " Accuracy: 96.2%, Avg loss: 0.121534 \n",
      "\n",
      "Test Error: \n",
      " Accuracy: 96.7%, Avg loss: 0.105275 \n",
      "\n",
      "Epoch 2\n",
      "-------------------------------\n",
      "loss: 0.067158  [    0/60000]\n",
      "loss: 0.098950  [ 6400/60000]\n",
      "loss: 0.082568  [12800/60000]\n",
      "loss: 0.181152  [19200/60000]\n",
      "loss: 0.049283  [25600/60000]\n",
      "loss: 0.058418  [32000/60000]\n",
      "loss: 0.120235  [38400/60000]\n",
      "loss: 0.118087  [44800/60000]\n",
      "loss: 0.195009  [51200/60000]\n",
      "loss: 0.117735  [57600/60000]\n",
      "Test Error: \n",
      " Accuracy: 97.3%, Avg loss: 0.084915 \n",
      "\n",
      "Test Error: \n",
      " Accuracy: 97.6%, Avg loss: 0.078065 \n",
      "\n",
      "Done!\n"
     ]
    }
   ],
   "source": [
    "epochs = 2\n",
    "train_correct_list = []\n",
    "train_loss_list = []\n",
    "test_correct_list = []\n",
    "test_loss_list = []\n",
    "for t in range(epochs):\n",
    "    print(f\"Epoch {t+1}\\n-------------------------------\")\n",
    "    train(train_dataloader, model_cnn_mnist, loss_fn, optimizer)\n",
    "    train_correct,train_loss = test(train_dataloader, model_cnn_mnist, loss_fn)\n",
    "    test_correct,test_loss = test(test_dataloader, model_cnn_mnist, loss_fn)\n",
    "    train_correct_list.append(train_correct)\n",
    "    train_loss_list.append(train_loss)\n",
    "    test_correct_list.append(test_correct)\n",
    "    test_loss_list.append(test_loss)\n",
    "print(\"Done!\")"
   ]
  },
  {
   "cell_type": "code",
   "execution_count": 19,
   "metadata": {},
   "outputs": [
    {
     "name": "stdout",
     "output_type": "stream",
     "text": [
      "Saved PyTorch Model State to model_cnn_mnist.pth\n"
     ]
    }
   ],
   "source": [
    "## Save the model\n",
    "torch.save(model_cnn_mnist.state_dict(), \"model_cnn_mnist.pth\")\n",
    "print(\"Saved PyTorch Model State to model_cnn_mnist.pth\")"
   ]
  },
  {
   "cell_type": "code",
   "execution_count": 20,
   "metadata": {},
   "outputs": [
    {
     "data": {
      "text/plain": [
       "<All keys matched successfully>"
      ]
     },
     "execution_count": 20,
     "metadata": {},
     "output_type": "execute_result"
    }
   ],
   "source": [
    "model_cnn_mnist_load = NetMnist().to(device)\n",
    "model_cnn_mnist_load.load_state_dict(torch.load(\"model_cnn_mnist.pth\"))"
   ]
  },
  {
   "cell_type": "markdown",
   "metadata": {},
   "source": [
    "## Prediction "
   ]
  },
  {
   "cell_type": "code",
   "execution_count": 21,
   "metadata": {},
   "outputs": [],
   "source": [
    "classes = [\n",
    "    \"0\",\n",
    "    \"1\",\n",
    "    \"2\",\n",
    "    \"3\",\n",
    "    \"4\",\n",
    "    \"5\",\n",
    "    \"6\",\n",
    "    \"7\",\n",
    "    \"8\",\n",
    "    \"9\",\n",
    "]"
   ]
  },
  {
   "cell_type": "code",
   "execution_count": 22,
   "metadata": {},
   "outputs": [
    {
     "name": "stdout",
     "output_type": "stream",
     "text": [
      "Predicted: \"7\", Actual: \"7\"\n"
     ]
    },
    {
     "data": {
      "image/png": "[encoded data removed]",
      "text/plain": [
       "<Figure size 432x288 with 1 Axes>"
      ]
     },
     "metadata": {
      "needs_background": "light"
     },
     "output_type": "display_data"
    },
    {
     "name": "stdout",
     "output_type": "stream",
     "text": [
      "Predicted: \"2\", Actual: \"2\"\n"
     ]
    },
    {
     "data": {
      "image/png": "[encoded data removed]",
      "text/plain": [
       "<Figure size 432x288 with 1 Axes>"
      ]
     },
     "metadata": {
      "needs_background": "light"
     },
     "output_type": "display_data"
    },
    {
     "name": "stdout",
     "output_type": "stream",
     "text": [
      "Predicted: \"1\", Actual: \"1\"\n"
     ]
    },
    {
     "data": {
      "image/png": "[encoded data removed]",
      "text/plain": [
       "<Figure size 432x288 with 1 Axes>"
      ]
     },
     "metadata": {
      "needs_background": "light"
     },
     "output_type": "display_data"
    },
    {
     "name": "stdout",
     "output_type": "stream",
     "text": [
      "Predicted: \"0\", Actual: \"0\"\n"
     ]
    },
    {
     "data": {
      "image/png": "[encoded data removed]",
      "text/plain": [
       "<Figure size 432x288 with 1 Axes>"
      ]
     },
     "metadata": {
      "needs_background": "light"
     },
     "output_type": "display_data"
    },
    {
     "name": "stdout",
     "output_type": "stream",
     "text": [
      "Predicted: \"4\", Actual: \"4\"\n"
     ]
    },
    {
     "data": {
      "image/png": "[encoded data removed]",
      "text/plain": [
       "<Figure size 432x288 with 1 Axes>"
      ]
     },
     "metadata": {
      "needs_background": "light"
     },
     "output_type": "display_data"
    },
    {
     "name": "stdout",
     "output_type": "stream",
     "text": [
      "Predicted: \"1\", Actual: \"1\"\n"
     ]
    },
    {
     "data": {
      "image/png": "[encoded data removed]",
      "text/plain": [
       "<Figure size 432x288 with 1 Axes>"
      ]
     },
     "metadata": {
      "needs_background": "light"
     },
     "output_type": "display_data"
    },
    {
     "name": "stdout",
     "output_type": "stream",
     "text": [
      "Predicted: \"4\", Actual: \"4\"\n"
     ]
    },
    {
     "data": {
      "image/png": "[encoded data removed]",
      "text/plain": [
       "<Figure size 432x288 with 1 Axes>"
      ]
     },
     "metadata": {
      "needs_background": "light"
     },
     "output_type": "display_data"
    },
    {
     "name": "stdout",
     "output_type": "stream",
     "text": [
      "Predicted: \"9\", Actual: \"9\"\n"
     ]
    },
    {
     "data": {
      "image/png": "[encoded data removed]",
      "text/plain": [
       "<Figure size 432x288 with 1 Axes>"
      ]
     },
     "metadata": {
      "needs_background": "light"
     },
     "output_type": "display_data"
    },
    {
     "name": "stdout",
     "output_type": "stream",
     "text": [
      "Predicted: \"5\", Actual: \"5\"\n"
     ]
    },
    {
     "data": {
      "image/png": "[encoded data removed]",
      "text/plain": [
       "<Figure size 432x288 with 1 Axes>"
      ]
     },
     "metadata": {
      "needs_background": "light"
     },
     "output_type": "display_data"
    }
   ],
   "source": [
    "model_cnn_mnist_load.eval()\n",
    "for i in range(9):\n",
    "    x,y = test_data[i][0], test_data[i][1]\n",
    "    with torch.no_grad():\n",
    "        pred = model_cnn_mnist_load(x.unsqueeze(0))\n",
    "        predicted, actual = classes[pred[0].argmax(0)], classes[y]\n",
    "        print(f'Predicted: \"{predicted}\", Actual: \"{actual}\"')\n",
    "        one_img = test_data[i][0].numpy()\n",
    "        plt.imshow(one_img.squeeze(), cmap='Greys')\n",
    "        plt.show()"
   ]
  },
  {
   "cell_type": "markdown",
   "metadata": {
    "id": "c95Z1-Eg_ulf"
   },
   "source": [
    "### Model Evaluations of Errors in Training and Testing Datasets"
   ]
  },
  {
   "cell_type": "code",
   "execution_count": 16,
   "metadata": {
    "colab": {
     "base_uri": "https://localhost:8080/",
     "height": 499
    },
    "id": "Yrvt3zZh_xGl",
    "outputId": "7c3935e3-c562-4c73-ee2a-7ce3fe7b84cc"
   },
   "outputs": [
    {
     "data": {
      "image/png": "[encoded data removed]",
      "text/plain": [
       "<Figure size 576x576 with 2 Axes>"
      ]
     },
     "metadata": {
      "needs_background": "light"
     },
     "output_type": "display_data"
    }
   ],
   "source": [
    "epochs_range = range(epochs)\n",
    "\n",
    "plt.figure(figsize=(8, 8))\n",
    "plt.subplot(1, 2, 1)\n",
    "plt.plot(epochs_range, train_correct_list, label='Training Accuracy')\n",
    "plt.plot(epochs_range, test_correct_list, label='Validation Accuracy')\n",
    "plt.legend(loc='lower right')\n",
    "plt.title('Training and Validation Accuracy')\n",
    "\n",
    "plt.subplot(1, 2, 2)\n",
    "plt.plot(epochs_range, train_loss_list, label='Training Loss')\n",
    "plt.plot(epochs_range, test_loss_list, label='Validation Loss')\n",
    "plt.legend(loc='upper right')\n",
    "plt.title('Training and Validation Loss')\n",
    "plt.show()"
   ]
  },
  {
   "cell_type": "markdown",
   "metadata": {
    "id": "IUNgh0XcbSsl"
   },
   "source": [
    "## Task 2. Experiment with Network Variations Using Fashion MNIST Dataset"
   ]
  },
  {
   "cell_type": "code",
   "execution_count": 26,
   "metadata": {
    "id": "_8E7VpU9bSsl"
   },
   "outputs": [],
   "source": [
    "import torch\n",
    "from torch import nn\n",
    "from torch.utils.data import DataLoader\n",
    "from torchvision import datasets\n",
    "from torchvision.transforms import ToTensor\n",
    "\n",
    "import torchvision\n",
    "import torchvision.transforms as transforms"
   ]
  },
  {
   "cell_type": "code",
   "execution_count": 27,
   "metadata": {
    "id": "Y58tsPVobSsm"
   },
   "outputs": [],
   "source": [
    "# Download training data from open datasets.\n",
    "training_data = datasets.FashionMNIST(\n",
    "    root=\"data\",\n",
    "    train=True,\n",
    "    download=True,\n",
    "    transform=ToTensor(),\n",
    ")\n",
    "\n",
    "# Download test data from open datasets.\n",
    "test_data = datasets.FashionMNIST(\n",
    "    root=\"data\",\n",
    "    train=False,\n",
    "    download=True,\n",
    "    transform=ToTensor(),\n",
    ")"
   ]
  },
  {
   "cell_type": "code",
   "execution_count": 28,
   "metadata": {
    "colab": {
     "base_uri": "https://localhost:8080/"
    },
    "id": "5AHpoejkbSsm",
    "outputId": "46e5bc06-8e26-4de5-9b29-9bac2d7220c5"
   },
   "outputs": [
    {
     "data": {
      "text/plain": [
       "Dataset FashionMNIST\n",
       "    Number of datapoints: 60000\n",
       "    Root location: data\n",
       "    Split: Train\n",
       "    StandardTransform\n",
       "Transform: ToTensor()"
      ]
     },
     "execution_count": 28,
     "metadata": {},
     "output_type": "execute_result"
    }
   ],
   "source": [
    "training_data"
   ]
  },
  {
   "cell_type": "code",
   "execution_count": 29,
   "metadata": {
    "colab": {
     "base_uri": "https://localhost:8080/"
    },
    "id": "TXqWpgEHbSsm",
    "outputId": "7b5bee91-6622-4415-ec86-60e4c0d95b8b"
   },
   "outputs": [
    {
     "data": {
      "text/plain": [
       "60000"
      ]
     },
     "execution_count": 29,
     "metadata": {},
     "output_type": "execute_result"
    }
   ],
   "source": [
    "len(training_data)"
   ]
  },
  {
   "cell_type": "code",
   "execution_count": 30,
   "metadata": {
    "colab": {
     "base_uri": "https://localhost:8080/"
    },
    "id": "G-XdP309bSsm",
    "outputId": "40a0bd0c-4fca-4e57-dd0e-2beb60d2f20a"
   },
   "outputs": [
    {
     "data": {
      "text/plain": [
       "2"
      ]
     },
     "execution_count": 30,
     "metadata": {},
     "output_type": "execute_result"
    }
   ],
   "source": [
    "len(training_data[0])"
   ]
  },
  {
   "cell_type": "code",
   "execution_count": 31,
   "metadata": {
    "colab": {
     "base_uri": "https://localhost:8080/"
    },
    "id": "E-791doAbSsm",
    "outputId": "8fc40f6d-6ef8-410c-f248-83a345a8a055"
   },
   "outputs": [
    {
     "data": {
      "text/plain": [
       "(torch.Size([1, 28, 28]), 9)"
      ]
     },
     "execution_count": 31,
     "metadata": {},
     "output_type": "execute_result"
    }
   ],
   "source": [
    "training_data[0][0].shape,training_data[0][1]"
   ]
  },
  {
   "cell_type": "code",
   "execution_count": 32,
   "metadata": {
    "id": "oZE72c00bSsn"
   },
   "outputs": [],
   "source": [
    "batch_size = 64\n",
    "\n",
    "# Create data loaders.\n",
    "train_dataloader = DataLoader(training_data, batch_size=batch_size)\n",
    "test_dataloader = DataLoader(test_data, batch_size=batch_size)\n"
   ]
  },
  {
   "cell_type": "code",
   "execution_count": 33,
   "metadata": {
    "colab": {
     "base_uri": "https://localhost:8080/"
    },
    "id": "vBfQRM8obSsn",
    "outputId": "3b9bec01-2ff4-44b1-cebf-18e908911e10"
   },
   "outputs": [
    {
     "name": "stdout",
     "output_type": "stream",
     "text": [
      "Shape of X [N, C, H, W]: torch.Size([64, 1, 28, 28])\n",
      "Shape of y: torch.Size([64]) torch.int64\n"
     ]
    }
   ],
   "source": [
    "\n",
    "for X, y in test_dataloader:\n",
    "    print(f\"Shape of X [N, C, H, W]: {X.shape}\")\n",
    "    print(f\"Shape of y: {y.shape} {y.dtype}\")\n",
    "    break"
   ]
  },
  {
   "cell_type": "code",
   "execution_count": 34,
   "metadata": {
    "colab": {
     "base_uri": "https://localhost:8080/"
    },
    "id": "xos9vJYQbSsn",
    "outputId": "bb2d9ee2-ce31-490d-cbb8-b031c316223a"
   },
   "outputs": [
    {
     "name": "stdout",
     "output_type": "stream",
     "text": [
      "Using cpu device\n"
     ]
    }
   ],
   "source": [
    "# Get cpu or gpu device for training.\n",
    "device = \"cuda\" if torch.cuda.is_available() else \"cpu\"\n",
    "print(f\"Using {device} device\")\n"
   ]
  },
  {
   "cell_type": "markdown",
   "metadata": {
    "id": "k6dBqfhWbSsn"
   },
   "source": [
    "### Building the CNN Model for FashionMNIST Dataset\n",
    "\n",
    "\n"
   ]
  },
  {
   "cell_type": "code",
   "execution_count": 35,
   "metadata": {
    "colab": {
     "base_uri": "https://localhost:8080/"
    },
    "id": "wlk0XSfjbSsn",
    "outputId": "3bf34e7b-89a5-486c-ae12-77718c5171df"
   },
   "outputs": [
    {
     "data": {
      "text/plain": [
       "torch.Size([64, 10])"
      ]
     },
     "execution_count": 35,
     "metadata": {},
     "output_type": "execute_result"
    }
   ],
   "source": [
    "## Base Model\n",
    "import torch.nn as nn\n",
    "import torch.nn.functional as F\n",
    "\n",
    "\n",
    "class NetFMnist(nn.Module):\n",
    "    def __init__(self):\n",
    "        super().__init__()\n",
    "        self.conv1 = nn.Conv2d(1, 6, 5)\n",
    "        self.pool = nn.MaxPool2d(2, 2)\n",
    "        self.conv2 = nn.Conv2d(6, 16, 5)\n",
    "        self.flatten = nn.Flatten()\n",
    "        self.fc1 = nn.Linear(16 * 4 * 4, 120)\n",
    "        self.fc2 = nn.Linear(120, 84)\n",
    "        self.fc3 = nn.Linear(84, 10)\n",
    "\n",
    "    def forward(self, x):\n",
    "        x = self.pool(F.relu(self.conv1(x)))\n",
    "        x = self.pool(F.relu(self.conv2(x)))\n",
    "        x = self.flatten(x) # flatten all dimensions except batch\n",
    "        x = F.relu(self.fc1(x))\n",
    "        x = F.relu(self.fc2(x))\n",
    "        x = self.fc3(x)\n",
    "        return x\n",
    "\n",
    "\n",
    "model_cnn_fmnist = NetFMnist().to(device)\n",
    "model_cnn_fmnist(X).shape"
   ]
  },
  {
   "cell_type": "code",
   "execution_count": 37,
   "metadata": {
    "id": "tRXnA99MbSso"
   },
   "outputs": [],
   "source": [
    "loss_fn = nn.CrossEntropyLoss()\n",
    "optimizer = torch.optim.Adam(model_cnn_fmnist.parameters(), lr=1e-3)"
   ]
  },
  {
   "cell_type": "code",
   "execution_count": 38,
   "metadata": {
    "id": "a33KeRgFbSso"
   },
   "outputs": [],
   "source": [
    "def train(dataloader, model, loss_fn, optimizer):\n",
    "    size = len(dataloader.dataset)\n",
    "    model.train()\n",
    "    for batch, (X, y) in enumerate(dataloader):\n",
    "        X, y = X.to(device), y.to(device)\n",
    "\n",
    "        # Compute prediction error\n",
    "        pred = model(X)\n",
    "        loss = loss_fn(pred, y)\n",
    "\n",
    "        # Backpropagation\n",
    "        optimizer.zero_grad()\n",
    "        loss.backward()\n",
    "        optimizer.step()\n",
    "\n",
    "        if batch % 100 == 0:\n",
    "            loss, current = loss.item(), batch * len(X)\n",
    "            print(f\"loss: {loss:>7f}  [{current:>5d}/{size:>5d}]\")"
   ]
  },
  {
   "cell_type": "code",
   "execution_count": 39,
   "metadata": {
    "id": "F9NknnRubSso"
   },
   "outputs": [],
   "source": [
    "def test(dataloader, model, loss_fn):\n",
    "    size = len(dataloader.dataset)\n",
    "    num_batches = len(dataloader)\n",
    "    model.eval()\n",
    "    test_loss, correct = 0, 0\n",
    "    with torch.no_grad():\n",
    "        for X, y in dataloader:\n",
    "            X, y = X.to(device), y.to(device)\n",
    "            pred = model(X)\n",
    "            test_loss += loss_fn(pred, y).item()\n",
    "            correct += (pred.argmax(1) == y).type(torch.float).sum().item()\n",
    "    test_loss /= num_batches\n",
    "    correct /= size\n",
    "    \n",
    "    print(f\"Test Error: \\n Accuracy: {(100*correct):>0.1f}%, Avg loss: {test_loss:>8f} \\n\")\n",
    "    return correct,test_loss"
   ]
  },
  {
   "cell_type": "markdown",
   "metadata": {
    "id": "UOW9Uy0vbSso"
   },
   "source": [
    "### Train and Test the Datasets\n",
    "\n"
   ]
  },
  {
   "cell_type": "code",
   "execution_count": 40,
   "metadata": {
    "colab": {
     "base_uri": "https://localhost:8080/"
    },
    "id": "eM9xwwQ_bSso",
    "outputId": "876ce5ca-33ba-4fa7-ff74-a09be9e3e727",
    "scrolled": true
   },
   "outputs": [
    {
     "name": "stdout",
     "output_type": "stream",
     "text": [
      "Epoch 1\n",
      "-------------------------------\n",
      "loss: 2.297807  [    0/60000]\n",
      "loss: 0.804556  [ 6400/60000]\n",
      "loss: 0.542692  [12800/60000]\n",
      "loss: 0.660558  [19200/60000]\n",
      "loss: 0.597033  [25600/60000]\n",
      "loss: 0.527567  [32000/60000]\n",
      "loss: 0.517664  [38400/60000]\n",
      "loss: 0.560075  [44800/60000]\n",
      "loss: 0.505921  [51200/60000]\n",
      "loss: 0.482324  [57600/60000]\n",
      "Test Error: \n",
      " Accuracy: 80.5%, Avg loss: 0.502820 \n",
      "\n",
      "Test Error: \n",
      " Accuracy: 79.9%, Avg loss: 0.522964 \n",
      "\n",
      "Epoch 2\n",
      "-------------------------------\n",
      "loss: 0.407637  [    0/60000]\n",
      "loss: 0.485252  [ 6400/60000]\n",
      "loss: 0.304722  [12800/60000]\n",
      "loss: 0.449496  [19200/60000]\n",
      "loss: 0.433872  [25600/60000]\n",
      "loss: 0.460895  [32000/60000]\n",
      "loss: 0.361870  [38400/60000]\n",
      "loss: 0.581208  [44800/60000]\n",
      "loss: 0.471796  [51200/60000]\n",
      "loss: 0.386593  [57600/60000]\n",
      "Test Error: \n",
      " Accuracy: 84.7%, Avg loss: 0.412346 \n",
      "\n",
      "Test Error: \n",
      " Accuracy: 83.9%, Avg loss: 0.441850 \n",
      "\n",
      "Done!\n"
     ]
    }
   ],
   "source": [
    "epochs = 2\n",
    "train_correct_list = []\n",
    "train_loss_list = []\n",
    "test_correct_list = []\n",
    "test_loss_list = []\n",
    "for t in range(epochs):\n",
    "    print(f\"Epoch {t+1}\\n-------------------------------\")\n",
    "    train(train_dataloader, model_cnn_fmnist, loss_fn, optimizer)\n",
    "    train_correct,train_loss = test(train_dataloader, model_cnn_fmnist, loss_fn)\n",
    "    test_correct,test_loss = test(test_dataloader, model_cnn_fmnist, loss_fn)\n",
    "    train_correct_list.append(train_correct)\n",
    "    train_loss_list.append(train_loss)\n",
    "    test_correct_list.append(test_correct)\n",
    "    test_loss_list.append(test_loss)\n",
    "print(\"Done!\")"
   ]
  },
  {
   "cell_type": "code",
   "execution_count": 49,
   "metadata": {},
   "outputs": [
    {
     "name": "stdout",
     "output_type": "stream",
     "text": [
      "Saved PyTorch Model State to model_cnn_fmnist.pth\n"
     ]
    }
   ],
   "source": [
    "## Save the Model\n",
    "torch.save(model_cnn_fmnist.state_dict(), \"model_cnn_fmnist.pth\")\n",
    "print(\"Saved PyTorch Model State to model_cnn_fmnist.pth\")"
   ]
  },
  {
   "cell_type": "code",
   "execution_count": 53,
   "metadata": {},
   "outputs": [
    {
     "data": {
      "text/plain": [
       "<All keys matched successfully>"
      ]
     },
     "execution_count": 53,
     "metadata": {},
     "output_type": "execute_result"
    }
   ],
   "source": [
    "## Load the Model\n",
    "model_cnn_fmnist_load = NetFMnist().to(device)\n",
    "model_cnn_fmnist_load.load_state_dict(torch.load(\"model_cnn_fmnist.pth\"))"
   ]
  },
  {
   "cell_type": "markdown",
   "metadata": {},
   "source": [
    "### Predictions"
   ]
  },
  {
   "cell_type": "code",
   "execution_count": 54,
   "metadata": {},
   "outputs": [],
   "source": [
    "classes = [\n",
    "    \"T-shirt/top\",\n",
    "    \"Trouser\",\n",
    "    \"Pullover\",\n",
    "    \"Dress\",\n",
    "    \"Coat\",\n",
    "    \"Sandal\",\n",
    "    \"Shirt\",\n",
    "    \"Sneaker\",\n",
    "    \"Bag\",\n",
    "    \"Ankle boot\",\n",
    "]\n"
   ]
  },
  {
   "cell_type": "code",
   "execution_count": 55,
   "metadata": {
    "scrolled": true
   },
   "outputs": [
    {
     "name": "stdout",
     "output_type": "stream",
     "text": [
      "Predicted: \"Sandal\", Actual: \"Ankle boot\"\n"
     ]
    },
    {
     "data": {
      "image/png": "[encoded data removed]",
      "text/plain": [
       "<Figure size 432x288 with 1 Axes>"
      ]
     },
     "metadata": {
      "needs_background": "light"
     },
     "output_type": "display_data"
    },
    {
     "name": "stdout",
     "output_type": "stream",
     "text": [
      "Predicted: \"Sandal\", Actual: \"Pullover\"\n"
     ]
    },
    {
     "data": {
      "image/png": "[encoded data removed]",
      "text/plain": [
       "<Figure size 432x288 with 1 Axes>"
      ]
     },
     "metadata": {
      "needs_background": "light"
     },
     "output_type": "display_data"
    },
    {
     "name": "stdout",
     "output_type": "stream",
     "text": [
      "Predicted: \"Sandal\", Actual: \"Trouser\"\n"
     ]
    },
    {
     "data": {
      "image/png": "[encoded data removed]",
      "text/plain": [
       "<Figure size 432x288 with 1 Axes>"
      ]
     },
     "metadata": {
      "needs_background": "light"
     },
     "output_type": "display_data"
    },
    {
     "name": "stdout",
     "output_type": "stream",
     "text": [
      "Predicted: \"Sandal\", Actual: \"Trouser\"\n"
     ]
    },
    {
     "data": {
      "image/png": "[encoded data removed]",
      "text/plain": [
       "<Figure size 432x288 with 1 Axes>"
      ]
     },
     "metadata": {
      "needs_background": "light"
     },
     "output_type": "display_data"
    },
    {
     "name": "stdout",
     "output_type": "stream",
     "text": [
      "Predicted: \"Sandal\", Actual: \"Shirt\"\n"
     ]
    },
    {
     "data": {
      "image/png": "[encoded data removed]",
      "text/plain": [
       "<Figure size 432x288 with 1 Axes>"
      ]
     },
     "metadata": {
      "needs_background": "light"
     },
     "output_type": "display_data"
    },
    {
     "name": "stdout",
     "output_type": "stream",
     "text": [
      "Predicted: \"Sandal\", Actual: \"Trouser\"\n"
     ]
    },
    {
     "data": {
      "image/png": "[encoded data removed]",
      "text/plain": [
       "<Figure size 432x288 with 1 Axes>"
      ]
     },
     "metadata": {
      "needs_background": "light"
     },
     "output_type": "display_data"
    },
    {
     "name": "stdout",
     "output_type": "stream",
     "text": [
      "Predicted: \"Sandal\", Actual: \"Coat\"\n"
     ]
    },
    {
     "data": {
      "image/png": "[encoded data removed]",
      "text/plain": [
       "<Figure size 432x288 with 1 Axes>"
      ]
     },
     "metadata": {
      "needs_background": "light"
     },
     "output_type": "display_data"
    },
    {
     "name": "stdout",
     "output_type": "stream",
     "text": [
      "Predicted: \"Sandal\", Actual: \"Shirt\"\n"
     ]
    },
    {
     "data": {
      "image/png": "[encoded data removed]",
      "text/plain": [
       "<Figure size 432x288 with 1 Axes>"
      ]
     },
     "metadata": {
      "needs_background": "light"
     },
     "output_type": "display_data"
    },
    {
     "name": "stdout",
     "output_type": "stream",
     "text": [
      "Predicted: \"Sandal\", Actual: \"Sandal\"\n"
     ]
    },
    {
     "data": {
      "image/png": "[encoded data removed]",
      "text/plain": [
       "<Figure size 432x288 with 1 Axes>"
      ]
     },
     "metadata": {
      "needs_background": "light"
     },
     "output_type": "display_data"
    }
   ],
   "source": [
    "model_cnn_fmnist_load.eval()\n",
    "for i in range(9):\n",
    "    x,y = test_data[i][0], test_data[i][1]\n",
    "    with torch.no_grad():\n",
    "        pred = model_cnn_fmnist_load(x.unsqueeze(0))\n",
    "        predicted, actual = classes[pred[0].argmax(0)], classes[y]\n",
    "        print(f'Predicted: \"{predicted}\", Actual: \"{actual}\"')\n",
    "        one_img = test_data[i][0].numpy()\n",
    "        plt.imshow(one_img.squeeze(), cmap='Greys')\n",
    "        plt.show()"
   ]
  },
  {
   "cell_type": "markdown",
   "metadata": {
    "id": "97BELLQ-Gq9W"
   },
   "source": [
    "### Model Evaluations of Errors in Training and Testing Datasets"
   ]
  },
  {
   "cell_type": "code",
   "execution_count": 56,
   "metadata": {
    "colab": {
     "base_uri": "https://localhost:8080/",
     "height": 499
    },
    "id": "iokcNQA2Gq9W",
    "outputId": "a26f4e8a-0d75-4e0b-d0e5-fe50e3e999a2",
    "scrolled": true
   },
   "outputs": [
    {
     "data": {
      "image/png": "[encoded data removed]",
      "text/plain": [
       "<Figure size 576x576 with 2 Axes>"
      ]
     },
     "metadata": {
      "needs_background": "light"
     },
     "output_type": "display_data"
    }
   ],
   "source": [
    "epochs_range = range(epochs)\n",
    "\n",
    "plt.figure(figsize=(8, 8))\n",
    "plt.subplot(1, 2, 1)\n",
    "plt.plot(epochs_range, train_correct_list, label='Training Accuracy')\n",
    "plt.plot(epochs_range, test_correct_list, label='Validation Accuracy')\n",
    "plt.legend(loc='lower right')\n",
    "plt.title('Training and Validation Accuracy')\n",
    "\n",
    "plt.subplot(1, 2, 2)\n",
    "plt.plot(epochs_range, train_loss_list, label='Training Loss')\n",
    "plt.plot(epochs_range, test_loss_list, label='Validation Loss')\n",
    "plt.legend(loc='upper right')\n",
    "plt.title('Training and Validation Loss')\n",
    "plt.show()"
   ]
  },
  {
   "cell_type": "markdown",
   "metadata": {},
   "source": [
    "### Change Dimension #1. Change the Kernel Size \n",
    "Hypothesis:\\\n",
    "Change from 5 to 3 will help increase the accuracy \n",
    "\n",
    "Actual: \\\n",
    "Accuracy score is slightly increased from previous results Accuracy: 83.9%, Avg loss: 0.441850  to current results \n",
    "Accuracy: 84.0%, Avg loss: 0.426858 "
   ]
  },
  {
   "cell_type": "code",
   "execution_count": 57,
   "metadata": {
    "scrolled": true
   },
   "outputs": [
    {
     "data": {
      "text/plain": [
       "torch.Size([64, 10])"
      ]
     },
     "execution_count": 57,
     "metadata": {},
     "output_type": "execute_result"
    }
   ],
   "source": [
    "## model 1\n",
    "\n",
    "import torch.nn as nn\n",
    "import torch.nn.functional as F\n",
    "\n",
    "\n",
    "class KS_NetFMnist(nn.Module):\n",
    "    def __init__(self):\n",
    "        super().__init__()\n",
    "        self.conv1 = nn.Conv2d(1, 6, 3)\n",
    "        self.pool = nn.MaxPool2d(2, 2)\n",
    "        self.conv2 = nn.Conv2d(6, 16, 3)\n",
    "        self.flatten = nn.Flatten()\n",
    "        self.fc1 = nn.Linear(400, 120)\n",
    "        self.fc2 = nn.Linear(120, 84)\n",
    "        self.fc3 = nn.Linear(84, 10)\n",
    "\n",
    "    def forward(self, x):\n",
    "        x = self.pool(F.relu(self.conv1(x)))\n",
    "        x = self.pool(F.relu(self.conv2(x)))\n",
    "        x = self.flatten(x) # flatten all dimensions except batch\n",
    "        x = F.relu(self.fc1(x))\n",
    "        x = F.relu(self.fc2(x))\n",
    "        x = self.fc3(x)\n",
    "        return x\n",
    "\n",
    "\n",
    "ks_model_cnn_fmnist = KS_NetFMnist().to(device)\n",
    "ks_model_cnn_fmnist(X).shape"
   ]
  },
  {
   "cell_type": "code",
   "execution_count": 58,
   "metadata": {},
   "outputs": [],
   "source": [
    "loss_fn = nn.CrossEntropyLoss()\n",
    "optimizer = torch.optim.Adam(ks_model_cnn_fmnist.parameters(), lr=1e-3)"
   ]
  },
  {
   "cell_type": "code",
   "execution_count": 59,
   "metadata": {
    "scrolled": false
   },
   "outputs": [
    {
     "name": "stdout",
     "output_type": "stream",
     "text": [
      "Epoch 1\n",
      "-------------------------------\n",
      "loss: 2.296419  [    0/60000]\n",
      "loss: 0.863862  [ 6400/60000]\n",
      "loss: 0.537875  [12800/60000]\n",
      "loss: 0.638487  [19200/60000]\n",
      "loss: 0.584512  [25600/60000]\n",
      "loss: 0.457290  [32000/60000]\n",
      "loss: 0.568238  [38400/60000]\n",
      "loss: 0.596875  [44800/60000]\n",
      "loss: 0.545144  [51200/60000]\n",
      "loss: 0.498018  [57600/60000]\n",
      "Test Error: \n",
      " Accuracy: 10.0%, Avg loss: 2.306530 \n",
      "\n",
      "Test Error: \n",
      " Accuracy: 81.3%, Avg loss: 0.487543 \n",
      "\n",
      "Epoch 2\n",
      "-------------------------------\n",
      "loss: 0.389515  [    0/60000]\n",
      "loss: 0.489384  [ 6400/60000]\n",
      "loss: 0.296136  [12800/60000]\n",
      "loss: 0.568976  [19200/60000]\n",
      "loss: 0.404034  [25600/60000]\n",
      "loss: 0.423941  [32000/60000]\n",
      "loss: 0.407137  [38400/60000]\n",
      "loss: 0.574204  [44800/60000]\n",
      "loss: 0.529516  [51200/60000]\n",
      "loss: 0.452230  [57600/60000]\n",
      "Test Error: \n",
      " Accuracy: 10.0%, Avg loss: 2.306530 \n",
      "\n",
      "Test Error: \n",
      " Accuracy: 84.0%, Avg loss: 0.426858 \n",
      "\n",
      "Done!\n"
     ]
    }
   ],
   "source": [
    "epochs = 2\n",
    "train_correct_list = []\n",
    "train_loss_list = []\n",
    "test_correct_list = []\n",
    "test_loss_list = []\n",
    "for t in range(epochs):\n",
    "    print(f\"Epoch {t+1}\\n-------------------------------\")\n",
    "    train(train_dataloader, ks_model_cnn_fmnist, loss_fn, optimizer)\n",
    "    train_correct,train_loss = test(train_dataloader, model_cnn_fmnist, loss_fn)\n",
    "    test_correct,test_loss = test(test_dataloader, ks_model_cnn_fmnist, loss_fn)\n",
    "    train_correct_list.append(train_correct)\n",
    "    train_loss_list.append(train_loss)\n",
    "    test_correct_list.append(test_correct)\n",
    "    test_loss_list.append(test_loss)\n",
    "print(\"Done!\")"
   ]
  },
  {
   "cell_type": "markdown",
   "metadata": {},
   "source": [
    "### Variation Model Evaluations of Errors in Training and Testing Datasets"
   ]
  },
  {
   "cell_type": "code",
   "execution_count": 60,
   "metadata": {},
   "outputs": [
    {
     "data": {
      "image/png": "[encoded data removed]",
      "text/plain": [
       "<Figure size 576x576 with 2 Axes>"
      ]
     },
     "metadata": {
      "needs_background": "light"
     },
     "output_type": "display_data"
    }
   ],
   "source": [
    "epochs_range = range(epochs)\n",
    "\n",
    "plt.figure(figsize=(8, 8))\n",
    "plt.subplot(1, 2, 1)\n",
    "plt.plot(epochs_range, train_correct_list, label='Training Accuracy')\n",
    "plt.plot(epochs_range, test_correct_list, label='Validation Accuracy')\n",
    "plt.legend(loc='lower right')\n",
    "plt.title('Training and Validation Accuracy')\n",
    "\n",
    "plt.subplot(1, 2, 2)\n",
    "plt.plot(epochs_range, train_loss_list, label='Training Loss')\n",
    "plt.plot(epochs_range, test_loss_list, label='Validation Loss')\n",
    "plt.legend(loc='upper right')\n",
    "plt.title('Training and Validation Loss')\n",
    "plt.show()"
   ]
  },
  {
   "cell_type": "markdown",
   "metadata": {},
   "source": [
    "### Change Dimension #2. Add a Dropout Layer\n",
    "Hypothesis:\\\n",
    "Adding a dropout layer before the final fully connected layer will help increase the accuracy \n",
    "\n",
    "Actual: \\\n",
    "Accuracy score is slightly decreased from previous results Accuracy: 84.0%, Avg loss: 0.426858  to \\\n",
    "    \n",
    "Accuracy: 83.8%, Avg loss: 0.434113 "
   ]
  },
  {
   "cell_type": "code",
   "execution_count": 61,
   "metadata": {},
   "outputs": [
    {
     "data": {
      "text/plain": [
       "torch.Size([64, 10])"
      ]
     },
     "execution_count": 61,
     "metadata": {},
     "output_type": "execute_result"
    }
   ],
   "source": [
    "## model 2\n",
    "\n",
    "import torch.nn as nn\n",
    "import torch.nn.functional as F\n",
    "\n",
    "\n",
    "class add_dropout_NetFMnist(nn.Module):\n",
    "    def __init__(self):\n",
    "        super().__init__()\n",
    "        self.conv1 = nn.Conv2d(1, 6, 3)\n",
    "        self.pool = nn.MaxPool2d(2, 2)\n",
    "        self.conv2 = nn.Conv2d(6, 16, 3)\n",
    "        self.flatten = nn.Flatten()\n",
    "        self.fc1 = nn.Linear(400, 120)\n",
    "        self.fc2 = nn.Linear(120, 84)\n",
    "        self.fc3 = nn.Linear(84, 10)\n",
    "        self.dropout = nn.Dropout(0.25)\n",
    "\n",
    "    def forward(self, x):\n",
    "        x = self.pool(F.relu(self.conv1(x)))\n",
    "        x = self.pool(F.relu(self.conv2(x)))\n",
    "        x = self.flatten(x) # flatten all dimensions except batch\n",
    "        x = F.relu(self.fc1(x))\n",
    "        x = F.relu(self.fc2(x))\n",
    "        x = self.dropout(x)\n",
    "        x = self.fc3(x)\n",
    "        return x\n",
    "\n",
    "\n",
    "add_dropout_model_cnn_fmnist = add_dropout_NetFMnist().to(device)\n",
    "add_dropout_model_cnn_fmnist(X).shape"
   ]
  },
  {
   "cell_type": "code",
   "execution_count": 62,
   "metadata": {},
   "outputs": [],
   "source": [
    "loss_fn = nn.CrossEntropyLoss()\n",
    "optimizer = torch.optim.Adam(add_dropout_model_cnn_fmnist.parameters(), lr=1e-3)"
   ]
  },
  {
   "cell_type": "code",
   "execution_count": 63,
   "metadata": {
    "scrolled": true
   },
   "outputs": [
    {
     "name": "stdout",
     "output_type": "stream",
     "text": [
      "Epoch 1\n",
      "-------------------------------\n",
      "loss: 2.295181  [    0/60000]\n",
      "loss: 1.127385  [ 6400/60000]\n",
      "loss: 0.626881  [12800/60000]\n",
      "loss: 0.744094  [19200/60000]\n",
      "loss: 0.657285  [25600/60000]\n",
      "loss: 0.559106  [32000/60000]\n",
      "loss: 0.526337  [38400/60000]\n",
      "loss: 0.662455  [44800/60000]\n",
      "loss: 0.548008  [51200/60000]\n",
      "loss: 0.540744  [57600/60000]\n",
      "Test Error: \n",
      " Accuracy: 80.6%, Avg loss: 0.500101 \n",
      "\n",
      "Test Error: \n",
      " Accuracy: 79.9%, Avg loss: 0.521592 \n",
      "\n",
      "Epoch 2\n",
      "-------------------------------\n",
      "loss: 0.469125  [    0/60000]\n",
      "loss: 0.557634  [ 6400/60000]\n",
      "loss: 0.381037  [12800/60000]\n",
      "loss: 0.516241  [19200/60000]\n",
      "loss: 0.477711  [25600/60000]\n",
      "loss: 0.549127  [32000/60000]\n",
      "loss: 0.410473  [38400/60000]\n",
      "loss: 0.574784  [44800/60000]\n",
      "loss: 0.475968  [51200/60000]\n",
      "loss: 0.388014  [57600/60000]\n",
      "Test Error: \n",
      " Accuracy: 84.6%, Avg loss: 0.407518 \n",
      "\n",
      "Test Error: \n",
      " Accuracy: 83.8%, Avg loss: 0.434113 \n",
      "\n",
      "Done!\n"
     ]
    }
   ],
   "source": [
    "epochs = 2\n",
    "train_correct_list = []\n",
    "train_loss_list = []\n",
    "test_correct_list = []\n",
    "test_loss_list = []\n",
    "for t in range(epochs):\n",
    "    print(f\"Epoch {t+1}\\n-------------------------------\")\n",
    "    train(train_dataloader, add_dropout_model_cnn_fmnist, loss_fn, optimizer)\n",
    "    train_correct,train_loss = test(train_dataloader, add_dropout_model_cnn_fmnist, loss_fn)\n",
    "    test_correct,test_loss = test(test_dataloader, add_dropout_model_cnn_fmnist, loss_fn)\n",
    "    train_correct_list.append(train_correct)\n",
    "    train_loss_list.append(train_loss)\n",
    "    test_correct_list.append(test_correct)\n",
    "    test_loss_list.append(test_loss)\n",
    "print(\"Done!\")"
   ]
  },
  {
   "cell_type": "code",
   "execution_count": 64,
   "metadata": {
    "scrolled": true
   },
   "outputs": [
    {
     "data": {
      "image/png": "[encoded data removed]",
      "text/plain": [
       "<Figure size 576x576 with 2 Axes>"
      ]
     },
     "metadata": {
      "needs_background": "light"
     },
     "output_type": "display_data"
    }
   ],
   "source": [
    "epochs_range = range(epochs)\n",
    "\n",
    "plt.figure(figsize=(8, 8))\n",
    "plt.subplot(1, 2, 1)\n",
    "plt.plot(epochs_range, train_correct_list, label='Training Accuracy')\n",
    "plt.plot(epochs_range, test_correct_list, label='Validation Accuracy')\n",
    "plt.legend(loc='lower right')\n",
    "plt.title('Training and Validation Accuracy')\n",
    "\n",
    "plt.subplot(1, 2, 2)\n",
    "plt.plot(epochs_range, train_loss_list, label='Training Loss')\n",
    "plt.plot(epochs_range, test_loss_list, label='Validation Loss')\n",
    "plt.legend(loc='upper right')\n",
    "plt.title('Training and Validation Loss')\n",
    "plt.show()"
   ]
  },
  {
   "cell_type": "markdown",
   "metadata": {},
   "source": [
    "### Change Dimension #3. Change Learning Rate\n",
    "Hypothesis:\\\n",
    "Lower the learning rate will help increase the accuracy \n",
    "\n",
    "Actual: \\\n",
    "Accuracy score is slightly decreased from previous results Accuracy: Accuracy: 83.8%, Avg loss: 0.434113 to current \\\n",
    "    \n",
    "Accuracy: Accuracy: 85.2%, Avg loss: 0.397401 "
   ]
  },
  {
   "cell_type": "code",
   "execution_count": 65,
   "metadata": {},
   "outputs": [],
   "source": [
    "loss_fn = nn.CrossEntropyLoss()\n",
    "optimizer = torch.optim.Adam(add_dropout_model_cnn_fmnist.parameters(), lr=1e-4)"
   ]
  },
  {
   "cell_type": "code",
   "execution_count": 66,
   "metadata": {
    "scrolled": true
   },
   "outputs": [
    {
     "name": "stdout",
     "output_type": "stream",
     "text": [
      "Epoch 1\n",
      "-------------------------------\n",
      "loss: 0.316807  [    0/60000]\n",
      "loss: 0.461393  [ 6400/60000]\n",
      "loss: 0.302410  [12800/60000]\n",
      "loss: 0.456135  [19200/60000]\n",
      "loss: 0.333253  [25600/60000]\n",
      "loss: 0.428844  [32000/60000]\n",
      "loss: 0.373241  [38400/60000]\n",
      "loss: 0.604943  [44800/60000]\n",
      "loss: 0.459342  [51200/60000]\n",
      "loss: 0.348453  [57600/60000]\n",
      "Test Error: \n",
      " Accuracy: 85.9%, Avg loss: 0.379248 \n",
      "\n",
      "Test Error: \n",
      " Accuracy: 84.7%, Avg loss: 0.404694 \n",
      "\n",
      "Epoch 2\n",
      "-------------------------------\n",
      "loss: 0.271944  [    0/60000]\n",
      "loss: 0.481477  [ 6400/60000]\n",
      "loss: 0.283810  [12800/60000]\n",
      "loss: 0.406784  [19200/60000]\n",
      "loss: 0.356699  [25600/60000]\n",
      "loss: 0.429559  [32000/60000]\n",
      "loss: 0.357243  [38400/60000]\n",
      "loss: 0.553306  [44800/60000]\n",
      "loss: 0.466212  [51200/60000]\n",
      "loss: 0.349710  [57600/60000]\n",
      "Test Error: \n",
      " Accuracy: 86.3%, Avg loss: 0.370337 \n",
      "\n",
      "Test Error: \n",
      " Accuracy: 85.2%, Avg loss: 0.397401 \n",
      "\n",
      "Done!\n"
     ]
    }
   ],
   "source": [
    "epochs = 2\n",
    "train_correct_list = []\n",
    "train_loss_list = []\n",
    "test_correct_list = []\n",
    "test_loss_list = []\n",
    "for t in range(epochs):\n",
    "    print(f\"Epoch {t+1}\\n-------------------------------\")\n",
    "    train(train_dataloader, add_dropout_model_cnn_fmnist, loss_fn, optimizer)\n",
    "    train_correct,train_loss = test(train_dataloader, add_dropout_model_cnn_fmnist, loss_fn)\n",
    "    test_correct,test_loss = test(test_dataloader, add_dropout_model_cnn_fmnist, loss_fn)\n",
    "    train_correct_list.append(train_correct)\n",
    "    train_loss_list.append(train_loss)\n",
    "    test_correct_list.append(test_correct)\n",
    "    test_loss_list.append(test_loss)\n",
    "print(\"Done!\")"
   ]
  },
  {
   "cell_type": "code",
   "execution_count": 68,
   "metadata": {},
   "outputs": [
    {
     "data": {
      "image/png": "[encoded data removed]",
      "text/plain": [
       "<Figure size 576x576 with 2 Axes>"
      ]
     },
     "metadata": {
      "needs_background": "light"
     },
     "output_type": "display_data"
    }
   ],
   "source": [
    "epochs_range = range(epochs)\n",
    "\n",
    "plt.figure(figsize=(8, 8))\n",
    "plt.subplot(1, 2, 1)\n",
    "plt.plot(epochs_range, train_correct_list, label='Training Accuracy')\n",
    "plt.plot(epochs_range, test_correct_list, label='Validation Accuracy')\n",
    "plt.legend(loc='lower right')\n",
    "plt.title('Training and Validation Accuracy')\n",
    "\n",
    "plt.subplot(1, 2, 2)\n",
    "plt.plot(epochs_range, train_loss_list, label='Training Loss')\n",
    "plt.plot(epochs_range, test_loss_list, label='Validation Loss')\n",
    "plt.legend(loc='upper right')\n",
    "plt.title('Training and Validation Loss')\n",
    "plt.show()"
   ]
  },
  {
   "cell_type": "markdown",
   "metadata": {
    "id": "h2Qq2ToWPAkr"
   },
   "source": [
    "## Task 3. Transfer Learning on Greek Letters"
   ]
  },
  {
   "cell_type": "code",
   "execution_count": 73,
   "metadata": {
    "colab": {
     "base_uri": "https://localhost:8080/"
    },
    "id": "hHiAFe6EJBUB",
    "outputId": "a14391f3-e272-46be-ea0b-fdae7fefd001"
   },
   "outputs": [
    {
     "name": "stdout",
     "output_type": "stream",
     "text": [
      "Archive:  /Users/mucheng/Desktop/greek_train.zip\n",
      "replace __MACOSX/._greek_train? [y]es, [n]o, [A]ll, [N]one, [r]ename: ^C\n"
     ]
    }
   ],
   "source": [
    "!unzip /Users/mucheng/Desktop/greek_train.zip"
   ]
  },
  {
   "cell_type": "markdown",
   "metadata": {
    "id": "H5ppXUZNPK2S"
   },
   "source": [
    "## Reuse the Model Built for Task 1\n",
    "\n"
   ]
  },
  {
   "cell_type": "code",
   "execution_count": 77,
   "metadata": {
    "id": "bcC3zTuIPK2S"
   },
   "outputs": [],
   "source": [
    "import torch.nn as nn\n",
    "import torch.nn.functional as F\n",
    "\n",
    "model_cnn_greek = NetMnist().to(device)\n",
    "# model_cnn_greek(X).shape"
   ]
  },
  {
   "cell_type": "markdown",
   "metadata": {
    "id": "2bW1xNgPPudD"
   },
   "source": [
    "### Load the Model"
   ]
  },
  {
   "cell_type": "code",
   "execution_count": 78,
   "metadata": {
    "colab": {
     "base_uri": "https://localhost:8080/"
    },
    "id": "2a4rh1j0Pivr",
    "outputId": "33f29d29-a116-4148-f56f-fbb7b8ef6995"
   },
   "outputs": [
    {
     "data": {
      "text/plain": [
       "<All keys matched successfully>"
      ]
     },
     "execution_count": 78,
     "metadata": {},
     "output_type": "execute_result"
    }
   ],
   "source": [
    "\n",
    "model_cnn_greek.load_state_dict(torch.load(\"model_cnn_mnist.pth\"))"
   ]
  },
  {
   "cell_type": "markdown",
   "metadata": {},
   "source": [
    "### Set requires_grad to False"
   ]
  },
  {
   "cell_type": "code",
   "execution_count": 79,
   "metadata": {
    "id": "24dErqu_PeyL"
   },
   "outputs": [],
   "source": [
    "for param in model_cnn_greek.parameters():\n",
    "    param.requires_grad = False"
   ]
  },
  {
   "cell_type": "markdown",
   "metadata": {
    "id": "kJACm6C4Qh95"
   },
   "source": [
    "### replace the last layer with a new Linear layer with three nodes"
   ]
  },
  {
   "cell_type": "code",
   "execution_count": 80,
   "metadata": {
    "colab": {
     "base_uri": "https://localhost:8080/"
    },
    "id": "Ue_wixCOQm2d",
    "outputId": "68c57319-2210-4088-82ee-54b2eb31304f"
   },
   "outputs": [
    {
     "data": {
      "text/plain": [
       "NetMnist(\n",
       "  (conv1): Conv2d(1, 6, kernel_size=(5, 5), stride=(1, 1))\n",
       "  (pool): MaxPool2d(kernel_size=2, stride=2, padding=0, dilation=1, ceil_mode=False)\n",
       "  (conv2): Conv2d(6, 16, kernel_size=(5, 5), stride=(1, 1))\n",
       "  (flatten): Flatten(start_dim=1, end_dim=-1)\n",
       "  (fc1): Linear(in_features=256, out_features=120, bias=True)\n",
       "  (fc2): Linear(in_features=120, out_features=84, bias=True)\n",
       "  (fc3): Linear(in_features=84, out_features=3, bias=True)\n",
       ")"
      ]
     },
     "execution_count": 80,
     "metadata": {},
     "output_type": "execute_result"
    }
   ],
   "source": [
    "model_cnn_greek.fc3 = nn.Linear(84, 3)\n",
    "model_cnn_greek"
   ]
  },
  {
   "cell_type": "code",
   "execution_count": 82,
   "metadata": {
    "id": "rOt_g15yP2F7"
   },
   "outputs": [],
   "source": [
    "# greek data set transform\n",
    "class GreekTransform:\n",
    "    def __init__(self):\n",
    "        pass\n",
    "\n",
    "    def __call__(self, x):\n",
    "        x = torchvision.transforms.functional.rgb_to_grayscale( x )\n",
    "        x = torchvision.transforms.functional.affine( x, 0, (0,0), 36/128, 0 )\n",
    "        x = torchvision.transforms.functional.center_crop( x, (28, 28) )\n",
    "        return torchvision.transforms.functional.invert( x )\n",
    "\n",
    "training_set_path = '/Users/mucheng/Desktop/greek_train'\n",
    "# DataLoader for the Greek data set\n",
    "greek_train = torch.utils.data.DataLoader(\n",
    "    torchvision.datasets.ImageFolder( training_set_path,\n",
    "                    transform = torchvision.transforms.Compose( [torchvision.transforms.ToTensor(),\n",
    "                                            GreekTransform(),\n",
    "                                            torchvision.transforms.Normalize((0.1307,), (0.3081,) )] ) ),\n",
    "                    batch_size = 5,\n",
    "                    shuffle = True )"
   ]
  },
  {
   "cell_type": "markdown",
   "metadata": {
    "id": "abd0xAanPK2T"
   },
   "source": [
    "### Calculating the loss and optimize the model\n"
   ]
  },
  {
   "cell_type": "code",
   "execution_count": 83,
   "metadata": {
    "id": "7lBh1K0EPK2T"
   },
   "outputs": [],
   "source": [
    "loss_fn = nn.CrossEntropyLoss()\n",
    "optimizer = torch.optim.Adam(model_cnn_greek.parameters(), lr=1e-3)"
   ]
  },
  {
   "cell_type": "markdown",
   "metadata": {
    "id": "v4kiMPVmQ5aA"
   },
   "source": [
    "### Train and Test the Dataset\n",
    "\n"
   ]
  },
  {
   "cell_type": "code",
   "execution_count": 84,
   "metadata": {
    "colab": {
     "base_uri": "https://localhost:8080/"
    },
    "id": "cvdsSvBuHwIK",
    "outputId": "64453353-c629-4728-971b-327ef860b630"
   },
   "outputs": [
    {
     "name": "stdout",
     "output_type": "stream",
     "text": [
      "Epoch 1\n",
      "-------------------------------\n",
      "loss: 0.804098  [    0/   27]\n",
      "Test Error: \n",
      " Accuracy: 74.1%, Avg loss: 0.743652 \n",
      "\n",
      "Test Error: \n",
      " Accuracy: 74.1%, Avg loss: 0.744713 \n",
      "\n",
      "Epoch 2\n",
      "-------------------------------\n",
      "loss: 0.602266  [    0/   27]\n",
      "Test Error: \n",
      " Accuracy: 88.9%, Avg loss: 0.572733 \n",
      "\n",
      "Test Error: \n",
      " Accuracy: 88.9%, Avg loss: 0.608468 \n",
      "\n",
      "Epoch 3\n",
      "-------------------------------\n",
      "loss: 0.564587  [    0/   27]\n",
      "Test Error: \n",
      " Accuracy: 92.6%, Avg loss: 0.472598 \n",
      "\n",
      "Test Error: \n",
      " Accuracy: 92.6%, Avg loss: 0.493565 \n",
      "\n",
      "Epoch 4\n",
      "-------------------------------\n",
      "loss: 0.343015  [    0/   27]\n",
      "Test Error: \n",
      " Accuracy: 92.6%, Avg loss: 0.435358 \n",
      "\n",
      "Test Error: \n",
      " Accuracy: 92.6%, Avg loss: 0.394630 \n",
      "\n",
      "Epoch 5\n",
      "-------------------------------\n",
      "loss: 0.363045  [    0/   27]\n",
      "Test Error: \n",
      " Accuracy: 96.3%, Avg loss: 0.349520 \n",
      "\n",
      "Test Error: \n",
      " Accuracy: 96.3%, Avg loss: 0.345472 \n",
      "\n",
      "Epoch 6\n",
      "-------------------------------\n",
      "loss: 0.337853  [    0/   27]\n",
      "Test Error: \n",
      " Accuracy: 96.3%, Avg loss: 0.306976 \n",
      "\n",
      "Test Error: \n",
      " Accuracy: 96.3%, Avg loss: 0.304798 \n",
      "\n",
      "Epoch 7\n",
      "-------------------------------\n",
      "loss: 0.344311  [    0/   27]\n",
      "Test Error: \n",
      " Accuracy: 96.3%, Avg loss: 0.280090 \n",
      "\n",
      "Test Error: \n",
      " Accuracy: 96.3%, Avg loss: 0.283194 \n",
      "\n",
      "Epoch 8\n",
      "-------------------------------\n",
      "loss: 0.271079  [    0/   27]\n",
      "Test Error: \n",
      " Accuracy: 96.3%, Avg loss: 0.260557 \n",
      "\n",
      "Test Error: \n",
      " Accuracy: 96.3%, Avg loss: 0.274114 \n",
      "\n",
      "Epoch 9\n",
      "-------------------------------\n",
      "loss: 0.280021  [    0/   27]\n",
      "Test Error: \n",
      " Accuracy: 96.3%, Avg loss: 0.256657 \n",
      "\n",
      "Test Error: \n",
      " Accuracy: 96.3%, Avg loss: 0.234697 \n",
      "\n",
      "Epoch 10\n",
      "-------------------------------\n",
      "loss: 0.173629  [    0/   27]\n",
      "Test Error: \n",
      " Accuracy: 96.3%, Avg loss: 0.243745 \n",
      "\n",
      "Test Error: \n",
      " Accuracy: 96.3%, Avg loss: 0.227029 \n",
      "\n",
      "Done!\n"
     ]
    }
   ],
   "source": [
    "epochs = 10\n",
    "train_correct_list = []\n",
    "train_loss_list = []\n",
    "test_correct_list = []\n",
    "test_loss_list = []\n",
    "for t in range(epochs):\n",
    "    print(f\"Epoch {t+1}\\n-------------------------------\")\n",
    "    train(greek_train, model_cnn_greek, loss_fn, optimizer)\n",
    "    train_correct,train_loss = test(greek_train, model_cnn_greek, loss_fn)\n",
    "    test_correct,test_loss = test(greek_train, model_cnn_greek, loss_fn)\n",
    "    train_correct_list.append(train_correct)\n",
    "    train_loss_list.append(train_loss)\n",
    "    test_correct_list.append(test_correct)\n",
    "    test_loss_list.append(test_loss)\n",
    "print(\"Done!\")"
   ]
  },
  {
   "cell_type": "markdown",
   "metadata": {
    "id": "x3bONM8fJ-EH"
   },
   "source": [
    "### Plot the Evaluations"
   ]
  },
  {
   "cell_type": "code",
   "execution_count": 85,
   "metadata": {
    "colab": {
     "base_uri": "https://localhost:8080/",
     "height": 499
    },
    "id": "yVGIfQXpJ-EH",
    "outputId": "5a7badb8-3714-40a7-870a-479423717ba4"
   },
   "outputs": [
    {
     "data": {
      "image/png": "[encoded data removed]",
      "text/plain": [
       "<Figure size 576x576 with 2 Axes>"
      ]
     },
     "metadata": {
      "needs_background": "light"
     },
     "output_type": "display_data"
    }
   ],
   "source": [
    "epochs_range = range(epochs)\n",
    "\n",
    "plt.figure(figsize=(8, 8))\n",
    "plt.subplot(1, 2, 1)\n",
    "plt.plot(epochs_range, train_correct_list, label='Training Accuracy')\n",
    "plt.plot(epochs_range, test_correct_list, label='Validation Accuracy')\n",
    "plt.legend(loc='lower right')\n",
    "plt.title('Training and Validation Accuracy')\n",
    "\n",
    "plt.subplot(1, 2, 2)\n",
    "plt.plot(epochs_range, train_loss_list, label='Training Loss')\n",
    "plt.plot(epochs_range, test_loss_list, label='Validation Loss')\n",
    "plt.legend(loc='upper right')\n",
    "plt.title('Training and Validation Loss')\n",
    "plt.show()"
   ]
  },
  {
   "cell_type": "markdown",
   "metadata": {
    "id": "seLSB58fS8Wg"
   },
   "source": [
    "## Task 4. Heart Disease Prediction Using an ANN"
   ]
  },
  {
   "cell_type": "markdown",
   "metadata": {},
   "source": [
    "### Preprocessing the dataset"
   ]
  },
  {
   "cell_type": "code",
   "execution_count": 86,
   "metadata": {
    "id": "HwojcB9lSzBA"
   },
   "outputs": [],
   "source": [
    "import pandas as pd\n",
    "from torch.utils.data import Dataset,DataLoader,TensorDataset"
   ]
  },
  {
   "cell_type": "code",
   "execution_count": 87,
   "metadata": {
    "colab": {
     "base_uri": "https://localhost:8080/",
     "height": 270
    },
    "id": "eI9E-_YTSzEa",
    "outputId": "e956bbd7-5dbb-4d09-80a0-1b38d53b2a3e"
   },
   "outputs": [
    {
     "data": {
      "text/html": [
       "<div>\n",
       "<style scoped>\n",
       "    .dataframe tbody tr th:only-of-type {\n",
       "        vertical-align: middle;\n",
       "    }\n",
       "\n",
       "    .dataframe tbody tr th {\n",
       "        vertical-align: top;\n",
       "    }\n",
       "\n",
       "    .dataframe thead th {\n",
       "        text-align: right;\n",
       "    }\n",
       "</style>\n",
       "<table border=\"1\" class=\"dataframe\">\n",
       "  <thead>\n",
       "    <tr style=\"text-align: right;\">\n",
       "      <th></th>\n",
       "      <th>Age</th>\n",
       "      <th>Sex</th>\n",
       "      <th>ChestPainType</th>\n",
       "      <th>RestingBP</th>\n",
       "      <th>Cholesterol</th>\n",
       "      <th>FastingBS</th>\n",
       "      <th>RestingECG</th>\n",
       "      <th>MaxHR</th>\n",
       "      <th>ExerciseAngina</th>\n",
       "      <th>Oldpeak</th>\n",
       "      <th>ST_Slope</th>\n",
       "      <th>HeartDisease</th>\n",
       "    </tr>\n",
       "  </thead>\n",
       "  <tbody>\n",
       "    <tr>\n",
       "      <th>0</th>\n",
       "      <td>40</td>\n",
       "      <td>M</td>\n",
       "      <td>ATA</td>\n",
       "      <td>140</td>\n",
       "      <td>289</td>\n",
       "      <td>0</td>\n",
       "      <td>Normal</td>\n",
       "      <td>172</td>\n",
       "      <td>N</td>\n",
       "      <td>0.0</td>\n",
       "      <td>Up</td>\n",
       "      <td>0</td>\n",
       "    </tr>\n",
       "    <tr>\n",
       "      <th>1</th>\n",
       "      <td>49</td>\n",
       "      <td>F</td>\n",
       "      <td>NAP</td>\n",
       "      <td>160</td>\n",
       "      <td>180</td>\n",
       "      <td>0</td>\n",
       "      <td>Normal</td>\n",
       "      <td>156</td>\n",
       "      <td>N</td>\n",
       "      <td>1.0</td>\n",
       "      <td>Flat</td>\n",
       "      <td>1</td>\n",
       "    </tr>\n",
       "    <tr>\n",
       "      <th>2</th>\n",
       "      <td>37</td>\n",
       "      <td>M</td>\n",
       "      <td>ATA</td>\n",
       "      <td>130</td>\n",
       "      <td>283</td>\n",
       "      <td>0</td>\n",
       "      <td>ST</td>\n",
       "      <td>98</td>\n",
       "      <td>N</td>\n",
       "      <td>0.0</td>\n",
       "      <td>Up</td>\n",
       "      <td>0</td>\n",
       "    </tr>\n",
       "    <tr>\n",
       "      <th>3</th>\n",
       "      <td>48</td>\n",
       "      <td>F</td>\n",
       "      <td>ASY</td>\n",
       "      <td>138</td>\n",
       "      <td>214</td>\n",
       "      <td>0</td>\n",
       "      <td>Normal</td>\n",
       "      <td>108</td>\n",
       "      <td>Y</td>\n",
       "      <td>1.5</td>\n",
       "      <td>Flat</td>\n",
       "      <td>1</td>\n",
       "    </tr>\n",
       "    <tr>\n",
       "      <th>4</th>\n",
       "      <td>54</td>\n",
       "      <td>M</td>\n",
       "      <td>NAP</td>\n",
       "      <td>150</td>\n",
       "      <td>195</td>\n",
       "      <td>0</td>\n",
       "      <td>Normal</td>\n",
       "      <td>122</td>\n",
       "      <td>N</td>\n",
       "      <td>0.0</td>\n",
       "      <td>Up</td>\n",
       "      <td>0</td>\n",
       "    </tr>\n",
       "  </tbody>\n",
       "</table>\n",
       "</div>"
      ],
      "text/plain": [
       "   Age Sex ChestPainType  RestingBP  Cholesterol  FastingBS RestingECG  MaxHR  \\\n",
       "0   40   M           ATA        140          289          0     Normal    172   \n",
       "1   49   F           NAP        160          180          0     Normal    156   \n",
       "2   37   M           ATA        130          283          0         ST     98   \n",
       "3   48   F           ASY        138          214          0     Normal    108   \n",
       "4   54   M           NAP        150          195          0     Normal    122   \n",
       "\n",
       "  ExerciseAngina  Oldpeak ST_Slope  HeartDisease  \n",
       "0              N      0.0       Up             0  \n",
       "1              N      1.0     Flat             1  \n",
       "2              N      0.0       Up             0  \n",
       "3              Y      1.5     Flat             1  \n",
       "4              N      0.0       Up             0  "
      ]
     },
     "execution_count": 87,
     "metadata": {},
     "output_type": "execute_result"
    }
   ],
   "source": [
    "pd_ori = pd.read_csv('/Users/mucheng/Desktop/heart.csv')\n",
    "pd_ori.head()"
   ]
  },
  {
   "cell_type": "code",
   "execution_count": 88,
   "metadata": {
    "colab": {
     "base_uri": "https://localhost:8080/"
    },
    "id": "NZlhO90hTLXw",
    "outputId": "80654a7e-89ed-48a4-d150-8cf48fc29e3e"
   },
   "outputs": [
    {
     "data": {
      "text/plain": [
       "(918, 12)"
      ]
     },
     "execution_count": 88,
     "metadata": {},
     "output_type": "execute_result"
    }
   ],
   "source": [
    "pd_ori.shape"
   ]
  },
  {
   "cell_type": "code",
   "execution_count": 90,
   "metadata": {
    "id": "V_1gIn7UkKZE"
   },
   "outputs": [],
   "source": [
    "from sklearn.preprocessing import OneHotEncoder,OrdinalEncoder\n",
    "from sklearn.impute import SimpleImputer\n",
    "from sklearn.pipeline import Pipeline\n",
    "from sklearn.compose import ColumnTransformer\n",
    "from sklearn.preprocessing import StandardScaler"
   ]
  },
  {
   "cell_type": "code",
   "execution_count": 91,
   "metadata": {
    "id": "Zzi-6uY7kKb-"
   },
   "outputs": [],
   "source": [
    "cat_si_step = ('si', SimpleImputer(strategy='constant', fill_value=-99))\n",
    "cat_ohe_step = ('ohe', OrdinalEncoder()) #离散数据整数化处理\n",
    "cat_steps = [cat_si_step, cat_ohe_step]\n",
    "\n",
    "cat_pipe = Pipeline(cat_steps)\n",
    "cat_cols = ['Sex','ChestPainType','RestingECG','ExerciseAngina'\n",
    ",'ST_Slope']\n",
    "cat_transformers = [('cat', cat_pipe, cat_cols)]\n",
    "\n",
    "ct = ColumnTransformer(transformers=cat_transformers)"
   ]
  },
  {
   "cell_type": "code",
   "execution_count": 92,
   "metadata": {
    "colab": {
     "base_uri": "https://localhost:8080/"
    },
    "id": "WKDcfYiijgpZ",
    "outputId": "68a28166-2e21-4c47-c25d-0106ffb5bfc9"
   },
   "outputs": [
    {
     "data": {
      "text/plain": [
       "(918, 5)"
      ]
     },
     "execution_count": 92,
     "metadata": {},
     "output_type": "execute_result"
    }
   ],
   "source": [
    "X_kdd_transformed = ct.fit_transform(pd_ori)\n",
    "X_kdd_transformed.shape"
   ]
  },
  {
   "cell_type": "code",
   "execution_count": 93,
   "metadata": {
    "colab": {
     "base_uri": "https://localhost:8080/"
    },
    "id": "VLCS7MdxlmY9",
    "outputId": "c2612e18-c368-4f3e-ed20-b37bf1981359"
   },
   "outputs": [
    {
     "data": {
      "text/plain": [
       "ColumnTransformer(transformers=[('cat',\n",
       "                                 Pipeline(steps=[('si',\n",
       "                                                  SimpleImputer(fill_value=-99,\n",
       "                                                                strategy='constant')),\n",
       "                                                 ('ohe', OrdinalEncoder())]),\n",
       "                                 ['Sex', 'ChestPainType', 'RestingECG',\n",
       "                                  'ExerciseAngina', 'ST_Slope'])])"
      ]
     },
     "execution_count": 93,
     "metadata": {},
     "output_type": "execute_result"
    }
   ],
   "source": [
    "ct"
   ]
  },
  {
   "cell_type": "code",
   "execution_count": 94,
   "metadata": {
    "colab": {
     "base_uri": "https://localhost:8080/"
    },
    "id": "A8dWN4Yil7jw",
    "outputId": "1a03bf24-73f7-44d8-9ab2-aed3fcb94a53"
   },
   "outputs": [
    {
     "data": {
      "text/plain": [
       "[array(['F', 'M'], dtype=object),\n",
       " array(['ASY', 'ATA', 'NAP', 'TA'], dtype=object),\n",
       " array(['LVH', 'Normal', 'ST'], dtype=object),\n",
       " array(['N', 'Y'], dtype=object),\n",
       " array(['Down', 'Flat', 'Up'], dtype=object)]"
      ]
     },
     "execution_count": 94,
     "metadata": {},
     "output_type": "execute_result"
    }
   ],
   "source": [
    "ct.named_transformers_['cat'].named_steps['ohe'].categories_"
   ]
  },
  {
   "cell_type": "code",
   "execution_count": 95,
   "metadata": {
    "colab": {
     "base_uri": "https://localhost:8080/"
    },
    "id": "sva44U8xlkH8",
    "outputId": "30be8207-881d-4eaf-b58e-1e0ad5431c44"
   },
   "outputs": [
    {
     "data": {
      "text/plain": [
       "array([[1., 1., 1., 0., 2.],\n",
       "       [0., 2., 1., 0., 1.],\n",
       "       [1., 1., 2., 0., 2.],\n",
       "       [0., 0., 1., 1., 1.],\n",
       "       [1., 2., 1., 0., 2.]])"
      ]
     },
     "execution_count": 95,
     "metadata": {},
     "output_type": "execute_result"
    }
   ],
   "source": [
    "X_kdd_transformed[:5]"
   ]
  },
  {
   "cell_type": "code",
   "execution_count": 96,
   "metadata": {
    "colab": {
     "base_uri": "https://localhost:8080/",
     "height": 206
    },
    "id": "_Gmqw6JWcVKK",
    "outputId": "db370ee7-e4ee-43bd-d046-573bb4277370"
   },
   "outputs": [
    {
     "data": {
      "text/html": [
       "<div>\n",
       "<style scoped>\n",
       "    .dataframe tbody tr th:only-of-type {\n",
       "        vertical-align: middle;\n",
       "    }\n",
       "\n",
       "    .dataframe tbody tr th {\n",
       "        vertical-align: top;\n",
       "    }\n",
       "\n",
       "    .dataframe thead th {\n",
       "        text-align: right;\n",
       "    }\n",
       "</style>\n",
       "<table border=\"1\" class=\"dataframe\">\n",
       "  <thead>\n",
       "    <tr style=\"text-align: right;\">\n",
       "      <th></th>\n",
       "      <th>Sex</th>\n",
       "      <th>ChestPainType</th>\n",
       "      <th>RestingECG</th>\n",
       "      <th>ExerciseAngina</th>\n",
       "      <th>ST_Slope</th>\n",
       "    </tr>\n",
       "  </thead>\n",
       "  <tbody>\n",
       "    <tr>\n",
       "      <th>0</th>\n",
       "      <td>M</td>\n",
       "      <td>ATA</td>\n",
       "      <td>Normal</td>\n",
       "      <td>N</td>\n",
       "      <td>Up</td>\n",
       "    </tr>\n",
       "    <tr>\n",
       "      <th>1</th>\n",
       "      <td>F</td>\n",
       "      <td>NAP</td>\n",
       "      <td>Normal</td>\n",
       "      <td>N</td>\n",
       "      <td>Flat</td>\n",
       "    </tr>\n",
       "    <tr>\n",
       "      <th>2</th>\n",
       "      <td>M</td>\n",
       "      <td>ATA</td>\n",
       "      <td>ST</td>\n",
       "      <td>N</td>\n",
       "      <td>Up</td>\n",
       "    </tr>\n",
       "    <tr>\n",
       "      <th>3</th>\n",
       "      <td>F</td>\n",
       "      <td>ASY</td>\n",
       "      <td>Normal</td>\n",
       "      <td>Y</td>\n",
       "      <td>Flat</td>\n",
       "    </tr>\n",
       "    <tr>\n",
       "      <th>4</th>\n",
       "      <td>M</td>\n",
       "      <td>NAP</td>\n",
       "      <td>Normal</td>\n",
       "      <td>N</td>\n",
       "      <td>Up</td>\n",
       "    </tr>\n",
       "  </tbody>\n",
       "</table>\n",
       "</div>"
      ],
      "text/plain": [
       "  Sex ChestPainType RestingECG ExerciseAngina ST_Slope\n",
       "0   M           ATA     Normal              N       Up\n",
       "1   F           NAP     Normal              N     Flat\n",
       "2   M           ATA         ST              N       Up\n",
       "3   F           ASY     Normal              Y     Flat\n",
       "4   M           NAP     Normal              N       Up"
      ]
     },
     "execution_count": 96,
     "metadata": {},
     "output_type": "execute_result"
    }
   ],
   "source": [
    "pd_ori[cat_cols][:5]"
   ]
  },
  {
   "cell_type": "code",
   "execution_count": 97,
   "metadata": {
    "colab": {
     "base_uri": "https://localhost:8080/"
    },
    "id": "n8XKKUYclf3e",
    "outputId": "7aa9912d-6502-4d93-cef8-c3bc56b9515b"
   },
   "outputs": [
    {
     "data": {
      "text/plain": [
       "(918, 5)"
      ]
     },
     "execution_count": 97,
     "metadata": {},
     "output_type": "execute_result"
    }
   ],
   "source": [
    "X_kdd_transformed.shape\n"
   ]
  },
  {
   "cell_type": "code",
   "execution_count": 98,
   "metadata": {
    "colab": {
     "base_uri": "https://localhost:8080/",
     "height": 270
    },
    "id": "hSibQvxdBbg7",
    "outputId": "bd0920a3-6fe2-44f8-bf89-d682987afabe"
   },
   "outputs": [
    {
     "data": {
      "text/html": [
       "<div>\n",
       "<style scoped>\n",
       "    .dataframe tbody tr th:only-of-type {\n",
       "        vertical-align: middle;\n",
       "    }\n",
       "\n",
       "    .dataframe tbody tr th {\n",
       "        vertical-align: top;\n",
       "    }\n",
       "\n",
       "    .dataframe thead th {\n",
       "        text-align: right;\n",
       "    }\n",
       "</style>\n",
       "<table border=\"1\" class=\"dataframe\">\n",
       "  <thead>\n",
       "    <tr style=\"text-align: right;\">\n",
       "      <th></th>\n",
       "      <th>Age</th>\n",
       "      <th>Sex</th>\n",
       "      <th>ChestPainType</th>\n",
       "      <th>RestingBP</th>\n",
       "      <th>Cholesterol</th>\n",
       "      <th>FastingBS</th>\n",
       "      <th>RestingECG</th>\n",
       "      <th>MaxHR</th>\n",
       "      <th>ExerciseAngina</th>\n",
       "      <th>Oldpeak</th>\n",
       "      <th>ST_Slope</th>\n",
       "      <th>HeartDisease</th>\n",
       "    </tr>\n",
       "  </thead>\n",
       "  <tbody>\n",
       "    <tr>\n",
       "      <th>0</th>\n",
       "      <td>40</td>\n",
       "      <td>M</td>\n",
       "      <td>ATA</td>\n",
       "      <td>140</td>\n",
       "      <td>289</td>\n",
       "      <td>0</td>\n",
       "      <td>Normal</td>\n",
       "      <td>172</td>\n",
       "      <td>N</td>\n",
       "      <td>0.0</td>\n",
       "      <td>Up</td>\n",
       "      <td>0</td>\n",
       "    </tr>\n",
       "    <tr>\n",
       "      <th>1</th>\n",
       "      <td>49</td>\n",
       "      <td>F</td>\n",
       "      <td>NAP</td>\n",
       "      <td>160</td>\n",
       "      <td>180</td>\n",
       "      <td>0</td>\n",
       "      <td>Normal</td>\n",
       "      <td>156</td>\n",
       "      <td>N</td>\n",
       "      <td>1.0</td>\n",
       "      <td>Flat</td>\n",
       "      <td>1</td>\n",
       "    </tr>\n",
       "    <tr>\n",
       "      <th>2</th>\n",
       "      <td>37</td>\n",
       "      <td>M</td>\n",
       "      <td>ATA</td>\n",
       "      <td>130</td>\n",
       "      <td>283</td>\n",
       "      <td>0</td>\n",
       "      <td>ST</td>\n",
       "      <td>98</td>\n",
       "      <td>N</td>\n",
       "      <td>0.0</td>\n",
       "      <td>Up</td>\n",
       "      <td>0</td>\n",
       "    </tr>\n",
       "    <tr>\n",
       "      <th>3</th>\n",
       "      <td>48</td>\n",
       "      <td>F</td>\n",
       "      <td>ASY</td>\n",
       "      <td>138</td>\n",
       "      <td>214</td>\n",
       "      <td>0</td>\n",
       "      <td>Normal</td>\n",
       "      <td>108</td>\n",
       "      <td>Y</td>\n",
       "      <td>1.5</td>\n",
       "      <td>Flat</td>\n",
       "      <td>1</td>\n",
       "    </tr>\n",
       "    <tr>\n",
       "      <th>4</th>\n",
       "      <td>54</td>\n",
       "      <td>M</td>\n",
       "      <td>NAP</td>\n",
       "      <td>150</td>\n",
       "      <td>195</td>\n",
       "      <td>0</td>\n",
       "      <td>Normal</td>\n",
       "      <td>122</td>\n",
       "      <td>N</td>\n",
       "      <td>0.0</td>\n",
       "      <td>Up</td>\n",
       "      <td>0</td>\n",
       "    </tr>\n",
       "  </tbody>\n",
       "</table>\n",
       "</div>"
      ],
      "text/plain": [
       "   Age Sex ChestPainType  RestingBP  Cholesterol  FastingBS RestingECG  MaxHR  \\\n",
       "0   40   M           ATA        140          289          0     Normal    172   \n",
       "1   49   F           NAP        160          180          0     Normal    156   \n",
       "2   37   M           ATA        130          283          0         ST     98   \n",
       "3   48   F           ASY        138          214          0     Normal    108   \n",
       "4   54   M           NAP        150          195          0     Normal    122   \n",
       "\n",
       "  ExerciseAngina  Oldpeak ST_Slope  HeartDisease  \n",
       "0              N      0.0       Up             0  \n",
       "1              N      1.0     Flat             1  \n",
       "2              N      0.0       Up             0  \n",
       "3              Y      1.5     Flat             1  \n",
       "4              N      0.0       Up             0  "
      ]
     },
     "execution_count": 98,
     "metadata": {},
     "output_type": "execute_result"
    }
   ],
   "source": [
    "pd_ori.head()"
   ]
  },
  {
   "cell_type": "code",
   "execution_count": 99,
   "metadata": {
    "colab": {
     "base_uri": "https://localhost:8080/"
    },
    "id": "7sBER7RdBbm1",
    "outputId": "e86c71ae-745c-4089-81fd-048c1975cba6"
   },
   "outputs": [
    {
     "data": {
      "text/plain": [
       "Index(['Age', 'Sex', 'ChestPainType', 'RestingBP', 'Cholesterol', 'FastingBS',\n",
       "       'RestingECG', 'MaxHR', 'ExerciseAngina', 'Oldpeak', 'ST_Slope',\n",
       "       'HeartDisease'],\n",
       "      dtype='object')"
      ]
     },
     "execution_count": 99,
     "metadata": {},
     "output_type": "execute_result"
    }
   ],
   "source": [
    "pd_ori.columns"
   ]
  },
  {
   "cell_type": "code",
   "execution_count": 100,
   "metadata": {
    "id": "_lr16JfxpUQB"
   },
   "outputs": [],
   "source": [
    "num_cols = ['Age', 'RestingBP', 'Cholesterol','FastingBS','MaxHR', 'Oldpeak']"
   ]
  },
  {
   "cell_type": "code",
   "execution_count": 101,
   "metadata": {
    "colab": {
     "base_uri": "https://localhost:8080/"
    },
    "id": "afSuTMevmhBW",
    "outputId": "90f1ea6d-5f25-4801-a516-b5f9dd0e2d0c"
   },
   "outputs": [
    {
     "data": {
      "text/plain": [
       "(918, 6)"
      ]
     },
     "execution_count": 101,
     "metadata": {},
     "output_type": "execute_result"
    }
   ],
   "source": [
    "\n",
    "num_si_step = ('si', SimpleImputer(strategy='median'))\n",
    "num_ss_step = ('ss', StandardScaler()) #均值-标准差归一化\n",
    "num_steps = [num_si_step, num_ss_step]\n",
    "\n",
    "num_pipe = Pipeline(num_steps)\n",
    "num_transformers = [('num', num_pipe, num_cols)]\n",
    "\n",
    "ct = ColumnTransformer(transformers=num_transformers)\n",
    "\n",
    "X_num_transformed = ct.fit_transform(pd_ori)\n",
    "X_num_transformed.shape"
   ]
  },
  {
   "cell_type": "code",
   "execution_count": 102,
   "metadata": {
    "colab": {
     "base_uri": "https://localhost:8080/"
    },
    "id": "j33FRtPewUgd",
    "outputId": "124afcfd-7cc9-4719-e79f-7ac8a53777a3"
   },
   "outputs": [
    {
     "data": {
      "text/plain": [
       "array([[-1.4331398 ,  0.41090889,  0.82507026, -0.55134134,  1.38292822,\n",
       "        -0.83243239],\n",
       "       [-0.47848359,  1.49175234, -0.17196105, -0.55134134,  0.75415714,\n",
       "         0.10566353],\n",
       "       [-1.75135854, -0.12951283,  0.7701878 , -0.55134134, -1.52513802,\n",
       "        -0.83243239],\n",
       "       [-0.5845565 ,  0.30282455,  0.13903954, -0.55134134, -1.13215609,\n",
       "         0.57471149],\n",
       "       [ 0.05188098,  0.95133062, -0.0347549 , -0.55134134, -0.5819814 ,\n",
       "        -0.83243239]])"
      ]
     },
     "execution_count": 102,
     "metadata": {},
     "output_type": "execute_result"
    }
   ],
   "source": [
    "X_num_transformed[:5]"
   ]
  },
  {
   "cell_type": "code",
   "execution_count": 103,
   "metadata": {
    "colab": {
     "base_uri": "https://localhost:8080/"
    },
    "id": "MnOl_s0ZmhEn",
    "outputId": "87e93a56-3d2a-4150-8d86-4a271b0a552c"
   },
   "outputs": [
    {
     "data": {
      "text/plain": [
       "(918, 11)"
      ]
     },
     "execution_count": 103,
     "metadata": {},
     "output_type": "execute_result"
    }
   ],
   "source": [
    "transformers = [('cat', cat_pipe, cat_cols),\n",
    "                ('num', num_pipe, num_cols)]\n",
    "\n",
    "ct = ColumnTransformer(transformers=transformers)\n",
    "\n",
    "X_strct = ct.fit_transform(pd_ori)\n",
    "X_strct.shape"
   ]
  },
  {
   "cell_type": "code",
   "execution_count": 104,
   "metadata": {
    "colab": {
     "base_uri": "https://localhost:8080/"
    },
    "id": "F-24jhnLNBiH",
    "outputId": "d07fc13b-263c-4c03-de1c-94e281cd0e32"
   },
   "outputs": [
    {
     "data": {
      "text/plain": [
       "11"
      ]
     },
     "execution_count": 104,
     "metadata": {},
     "output_type": "execute_result"
    }
   ],
   "source": [
    "dim_num = X_strct.shape[-1]\n",
    "dim_num"
   ]
  },
  {
   "cell_type": "code",
   "execution_count": null,
   "metadata": {
    "id": "JJbRTCicBP0L"
   },
   "outputs": [],
   "source": []
  },
  {
   "cell_type": "code",
   "execution_count": 105,
   "metadata": {
    "colab": {
     "base_uri": "https://localhost:8080/"
    },
    "id": "1uZIobLimhHm",
    "outputId": "5afa4550-da1a-4bb8-f8b9-0ef49c75c361"
   },
   "outputs": [
    {
     "data": {
      "text/plain": [
       "(array([0, 1, 0, 1, 0, 0, 0, 0, 1, 0]), array([0, 1, 0, 1, 0, 0, 0, 0, 1, 0]))"
      ]
     },
     "execution_count": 105,
     "metadata": {},
     "output_type": "execute_result"
    }
   ],
   "source": [
    "from sklearn import preprocessing\n",
    "label_encoder = preprocessing.LabelEncoder()\n",
    "labels_ori_list =pd_ori['HeartDisease'].values\n",
    "label_list = label_encoder.fit_transform(labels_ori_list)\n",
    "\n",
    "label_list[:10],pd_ori['HeartDisease'].values[:10]"
   ]
  },
  {
   "cell_type": "code",
   "execution_count": 106,
   "metadata": {
    "colab": {
     "base_uri": "https://localhost:8080/"
    },
    "id": "OKHJYOJECorp",
    "outputId": "463dd944-73e8-43c9-8ed2-730cc8c59c8b"
   },
   "outputs": [
    {
     "data": {
      "text/plain": [
       "torch.Size([64, 1, 28, 28])"
      ]
     },
     "execution_count": 106,
     "metadata": {},
     "output_type": "execute_result"
    }
   ],
   "source": [
    "X.shape"
   ]
  },
  {
   "cell_type": "markdown",
   "metadata": {
    "id": "YvoK8OstBzTn"
   },
   "source": [
    "### Dataset and Dataloader"
   ]
  },
  {
   "cell_type": "code",
   "execution_count": 107,
   "metadata": {
    "id": "DihiZ4LVrKfD"
   },
   "outputs": [],
   "source": [
    "ds_train = TensorDataset(torch.tensor(X_strct[:700]).float(),torch.tensor(label_list[:700]))\n",
    "ds_test = TensorDataset(torch.tensor(X_strct[700:]).float(),torch.tensor(label_list[700:]))\n",
    "\n",
    "dl_train = DataLoader(ds_train,shuffle = True, batch_size = 8)\n",
    "dl_test = DataLoader(ds_test,shuffle = False, batch_size = 8)"
   ]
  },
  {
   "cell_type": "code",
   "execution_count": 108,
   "metadata": {
    "colab": {
     "base_uri": "https://localhost:8080/"
    },
    "id": "hNOa9VikDLmX",
    "outputId": "358f0278-07cc-4e78-896a-c2da7ef8119f"
   },
   "outputs": [
    {
     "name": "stdout",
     "output_type": "stream",
     "text": [
      "tensor([[ 1.0000,  1.0000,  1.0000,  0.0000,  2.0000, -0.5846,  0.4109,  0.3586,\n",
      "         -0.5513, -0.7392, -0.8324],\n",
      "        [ 0.0000,  0.0000,  0.0000,  0.0000,  2.0000,  0.3701, -0.2376,  0.9531,\n",
      "         -0.5513,  0.8721, -0.8324],\n",
      "        [ 1.0000,  0.0000,  1.0000,  1.0000,  1.0000, -0.3724, -0.1295,  0.3128,\n",
      "         -0.5513, -0.6213,  1.0438],\n",
      "        [ 1.0000,  1.0000,  1.0000,  0.0000,  2.0000, -0.4785, -1.7508,  0.4958,\n",
      "         -0.5513,  1.4615, -0.8324],\n",
      "        [ 1.0000,  0.0000,  0.0000,  1.0000,  1.0000,  0.7944,  0.3028, -0.3000,\n",
      "         -0.5513, -0.4641,  2.5447],\n",
      "        [ 0.0000,  3.0000,  2.0000,  0.0000,  2.0000, -1.9635, -0.6699, -0.3549,\n",
      "         -0.5513,  1.8938, -0.8324],\n",
      "        [ 0.0000,  1.0000,  1.0000,  0.0000,  2.0000, -0.9028,  2.5726,  0.8800,\n",
      "         -0.5513,  1.6973, -0.8324],\n",
      "        [ 1.0000,  0.0000,  2.0000,  1.0000,  1.0000,  0.6883,  1.4918, -1.8184,\n",
      "         -0.5513, -1.4858, -0.3634]]) tensor([0, 0, 1, 0, 1, 0, 0, 1])\n"
     ]
    }
   ],
   "source": [
    "# 测试数据管道\n",
    "for features,labels in dl_train:\n",
    "    print(features,labels)\n",
    "    break"
   ]
  },
  {
   "cell_type": "markdown",
   "metadata": {
    "id": "IZKiCq7TKtPN"
   },
   "source": [
    "## Building a Simple NN\n"
   ]
  },
  {
   "cell_type": "code",
   "execution_count": 109,
   "metadata": {
    "colab": {
     "base_uri": "https://localhost:8080/"
    },
    "id": "8j_jFk0yDbeF",
    "outputId": "8ee02238-4c86-4e45-c3bb-615e4a60fceb"
   },
   "outputs": [
    {
     "data": {
      "text/plain": [
       "torch.Size([8, 2])"
      ]
     },
     "execution_count": 109,
     "metadata": {},
     "output_type": "execute_result"
    }
   ],
   "source": [
    "import torch.nn as nn\n",
    "import torch.nn.functional as F\n",
    "\n",
    "class NetHeartDnn(nn.Module):\n",
    "    def __init__(self):\n",
    "        super().__init__()\n",
    "        self.fc1 = nn.Linear(11, 50)\n",
    "        self.fc2 = nn.Linear(50, 20)\n",
    "        self.fc3 = nn.Linear(20, 2)\n",
    "\n",
    "    def forward(self, x):\n",
    "        x = F.relu(self.fc1(x))\n",
    "        x = F.relu(self.fc2(x))\n",
    "        x = self.fc3(x)\n",
    "        return x\n",
    "\n",
    "\n",
    "net_heart_dnn = NetHeartDnn().to(device)\n",
    "net_heart_dnn(features).shape"
   ]
  },
  {
   "cell_type": "code",
   "execution_count": 110,
   "metadata": {
    "id": "AXIUVfywMSQW"
   },
   "outputs": [
    {
     "data": {
      "text/plain": [
       "NetHeartDnn(\n",
       "  (fc1): Linear(in_features=11, out_features=50, bias=True)\n",
       "  (fc2): Linear(in_features=50, out_features=20, bias=True)\n",
       "  (fc3): Linear(in_features=20, out_features=2, bias=True)\n",
       ")"
      ]
     },
     "execution_count": 110,
     "metadata": {},
     "output_type": "execute_result"
    }
   ],
   "source": [
    "net_heart_dnn"
   ]
  },
  {
   "cell_type": "markdown",
   "metadata": {
    "id": "mXsj_45YMSZD"
   },
   "source": [
    "### Building a CNN Model"
   ]
  },
  {
   "cell_type": "code",
   "execution_count": 111,
   "metadata": {
    "colab": {
     "base_uri": "https://localhost:8080/"
    },
    "id": "BfsCr8QoMSZD",
    "outputId": "e69758ca-6f0b-4371-a7ed-9bab112faefd"
   },
   "outputs": [
    {
     "data": {
      "text/plain": [
       "torch.Size([8, 2])"
      ]
     },
     "execution_count": 111,
     "metadata": {},
     "output_type": "execute_result"
    }
   ],
   "source": [
    "import torch.nn as nn\n",
    "import torch.nn.functional as F\n",
    "\n",
    "class NetHeartCnn(nn.Module):\n",
    "    def __init__(self):\n",
    "        super().__init__()\n",
    "        self.conv1 = nn.Conv1d(5, 6, 5)\n",
    "        self.pool = nn.MaxPool2d(2, 2)\n",
    "        self.flatten = nn.Flatten()\n",
    "        self.fc1 = nn.Linear(11, 50)\n",
    "        self.fc2 = nn.Linear(9, 20)\n",
    "        self.fc3 = nn.Linear(20, 2)\n",
    "\n",
    "    def forward(self, x):\n",
    "        x = F.relu(self.fc1(x))\n",
    "        x = x.view(-1,5,10)\n",
    "        x = self.pool(F.relu(self.conv1(x)))\n",
    "        x = self.flatten(x)\n",
    "        x = F.relu(self.fc2(x))\n",
    "        x = self.fc3(x)\n",
    "        return x\n",
    "\n",
    "\n",
    "net_heart_cnn = NetHeartCnn().to(device)\n",
    "net_heart_cnn(features).shape"
   ]
  },
  {
   "cell_type": "code",
   "execution_count": 112,
   "metadata": {},
   "outputs": [
    {
     "data": {
      "text/plain": [
       "NetHeartCnn(\n",
       "  (conv1): Conv1d(5, 6, kernel_size=(5,), stride=(1,))\n",
       "  (pool): MaxPool2d(kernel_size=2, stride=2, padding=0, dilation=1, ceil_mode=False)\n",
       "  (flatten): Flatten(start_dim=1, end_dim=-1)\n",
       "  (fc1): Linear(in_features=11, out_features=50, bias=True)\n",
       "  (fc2): Linear(in_features=9, out_features=20, bias=True)\n",
       "  (fc3): Linear(in_features=20, out_features=2, bias=True)\n",
       ")"
      ]
     },
     "execution_count": 112,
     "metadata": {},
     "output_type": "execute_result"
    }
   ],
   "source": [
    "net_heart_cnn"
   ]
  },
  {
   "cell_type": "markdown",
   "metadata": {
    "id": "2KB2XNvGDbeF"
   },
   "source": [
    "### Calculating Loss and Optimize the Model\n",
    "\n",
    "The following demonstration will show the evaluations of dnn Model as the cnn Model is commented out for better demonstration purpose\n"
   ]
  },
  {
   "cell_type": "code",
   "execution_count": 113,
   "metadata": {
    "id": "sdf9wiwXDbeF"
   },
   "outputs": [],
   "source": [
    "loss_fn = nn.CrossEntropyLoss()\n",
    "optimizer = torch.optim.Adam(net_heart_dnn.parameters(), lr=1e-3)\n",
    "# optimizer = torch.optim.Adam(net_heart_cnn.parameters(), lr=1e-3)"
   ]
  },
  {
   "cell_type": "markdown",
   "metadata": {
    "id": "ebK5O0FjDbeF"
   },
   "source": [
    "### Building the Training and Testing Loops\n"
   ]
  },
  {
   "cell_type": "code",
   "execution_count": 114,
   "metadata": {
    "id": "tjsPkKfmDbeG"
   },
   "outputs": [],
   "source": [
    "def train(dataloader, model, loss_fn, optimizer):\n",
    "    size = len(dataloader.dataset)\n",
    "    model.train()\n",
    "    for batch, (X, y) in enumerate(dataloader):\n",
    "        X, y = X.to(device), y.to(device)\n",
    "\n",
    "        # Compute prediction error\n",
    "        pred = model(X)\n",
    "        loss = loss_fn(pred, y)\n",
    "\n",
    "        # Backpropagation\n",
    "        optimizer.zero_grad()\n",
    "        loss.backward()\n",
    "        optimizer.step()\n",
    "\n",
    "        if batch % 100 == 0:\n",
    "            loss, current = loss.item(), batch * len(X)\n",
    "            print(f\"loss: {loss:>7f}  [{current:>5d}/{size:>5d}]\")"
   ]
  },
  {
   "cell_type": "code",
   "execution_count": 115,
   "metadata": {
    "id": "lAfBxszSDbeG"
   },
   "outputs": [],
   "source": [
    "def test(dataloader, model, loss_fn):\n",
    "    size = len(dataloader.dataset)\n",
    "    num_batches = len(dataloader)\n",
    "    model.eval()\n",
    "    test_loss, correct = 0, 0\n",
    "    with torch.no_grad():\n",
    "        for X, y in dataloader:\n",
    "            X, y = X.to(device), y.to(device)\n",
    "            pred = model(X)\n",
    "            test_loss += loss_fn(pred, y).item()\n",
    "            correct += (pred.argmax(1) == y).type(torch.float).sum().item()\n",
    "    test_loss /= num_batches\n",
    "    correct /= size\n",
    "    \n",
    "    print(f\"Test Error: \\n Accuracy: {(100*correct):>0.1f}%, Avg loss: {test_loss:>8f} \\n\")\n",
    "    return correct,test_loss"
   ]
  },
  {
   "cell_type": "markdown",
   "metadata": {
    "id": "vFpj7A6rK4Jn"
   },
   "source": [
    "### Accuracy Scores and Evaluations\n",
    "\n"
   ]
  },
  {
   "cell_type": "code",
   "execution_count": 116,
   "metadata": {
    "colab": {
     "base_uri": "https://localhost:8080/"
    },
    "id": "RRZvJRi8K4Jn",
    "outputId": "177d24a0-702c-4f7c-98e7-0fa815ba7cef"
   },
   "outputs": [
    {
     "name": "stdout",
     "output_type": "stream",
     "text": [
      "Epoch 1\n",
      "-------------------------------\n",
      "loss: 0.779542  [    0/  700]\n",
      "Test Error: \n",
      " Accuracy: 85.0%, Avg loss: 0.413730 \n",
      "\n",
      "Test Error: \n",
      " Accuracy: 80.3%, Avg loss: 0.490660 \n",
      "\n",
      "Epoch 2\n",
      "-------------------------------\n",
      "loss: 0.414408  [    0/  700]\n",
      "Test Error: \n",
      " Accuracy: 86.7%, Avg loss: 0.336359 \n",
      "\n",
      "Test Error: \n",
      " Accuracy: 79.4%, Avg loss: 0.474799 \n",
      "\n",
      "Epoch 3\n",
      "-------------------------------\n",
      "loss: 0.098768  [    0/  700]\n",
      "Test Error: \n",
      " Accuracy: 87.3%, Avg loss: 0.313143 \n",
      "\n",
      "Test Error: \n",
      " Accuracy: 79.8%, Avg loss: 0.490557 \n",
      "\n",
      "Epoch 4\n",
      "-------------------------------\n",
      "loss: 0.388225  [    0/  700]\n",
      "Test Error: \n",
      " Accuracy: 89.6%, Avg loss: 0.297231 \n",
      "\n",
      "Test Error: \n",
      " Accuracy: 78.9%, Avg loss: 0.477025 \n",
      "\n",
      "Epoch 5\n",
      "-------------------------------\n",
      "loss: 0.337300  [    0/  700]\n",
      "Test Error: \n",
      " Accuracy: 89.3%, Avg loss: 0.283728 \n",
      "\n",
      "Test Error: \n",
      " Accuracy: 78.0%, Avg loss: 0.508173 \n",
      "\n",
      "Epoch 6\n",
      "-------------------------------\n",
      "loss: 0.298900  [    0/  700]\n",
      "Test Error: \n",
      " Accuracy: 89.9%, Avg loss: 0.278001 \n",
      "\n",
      "Test Error: \n",
      " Accuracy: 77.5%, Avg loss: 0.497565 \n",
      "\n",
      "Epoch 7\n",
      "-------------------------------\n",
      "loss: 0.179492  [    0/  700]\n",
      "Test Error: \n",
      " Accuracy: 89.6%, Avg loss: 0.266877 \n",
      "\n",
      "Test Error: \n",
      " Accuracy: 77.1%, Avg loss: 0.510823 \n",
      "\n",
      "Epoch 8\n",
      "-------------------------------\n",
      "loss: 0.190166  [    0/  700]\n",
      "Test Error: \n",
      " Accuracy: 89.9%, Avg loss: 0.260740 \n",
      "\n",
      "Test Error: \n",
      " Accuracy: 77.1%, Avg loss: 0.511068 \n",
      "\n",
      "Epoch 9\n",
      "-------------------------------\n",
      "loss: 0.237560  [    0/  700]\n",
      "Test Error: \n",
      " Accuracy: 90.1%, Avg loss: 0.252466 \n",
      "\n",
      "Test Error: \n",
      " Accuracy: 76.6%, Avg loss: 0.529227 \n",
      "\n",
      "Epoch 10\n",
      "-------------------------------\n",
      "loss: 0.322210  [    0/  700]\n",
      "Test Error: \n",
      " Accuracy: 90.4%, Avg loss: 0.246566 \n",
      "\n",
      "Test Error: \n",
      " Accuracy: 76.6%, Avg loss: 0.526930 \n",
      "\n",
      "Done!\n"
     ]
    }
   ],
   "source": [
    "epochs = 10\n",
    "train_correct_list = []\n",
    "train_loss_list = []\n",
    "test_correct_list = []\n",
    "test_loss_list = []\n",
    "# model_eg = net_heart_cnn\n",
    "model_eg = net_heart_dnn\n",
    "for t in range(epochs):\n",
    "    print(f\"Epoch {t+1}\\n-------------------------------\")\n",
    "    train(dl_train, model_eg, loss_fn, optimizer)\n",
    "    train_correct,train_loss = test(dl_train, model_eg, loss_fn)\n",
    "    test_correct,test_loss = test(dl_test, model_eg, loss_fn)\n",
    "    train_correct_list.append(train_correct)\n",
    "    train_loss_list.append(train_loss)\n",
    "    test_correct_list.append(test_correct)\n",
    "    test_loss_list.append(test_loss)\n",
    "print(\"Done!\")"
   ]
  },
  {
   "cell_type": "code",
   "execution_count": 117,
   "metadata": {
    "colab": {
     "base_uri": "https://localhost:8080/",
     "height": 499
    },
    "id": "Oznk7BgqK4Jo",
    "outputId": "27495b2b-85c8-45ac-ea88-501344f51001"
   },
   "outputs": [
    {
     "data": {
      "image/png": "[encoded data removed]",
      "text/plain": [
       "<Figure size 576x576 with 2 Axes>"
      ]
     },
     "metadata": {
      "needs_background": "light"
     },
     "output_type": "display_data"
    }
   ],
   "source": [
    "epochs_range = range(epochs)\n",
    "\n",
    "plt.figure(figsize=(8, 8))\n",
    "plt.subplot(1, 2, 1)\n",
    "plt.plot(epochs_range, train_correct_list, label='Training Accuracy')\n",
    "plt.plot(epochs_range, test_correct_list, label='Validation Accuracy')\n",
    "plt.legend(loc='lower right')\n",
    "plt.title('Training and Validation Accuracy')\n",
    "\n",
    "plt.subplot(1, 2, 2)\n",
    "plt.plot(epochs_range, train_loss_list, label='Training Loss')\n",
    "plt.plot(epochs_range, test_loss_list, label='Validation Loss')\n",
    "plt.legend(loc='upper right')\n",
    "plt.title('Training and Validation Loss')\n",
    "plt.show()"
   ]
  },
  {
   "cell_type": "markdown",
   "metadata": {
    "id": "APClUT-gDbHF"
   },
   "source": [
    "## CNN Demonstration"
   ]
  },
  {
   "cell_type": "code",
   "execution_count": 118,
   "metadata": {},
   "outputs": [],
   "source": [
    "loss_fn = nn.CrossEntropyLoss()\n",
    "# optimizer = torch.optim.Adam(net_heart_dnn.parameters(), lr=1e-3)\n",
    "optimizer = torch.optim.Adam(net_heart_cnn.parameters(), lr=1e-3)"
   ]
  },
  {
   "cell_type": "code",
   "execution_count": 119,
   "metadata": {},
   "outputs": [
    {
     "name": "stdout",
     "output_type": "stream",
     "text": [
      "Epoch 1\n",
      "-------------------------------\n",
      "loss: 0.700072  [    0/  700]\n",
      "Test Error: \n",
      " Accuracy: 84.0%, Avg loss: 0.507344 \n",
      "\n",
      "Test Error: \n",
      " Accuracy: 79.8%, Avg loss: 0.543642 \n",
      "\n",
      "Epoch 2\n",
      "-------------------------------\n",
      "loss: 0.470712  [    0/  700]\n",
      "Test Error: \n",
      " Accuracy: 85.6%, Avg loss: 0.380255 \n",
      "\n",
      "Test Error: \n",
      " Accuracy: 79.8%, Avg loss: 0.468087 \n",
      "\n",
      "Epoch 3\n",
      "-------------------------------\n",
      "loss: 0.372330  [    0/  700]\n",
      "Test Error: \n",
      " Accuracy: 87.0%, Avg loss: 0.350455 \n",
      "\n",
      "Test Error: \n",
      " Accuracy: 81.2%, Avg loss: 0.458764 \n",
      "\n",
      "Epoch 4\n",
      "-------------------------------\n",
      "loss: 0.278599  [    0/  700]\n",
      "Test Error: \n",
      " Accuracy: 87.9%, Avg loss: 0.333060 \n",
      "\n",
      "Test Error: \n",
      " Accuracy: 81.7%, Avg loss: 0.458835 \n",
      "\n",
      "Epoch 5\n",
      "-------------------------------\n",
      "loss: 0.562446  [    0/  700]\n",
      "Test Error: \n",
      " Accuracy: 87.9%, Avg loss: 0.317342 \n",
      "\n",
      "Test Error: \n",
      " Accuracy: 80.3%, Avg loss: 0.467540 \n",
      "\n",
      "Epoch 6\n",
      "-------------------------------\n",
      "loss: 0.447451  [    0/  700]\n",
      "Test Error: \n",
      " Accuracy: 89.1%, Avg loss: 0.308947 \n",
      "\n",
      "Test Error: \n",
      " Accuracy: 77.1%, Avg loss: 0.472751 \n",
      "\n",
      "Epoch 7\n",
      "-------------------------------\n",
      "loss: 0.186052  [    0/  700]\n",
      "Test Error: \n",
      " Accuracy: 89.0%, Avg loss: 0.299477 \n",
      "\n",
      "Test Error: \n",
      " Accuracy: 78.0%, Avg loss: 0.474188 \n",
      "\n",
      "Epoch 8\n",
      "-------------------------------\n",
      "loss: 0.544354  [    0/  700]\n",
      "Test Error: \n",
      " Accuracy: 89.4%, Avg loss: 0.295949 \n",
      "\n",
      "Test Error: \n",
      " Accuracy: 78.0%, Avg loss: 0.482577 \n",
      "\n",
      "Epoch 9\n",
      "-------------------------------\n",
      "loss: 0.203759  [    0/  700]\n",
      "Test Error: \n",
      " Accuracy: 89.9%, Avg loss: 0.273550 \n",
      "\n",
      "Test Error: \n",
      " Accuracy: 76.6%, Avg loss: 0.494883 \n",
      "\n",
      "Epoch 10\n",
      "-------------------------------\n",
      "loss: 0.110937  [    0/  700]\n",
      "Test Error: \n",
      " Accuracy: 89.1%, Avg loss: 0.269835 \n",
      "\n",
      "Test Error: \n",
      " Accuracy: 77.1%, Avg loss: 0.517482 \n",
      "\n",
      "Done!\n"
     ]
    }
   ],
   "source": [
    "epochs = 10\n",
    "train_correct_list = []\n",
    "train_loss_list = []\n",
    "test_correct_list = []\n",
    "test_loss_list = []\n",
    "model_eg = net_heart_cnn\n",
    "# model_eg = net_heart_dnn\n",
    "for t in range(epochs):\n",
    "    print(f\"Epoch {t+1}\\n-------------------------------\")\n",
    "    train(dl_train, model_eg, loss_fn, optimizer)\n",
    "    train_correct,train_loss = test(dl_train, model_eg, loss_fn)\n",
    "    test_correct,test_loss = test(dl_test, model_eg, loss_fn)\n",
    "    train_correct_list.append(train_correct)\n",
    "    train_loss_list.append(train_loss)\n",
    "    test_correct_list.append(test_correct)\n",
    "    test_loss_list.append(test_loss)\n",
    "print(\"Done!\")"
   ]
  },
  {
   "cell_type": "code",
   "execution_count": 120,
   "metadata": {},
   "outputs": [
    {
     "data": {
      "image/png": "[encoded data removed]",
      "text/plain": [
       "<Figure size 576x576 with 2 Axes>"
      ]
     },
     "metadata": {
      "needs_background": "light"
     },
     "output_type": "display_data"
    }
   ],
   "source": [
    "epochs_range = range(epochs)\n",
    "\n",
    "plt.figure(figsize=(8, 8))\n",
    "plt.subplot(1, 2, 1)\n",
    "plt.plot(epochs_range, train_correct_list, label='Training Accuracy')\n",
    "plt.plot(epochs_range, test_correct_list, label='Validation Accuracy')\n",
    "plt.legend(loc='lower right')\n",
    "plt.title('Training and Validation Accuracy')\n",
    "\n",
    "plt.subplot(1, 2, 2)\n",
    "plt.plot(epochs_range, train_loss_list, label='Training Loss')\n",
    "plt.plot(epochs_range, test_loss_list, label='Validation Loss')\n",
    "plt.legend(loc='upper right')\n",
    "plt.title('Training and Validation Loss')\n",
    "plt.show()"
   ]
  },
  {
   "cell_type": "code",
   "execution_count": null,
   "metadata": {},
   "outputs": [],
   "source": []
  }
 ],
 "metadata": {
  "colab": {
   "provenance": [],
   "toc_visible": true
  },
  "kernelspec": {
   "display_name": "Python 3 (ipykernel)",
   "language": "python",
   "name": "python3"
  },
  "language_info": {
   "codemirror_mode": {
    "name": "ipython",
    "version": 3
   },
   "file_extension": ".py",
   "mimetype": "text/x-python",
   "name": "python",
   "nbconvert_exporter": "python",
   "pygments_lexer": "ipython3",
   "version": "3.9.12"
  }
 },
 "nbformat": 4,
 "nbformat_minor": 1
}
