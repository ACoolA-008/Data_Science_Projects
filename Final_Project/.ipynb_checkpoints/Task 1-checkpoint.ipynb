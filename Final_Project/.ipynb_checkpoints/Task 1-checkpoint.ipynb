{
 "cells": [
  {
   "cell_type": "code",
   "execution_count": 4,
   "id": "95de2e9d",
   "metadata": {},
   "outputs": [],
   "source": [
    "import pandas as pd\n",
    "import numpy as np\n",
    "import matplotlib.pyplot as plt\n",
    "import seaborn as sns\n",
    "sns.set()\n",
    "sns.set_context('notebook', font_scale= 1.2)\n",
    "\n",
    "pd.set_option('display.max_rows', 50)\n",
    "pd.set_option('display.max_columns', 50)\n",
    "\n",
    "from sklearn.neighbors import KNeighborsRegressor\n",
    "from sklearn.preprocessing import StandardScaler\n",
    "from sklearn.model_selection import train_test_split, RandomizedSearchCV\n",
    "from sklearn.neighbors import KNeighborsClassifier\n",
    "from sklearn.svm import SVC\n",
    "from sklearn.ensemble import RandomForestClassifier,RandomForestRegressor\n",
    "from sklearn.linear_model import LogisticRegression\n",
    "\n",
    "from xgboost import XGBClassifier\n",
    "from sklearn.metrics import accuracy_score, roc_auc_score, roc_curve, classification_report\n",
    "\n",
    "import warnings\n",
    "warnings.filterwarnings('ignore')\n",
    "plt.rcParams['font.family'] = ['sans-serif']\n",
    "plt.rcParams['font.sans-serif'] = ['SimHei']"
   ]
  },
  {
   "cell_type": "code",
   "execution_count": 5,
   "id": "35d5cc48",
   "metadata": {
    "scrolled": true
   },
   "outputs": [
    {
     "ename": "FileNotFoundError",
     "evalue": "[Errno 2] No such file or directory: '/Users/mucheng/Desktop/Desktop\\\\ Storage/DataCoSupplyChainDataset.csv'",
     "output_type": "error",
     "traceback": [
      "\u001b[0;31m---------------------------------------------------------------------------\u001b[0m",
      "\u001b[0;31mFileNotFoundError\u001b[0m                         Traceback (most recent call last)",
      "Input \u001b[0;32mIn [5]\u001b[0m, in \u001b[0;36m<cell line: 3>\u001b[0;34m()\u001b[0m\n\u001b[1;32m      1\u001b[0m \u001b[38;5;66;03m# data = pd.read_csv('/Users/mucheng/Datasets/DataCoSupplyChainDatasetplus.csv', encoding='ISO-8859-1')\u001b[39;00m\n\u001b[1;32m      2\u001b[0m \u001b[38;5;66;03m# data = pd.read_csv('DataCoSupplyChainDatasetplus(1).csv', encoding='ISO-8859-1')\u001b[39;00m\n\u001b[0;32m----> 3\u001b[0m data \u001b[38;5;241m=\u001b[39m \u001b[43mpd\u001b[49m\u001b[38;5;241;43m.\u001b[39;49m\u001b[43mread_csv\u001b[49m\u001b[43m(\u001b[49m\u001b[38;5;124;43m'\u001b[39;49m\u001b[38;5;124;43m/Users/mucheng/Desktop/Desktop\u001b[39;49m\u001b[38;5;124;43m\\\u001b[39;49m\u001b[38;5;124;43m Storage/DataCoSupplyChainDataset.csv\u001b[39;49m\u001b[38;5;124;43m'\u001b[39;49m\u001b[43m,\u001b[49m\u001b[43m \u001b[49m\u001b[43mencoding\u001b[49m\u001b[38;5;241;43m=\u001b[39;49m\u001b[38;5;124;43m'\u001b[39;49m\u001b[38;5;124;43mISO-8859-1\u001b[39;49m\u001b[38;5;124;43m'\u001b[39;49m\u001b[43m)\u001b[49m\n\u001b[1;32m      4\u001b[0m data_past \u001b[38;5;241m=\u001b[39m pd\u001b[38;5;241m.\u001b[39mread_csv(\u001b[38;5;124m'\u001b[39m\u001b[38;5;124m/Users/mucheng/Desktop/Desktop\u001b[39m\u001b[38;5;124m\\\u001b[39m\u001b[38;5;124m Storage/DataCoSupplyChainDataset.csv\u001b[39m\u001b[38;5;124m'\u001b[39m, encoding\u001b[38;5;241m=\u001b[39m\u001b[38;5;124m'\u001b[39m\u001b[38;5;124mISO-8859-1\u001b[39m\u001b[38;5;124m'\u001b[39m)\n\u001b[1;32m      5\u001b[0m data\n",
      "File \u001b[0;32m~/opt/anaconda3/lib/python3.9/site-packages/pandas/util/_decorators.py:211\u001b[0m, in \u001b[0;36mdeprecate_kwarg.<locals>._deprecate_kwarg.<locals>.wrapper\u001b[0;34m(*args, **kwargs)\u001b[0m\n\u001b[1;32m    209\u001b[0m     \u001b[38;5;28;01melse\u001b[39;00m:\n\u001b[1;32m    210\u001b[0m         kwargs[new_arg_name] \u001b[38;5;241m=\u001b[39m new_arg_value\n\u001b[0;32m--> 211\u001b[0m \u001b[38;5;28;01mreturn\u001b[39;00m \u001b[43mfunc\u001b[49m\u001b[43m(\u001b[49m\u001b[38;5;241;43m*\u001b[39;49m\u001b[43margs\u001b[49m\u001b[43m,\u001b[49m\u001b[43m \u001b[49m\u001b[38;5;241;43m*\u001b[39;49m\u001b[38;5;241;43m*\u001b[39;49m\u001b[43mkwargs\u001b[49m\u001b[43m)\u001b[49m\n",
      "File \u001b[0;32m~/opt/anaconda3/lib/python3.9/site-packages/pandas/util/_decorators.py:331\u001b[0m, in \u001b[0;36mdeprecate_nonkeyword_arguments.<locals>.decorate.<locals>.wrapper\u001b[0;34m(*args, **kwargs)\u001b[0m\n\u001b[1;32m    325\u001b[0m \u001b[38;5;28;01mif\u001b[39;00m \u001b[38;5;28mlen\u001b[39m(args) \u001b[38;5;241m>\u001b[39m num_allow_args:\n\u001b[1;32m    326\u001b[0m     warnings\u001b[38;5;241m.\u001b[39mwarn(\n\u001b[1;32m    327\u001b[0m         msg\u001b[38;5;241m.\u001b[39mformat(arguments\u001b[38;5;241m=\u001b[39m_format_argument_list(allow_args)),\n\u001b[1;32m    328\u001b[0m         \u001b[38;5;167;01mFutureWarning\u001b[39;00m,\n\u001b[1;32m    329\u001b[0m         stacklevel\u001b[38;5;241m=\u001b[39mfind_stack_level(),\n\u001b[1;32m    330\u001b[0m     )\n\u001b[0;32m--> 331\u001b[0m \u001b[38;5;28;01mreturn\u001b[39;00m \u001b[43mfunc\u001b[49m\u001b[43m(\u001b[49m\u001b[38;5;241;43m*\u001b[39;49m\u001b[43margs\u001b[49m\u001b[43m,\u001b[49m\u001b[43m \u001b[49m\u001b[38;5;241;43m*\u001b[39;49m\u001b[38;5;241;43m*\u001b[39;49m\u001b[43mkwargs\u001b[49m\u001b[43m)\u001b[49m\n",
      "File \u001b[0;32m~/opt/anaconda3/lib/python3.9/site-packages/pandas/io/parsers/readers.py:950\u001b[0m, in \u001b[0;36mread_csv\u001b[0;34m(filepath_or_buffer, sep, delimiter, header, names, index_col, usecols, squeeze, prefix, mangle_dupe_cols, dtype, engine, converters, true_values, false_values, skipinitialspace, skiprows, skipfooter, nrows, na_values, keep_default_na, na_filter, verbose, skip_blank_lines, parse_dates, infer_datetime_format, keep_date_col, date_parser, dayfirst, cache_dates, iterator, chunksize, compression, thousands, decimal, lineterminator, quotechar, quoting, doublequote, escapechar, comment, encoding, encoding_errors, dialect, error_bad_lines, warn_bad_lines, on_bad_lines, delim_whitespace, low_memory, memory_map, float_precision, storage_options)\u001b[0m\n\u001b[1;32m    935\u001b[0m kwds_defaults \u001b[38;5;241m=\u001b[39m _refine_defaults_read(\n\u001b[1;32m    936\u001b[0m     dialect,\n\u001b[1;32m    937\u001b[0m     delimiter,\n\u001b[0;32m   (...)\u001b[0m\n\u001b[1;32m    946\u001b[0m     defaults\u001b[38;5;241m=\u001b[39m{\u001b[38;5;124m\"\u001b[39m\u001b[38;5;124mdelimiter\u001b[39m\u001b[38;5;124m\"\u001b[39m: \u001b[38;5;124m\"\u001b[39m\u001b[38;5;124m,\u001b[39m\u001b[38;5;124m\"\u001b[39m},\n\u001b[1;32m    947\u001b[0m )\n\u001b[1;32m    948\u001b[0m kwds\u001b[38;5;241m.\u001b[39mupdate(kwds_defaults)\n\u001b[0;32m--> 950\u001b[0m \u001b[38;5;28;01mreturn\u001b[39;00m \u001b[43m_read\u001b[49m\u001b[43m(\u001b[49m\u001b[43mfilepath_or_buffer\u001b[49m\u001b[43m,\u001b[49m\u001b[43m \u001b[49m\u001b[43mkwds\u001b[49m\u001b[43m)\u001b[49m\n",
      "File \u001b[0;32m~/opt/anaconda3/lib/python3.9/site-packages/pandas/io/parsers/readers.py:605\u001b[0m, in \u001b[0;36m_read\u001b[0;34m(filepath_or_buffer, kwds)\u001b[0m\n\u001b[1;32m    602\u001b[0m _validate_names(kwds\u001b[38;5;241m.\u001b[39mget(\u001b[38;5;124m\"\u001b[39m\u001b[38;5;124mnames\u001b[39m\u001b[38;5;124m\"\u001b[39m, \u001b[38;5;28;01mNone\u001b[39;00m))\n\u001b[1;32m    604\u001b[0m \u001b[38;5;66;03m# Create the parser.\u001b[39;00m\n\u001b[0;32m--> 605\u001b[0m parser \u001b[38;5;241m=\u001b[39m \u001b[43mTextFileReader\u001b[49m\u001b[43m(\u001b[49m\u001b[43mfilepath_or_buffer\u001b[49m\u001b[43m,\u001b[49m\u001b[43m \u001b[49m\u001b[38;5;241;43m*\u001b[39;49m\u001b[38;5;241;43m*\u001b[39;49m\u001b[43mkwds\u001b[49m\u001b[43m)\u001b[49m\n\u001b[1;32m    607\u001b[0m \u001b[38;5;28;01mif\u001b[39;00m chunksize \u001b[38;5;129;01mor\u001b[39;00m iterator:\n\u001b[1;32m    608\u001b[0m     \u001b[38;5;28;01mreturn\u001b[39;00m parser\n",
      "File \u001b[0;32m~/opt/anaconda3/lib/python3.9/site-packages/pandas/io/parsers/readers.py:1442\u001b[0m, in \u001b[0;36mTextFileReader.__init__\u001b[0;34m(self, f, engine, **kwds)\u001b[0m\n\u001b[1;32m   1439\u001b[0m     \u001b[38;5;28mself\u001b[39m\u001b[38;5;241m.\u001b[39moptions[\u001b[38;5;124m\"\u001b[39m\u001b[38;5;124mhas_index_names\u001b[39m\u001b[38;5;124m\"\u001b[39m] \u001b[38;5;241m=\u001b[39m kwds[\u001b[38;5;124m\"\u001b[39m\u001b[38;5;124mhas_index_names\u001b[39m\u001b[38;5;124m\"\u001b[39m]\n\u001b[1;32m   1441\u001b[0m \u001b[38;5;28mself\u001b[39m\u001b[38;5;241m.\u001b[39mhandles: IOHandles \u001b[38;5;241m|\u001b[39m \u001b[38;5;28;01mNone\u001b[39;00m \u001b[38;5;241m=\u001b[39m \u001b[38;5;28;01mNone\u001b[39;00m\n\u001b[0;32m-> 1442\u001b[0m \u001b[38;5;28mself\u001b[39m\u001b[38;5;241m.\u001b[39m_engine \u001b[38;5;241m=\u001b[39m \u001b[38;5;28;43mself\u001b[39;49m\u001b[38;5;241;43m.\u001b[39;49m\u001b[43m_make_engine\u001b[49m\u001b[43m(\u001b[49m\u001b[43mf\u001b[49m\u001b[43m,\u001b[49m\u001b[43m \u001b[49m\u001b[38;5;28;43mself\u001b[39;49m\u001b[38;5;241;43m.\u001b[39;49m\u001b[43mengine\u001b[49m\u001b[43m)\u001b[49m\n",
      "File \u001b[0;32m~/opt/anaconda3/lib/python3.9/site-packages/pandas/io/parsers/readers.py:1735\u001b[0m, in \u001b[0;36mTextFileReader._make_engine\u001b[0;34m(self, f, engine)\u001b[0m\n\u001b[1;32m   1733\u001b[0m     \u001b[38;5;28;01mif\u001b[39;00m \u001b[38;5;124m\"\u001b[39m\u001b[38;5;124mb\u001b[39m\u001b[38;5;124m\"\u001b[39m \u001b[38;5;129;01mnot\u001b[39;00m \u001b[38;5;129;01min\u001b[39;00m mode:\n\u001b[1;32m   1734\u001b[0m         mode \u001b[38;5;241m+\u001b[39m\u001b[38;5;241m=\u001b[39m \u001b[38;5;124m\"\u001b[39m\u001b[38;5;124mb\u001b[39m\u001b[38;5;124m\"\u001b[39m\n\u001b[0;32m-> 1735\u001b[0m \u001b[38;5;28mself\u001b[39m\u001b[38;5;241m.\u001b[39mhandles \u001b[38;5;241m=\u001b[39m \u001b[43mget_handle\u001b[49m\u001b[43m(\u001b[49m\n\u001b[1;32m   1736\u001b[0m \u001b[43m    \u001b[49m\u001b[43mf\u001b[49m\u001b[43m,\u001b[49m\n\u001b[1;32m   1737\u001b[0m \u001b[43m    \u001b[49m\u001b[43mmode\u001b[49m\u001b[43m,\u001b[49m\n\u001b[1;32m   1738\u001b[0m \u001b[43m    \u001b[49m\u001b[43mencoding\u001b[49m\u001b[38;5;241;43m=\u001b[39;49m\u001b[38;5;28;43mself\u001b[39;49m\u001b[38;5;241;43m.\u001b[39;49m\u001b[43moptions\u001b[49m\u001b[38;5;241;43m.\u001b[39;49m\u001b[43mget\u001b[49m\u001b[43m(\u001b[49m\u001b[38;5;124;43m\"\u001b[39;49m\u001b[38;5;124;43mencoding\u001b[39;49m\u001b[38;5;124;43m\"\u001b[39;49m\u001b[43m,\u001b[49m\u001b[43m \u001b[49m\u001b[38;5;28;43;01mNone\u001b[39;49;00m\u001b[43m)\u001b[49m\u001b[43m,\u001b[49m\n\u001b[1;32m   1739\u001b[0m \u001b[43m    \u001b[49m\u001b[43mcompression\u001b[49m\u001b[38;5;241;43m=\u001b[39;49m\u001b[38;5;28;43mself\u001b[39;49m\u001b[38;5;241;43m.\u001b[39;49m\u001b[43moptions\u001b[49m\u001b[38;5;241;43m.\u001b[39;49m\u001b[43mget\u001b[49m\u001b[43m(\u001b[49m\u001b[38;5;124;43m\"\u001b[39;49m\u001b[38;5;124;43mcompression\u001b[39;49m\u001b[38;5;124;43m\"\u001b[39;49m\u001b[43m,\u001b[49m\u001b[43m \u001b[49m\u001b[38;5;28;43;01mNone\u001b[39;49;00m\u001b[43m)\u001b[49m\u001b[43m,\u001b[49m\n\u001b[1;32m   1740\u001b[0m \u001b[43m    \u001b[49m\u001b[43mmemory_map\u001b[49m\u001b[38;5;241;43m=\u001b[39;49m\u001b[38;5;28;43mself\u001b[39;49m\u001b[38;5;241;43m.\u001b[39;49m\u001b[43moptions\u001b[49m\u001b[38;5;241;43m.\u001b[39;49m\u001b[43mget\u001b[49m\u001b[43m(\u001b[49m\u001b[38;5;124;43m\"\u001b[39;49m\u001b[38;5;124;43mmemory_map\u001b[39;49m\u001b[38;5;124;43m\"\u001b[39;49m\u001b[43m,\u001b[49m\u001b[43m \u001b[49m\u001b[38;5;28;43;01mFalse\u001b[39;49;00m\u001b[43m)\u001b[49m\u001b[43m,\u001b[49m\n\u001b[1;32m   1741\u001b[0m \u001b[43m    \u001b[49m\u001b[43mis_text\u001b[49m\u001b[38;5;241;43m=\u001b[39;49m\u001b[43mis_text\u001b[49m\u001b[43m,\u001b[49m\n\u001b[1;32m   1742\u001b[0m \u001b[43m    \u001b[49m\u001b[43merrors\u001b[49m\u001b[38;5;241;43m=\u001b[39;49m\u001b[38;5;28;43mself\u001b[39;49m\u001b[38;5;241;43m.\u001b[39;49m\u001b[43moptions\u001b[49m\u001b[38;5;241;43m.\u001b[39;49m\u001b[43mget\u001b[49m\u001b[43m(\u001b[49m\u001b[38;5;124;43m\"\u001b[39;49m\u001b[38;5;124;43mencoding_errors\u001b[39;49m\u001b[38;5;124;43m\"\u001b[39;49m\u001b[43m,\u001b[49m\u001b[43m \u001b[49m\u001b[38;5;124;43m\"\u001b[39;49m\u001b[38;5;124;43mstrict\u001b[39;49m\u001b[38;5;124;43m\"\u001b[39;49m\u001b[43m)\u001b[49m\u001b[43m,\u001b[49m\n\u001b[1;32m   1743\u001b[0m \u001b[43m    \u001b[49m\u001b[43mstorage_options\u001b[49m\u001b[38;5;241;43m=\u001b[39;49m\u001b[38;5;28;43mself\u001b[39;49m\u001b[38;5;241;43m.\u001b[39;49m\u001b[43moptions\u001b[49m\u001b[38;5;241;43m.\u001b[39;49m\u001b[43mget\u001b[49m\u001b[43m(\u001b[49m\u001b[38;5;124;43m\"\u001b[39;49m\u001b[38;5;124;43mstorage_options\u001b[39;49m\u001b[38;5;124;43m\"\u001b[39;49m\u001b[43m,\u001b[49m\u001b[43m \u001b[49m\u001b[38;5;28;43;01mNone\u001b[39;49;00m\u001b[43m)\u001b[49m\u001b[43m,\u001b[49m\n\u001b[1;32m   1744\u001b[0m \u001b[43m\u001b[49m\u001b[43m)\u001b[49m\n\u001b[1;32m   1745\u001b[0m \u001b[38;5;28;01massert\u001b[39;00m \u001b[38;5;28mself\u001b[39m\u001b[38;5;241m.\u001b[39mhandles \u001b[38;5;129;01mis\u001b[39;00m \u001b[38;5;129;01mnot\u001b[39;00m \u001b[38;5;28;01mNone\u001b[39;00m\n\u001b[1;32m   1746\u001b[0m f \u001b[38;5;241m=\u001b[39m \u001b[38;5;28mself\u001b[39m\u001b[38;5;241m.\u001b[39mhandles\u001b[38;5;241m.\u001b[39mhandle\n",
      "File \u001b[0;32m~/opt/anaconda3/lib/python3.9/site-packages/pandas/io/common.py:856\u001b[0m, in \u001b[0;36mget_handle\u001b[0;34m(path_or_buf, mode, encoding, compression, memory_map, is_text, errors, storage_options)\u001b[0m\n\u001b[1;32m    851\u001b[0m \u001b[38;5;28;01melif\u001b[39;00m \u001b[38;5;28misinstance\u001b[39m(handle, \u001b[38;5;28mstr\u001b[39m):\n\u001b[1;32m    852\u001b[0m     \u001b[38;5;66;03m# Check whether the filename is to be opened in binary mode.\u001b[39;00m\n\u001b[1;32m    853\u001b[0m     \u001b[38;5;66;03m# Binary mode does not support 'encoding' and 'newline'.\u001b[39;00m\n\u001b[1;32m    854\u001b[0m     \u001b[38;5;28;01mif\u001b[39;00m ioargs\u001b[38;5;241m.\u001b[39mencoding \u001b[38;5;129;01mand\u001b[39;00m \u001b[38;5;124m\"\u001b[39m\u001b[38;5;124mb\u001b[39m\u001b[38;5;124m\"\u001b[39m \u001b[38;5;129;01mnot\u001b[39;00m \u001b[38;5;129;01min\u001b[39;00m ioargs\u001b[38;5;241m.\u001b[39mmode:\n\u001b[1;32m    855\u001b[0m         \u001b[38;5;66;03m# Encoding\u001b[39;00m\n\u001b[0;32m--> 856\u001b[0m         handle \u001b[38;5;241m=\u001b[39m \u001b[38;5;28;43mopen\u001b[39;49m\u001b[43m(\u001b[49m\n\u001b[1;32m    857\u001b[0m \u001b[43m            \u001b[49m\u001b[43mhandle\u001b[49m\u001b[43m,\u001b[49m\n\u001b[1;32m    858\u001b[0m \u001b[43m            \u001b[49m\u001b[43mioargs\u001b[49m\u001b[38;5;241;43m.\u001b[39;49m\u001b[43mmode\u001b[49m\u001b[43m,\u001b[49m\n\u001b[1;32m    859\u001b[0m \u001b[43m            \u001b[49m\u001b[43mencoding\u001b[49m\u001b[38;5;241;43m=\u001b[39;49m\u001b[43mioargs\u001b[49m\u001b[38;5;241;43m.\u001b[39;49m\u001b[43mencoding\u001b[49m\u001b[43m,\u001b[49m\n\u001b[1;32m    860\u001b[0m \u001b[43m            \u001b[49m\u001b[43merrors\u001b[49m\u001b[38;5;241;43m=\u001b[39;49m\u001b[43merrors\u001b[49m\u001b[43m,\u001b[49m\n\u001b[1;32m    861\u001b[0m \u001b[43m            \u001b[49m\u001b[43mnewline\u001b[49m\u001b[38;5;241;43m=\u001b[39;49m\u001b[38;5;124;43m\"\u001b[39;49m\u001b[38;5;124;43m\"\u001b[39;49m\u001b[43m,\u001b[49m\n\u001b[1;32m    862\u001b[0m \u001b[43m        \u001b[49m\u001b[43m)\u001b[49m\n\u001b[1;32m    863\u001b[0m     \u001b[38;5;28;01melse\u001b[39;00m:\n\u001b[1;32m    864\u001b[0m         \u001b[38;5;66;03m# Binary mode\u001b[39;00m\n\u001b[1;32m    865\u001b[0m         handle \u001b[38;5;241m=\u001b[39m \u001b[38;5;28mopen\u001b[39m(handle, ioargs\u001b[38;5;241m.\u001b[39mmode)\n",
      "\u001b[0;31mFileNotFoundError\u001b[0m: [Errno 2] No such file or directory: '/Users/mucheng/Desktop/Desktop\\\\ Storage/DataCoSupplyChainDataset.csv'"
     ]
    }
   ],
   "source": [
    "# data = pd.read_csv('/Users/mucheng/Datasets/DataCoSupplyChainDatasetplus.csv', encoding='ISO-8859-1')\n",
    "# data = pd.read_csv('DataCoSupplyChainDatasetplus(1).csv', encoding='ISO-8859-1')\n",
    "data = pd.read_csv('/Users/mucheng/Desktop/Desktop\\ Storage/DataCoSupplyChainDataset.csv', encoding='ISO-8859-1')\n",
    "data_past = pd.read_csv('/Users/mucheng/Desktop/Desktop\\ Storage/DataCoSupplyChainDataset.csv', encoding='ISO-8859-1')\n",
    "data\n",
    "data_copy = data.copy()"
   ]
  },
  {
   "cell_type": "code",
   "execution_count": null,
   "id": "07bca715",
   "metadata": {},
   "outputs": [],
   "source": [
    "#reading the raw data\n",
    "data_total = pd.read_excel('data/DataCoSupplyChainDataset_raw1.xlsx')"
   ]
  },
  {
   "cell_type": "code",
   "execution_count": null,
   "id": "ca1dbe2d",
   "metadata": {},
   "outputs": [],
   "source": [
    "data_total"
   ]
  },
  {
   "cell_type": "code",
   "execution_count": null,
   "id": "26cd004b",
   "metadata": {},
   "outputs": [],
   "source": [
    "#explore the distribution of each features' data\n",
    "for i in data_total.columns:\n",
    "    print(data_total[i].value_counts())"
   ]
  },
  {
   "cell_type": "code",
   "execution_count": null,
   "id": "416a5043",
   "metadata": {},
   "outputs": [],
   "source": [
    "data_total_copy = data_total.copy()\n",
    "data_total_copy.drop(['Product Name', 'Order Profit Per Order','Order Country',  'Order Status','Customer Email',\n",
    "                      'order date (DateOrders)', 'Customer Password', 'Product Category Id', 'Product Image',\n",
    "                      'Product Status', 'Product Price', 'shipping date (DateOrders)', 'Customer State', 'Order Customer Id'], axis=1, inplace=True)"
   ]
  },
  {
   "cell_type": "code",
   "execution_count": null,
   "id": "c065d9b5",
   "metadata": {},
   "outputs": [],
   "source": [
    "# Check which features has too many null values\n",
    "data_total_copy.info()\n",
    "# drop the following features：\n",
    "# Product Description\n",
    "# Order Zipcode"
   ]
  },
  {
   "cell_type": "code",
   "execution_count": null,
   "id": "3273aec6",
   "metadata": {},
   "outputs": [],
   "source": [
    "# after the aobe step, we handpicked features, and kept 20 features for analysis"
   ]
  },
  {
   "cell_type": "code",
   "execution_count": null,
   "id": "0be2e1aa",
   "metadata": {},
   "outputs": [],
   "source": [
    "from sklearn.preprocessing import LabelEncoder\n",
    "\n",
    "\n",
    "for i in  ['Days for shipping (real)', 'Delivery Status', 'Category Name', 'Customer Country','Order Country','Customer City','Customer Fname', 'Customer Lname', 'Customer Segment', 'Order City']:\n",
    "    le = LabelEncoder()\n",
    "    data_past[i] = le.fit_transform(data_past[i])\n",
    "\n",
    "# 'Category Name', 'Customer Country','Order Country'\n",
    "# category\n",
    "\n",
    "\n",
    "class_sm = {\n",
    "    'Standard Class' : 3,\n",
    "    'Second Class' : 2,\n",
    "    'First Class' : 1,\n",
    "    'Same Day' : 0\n",
    "}\n",
    "\n",
    "market_dict ={\n",
    "    \"Pacific Asia\" : 1,\n",
    "    \"USCA\" : 2,\n",
    "    \"Africa\" : 3,\n",
    "    \"Europe\" : 4,\n",
    "    \"LATAM\" : 5  \n",
    "}\n",
    "\n",
    "data_df_past = data_past.dropna().reset_index()\n",
    "data_df_past['Shipping Mode'] = data_df_past['Shipping Mode'].map(class_sm)\n",
    "data_df_past['Shipping Mode'] = data_df['Shipping Mode'].apply(np.int64)\n",
    "data_df_past['Market'] = data_df_past['Market'].map(market_dict)\n",
    "data_df_past['Market'] = data_df_past['Market'].apply(np.int64)\n",
    "del data_df_past['index']\n",
    "data_df_past.head()"
   ]
  },
  {
   "cell_type": "code",
   "execution_count": null,
   "id": "0b1d7099",
   "metadata": {},
   "outputs": [],
   "source": [
    "# categroy name & customer country & order country\n",
    "count = 0\n",
    "sum_order_country = 0\n",
    "for i in data_df['Order Country'].value_counts():\n",
    "    if i > 1000:\n",
    "        count += 1\n",
    "        sum_order_country += i\n",
    "sum_order_country"
   ]
  },
  {
   "cell_type": "code",
   "execution_count": null,
   "id": "5b07db68",
   "metadata": {},
   "outputs": [],
   "source": [
    "147778 / len(data)"
   ]
  },
  {
   "cell_type": "code",
   "execution_count": null,
   "id": "9f866221",
   "metadata": {
    "scrolled": false
   },
   "outputs": [],
   "source": [
    "# spearman correlation analysis\n",
    "fig, ax = plt.subplots(figsize=(15,15))\n",
    "sns.heatmap(data_df_past[[i for i in data_df_past.columns if i not in ['Benefit per order', 'Late_delivery_risk']]].corr(method=\"spearman\"),square=True,annot=True,ax=ax,annot_kws={'fontsize':15})\n",
    "plt.xticks(fontsize=15,rotation=270)\n",
    "plt.yticks(fontsize=15,rotation=360)\n",
    "plt.show()"
   ]
  },
  {
   "cell_type": "code",
   "execution_count": null,
   "id": "8eb5ef81",
   "metadata": {},
   "outputs": [],
   "source": [
    "df = data_df_past[[i for i in data_df_past.columns if i not in ['Benefit per order', 'Late_delivery_risk']]].corr(method=\"spearman\")"
   ]
  },
  {
   "cell_type": "code",
   "execution_count": null,
   "id": "efe4e035",
   "metadata": {},
   "outputs": [],
   "source": [
    "# Mapping features then filter features in pairs\n",
    "# find pairs which points in heat map is between 0.1 to 1\n",
    "# (19*19/2 pairs as total)\n",
    "high = 1\n",
    "low = 0.1\n",
    "result = []\n",
    "for i in df.columns:\n",
    "    df_0 = pd.DataFrame(df[i].sort_values(ascending=False))\n",
    "    indexs = list(df_0[df_0[i] > low][df_0[i] < high].index)\n",
    "#     print(indexs)\n",
    "    if len(indexs)>0:\n",
    "        for j in range(len(indexs)):\n",
    "            result.append([i, indexs[j]])\n",
    "print(result)"
   ]
  },
  {
   "cell_type": "markdown",
   "id": "6ce7dc4f",
   "metadata": {},
   "source": [
    "## Predict Benefit and Risk Per Order"
   ]
  },
  {
   "cell_type": "code",
   "execution_count": null,
   "id": "769efe50",
   "metadata": {},
   "outputs": [],
   "source": [
    "import xgboost as xgb\n",
    "from xgboost import XGBRegressor\n",
    "from sklearn.metrics import mean_squared_error\n",
    "from sklearn.metrics import r2_score\n",
    "from sklearn.metrics import roc_auc_score, accuracy_score"
   ]
  },
  {
   "cell_type": "code",
   "execution_count": null,
   "id": "894715d7",
   "metadata": {},
   "outputs": [],
   "source": [
    "# predicting benefit per order based on trainning the existing data \n",
    "# (when we do the prediction, we have taken out features 'Benefit per order', 'Late_delivery_risk' from data\n",
    "# and test size = 0.25)\n",
    "\n",
    "X_train, X_test, y_train, y_test = train_test_split(data_df_past[[i for i in data_df_past.columns if i not in ['Benefit per order', 'Late_delivery_risk']]], data_df['Benefit per order'], test_size=0.25)"
   ]
  },
  {
   "cell_type": "code",
   "execution_count": null,
   "id": "f0dfc0cf",
   "metadata": {},
   "outputs": [],
   "source": [
    "XG_model = XGBRegressor()\n",
    "XG_model.fit(X_train, y_train)\n",
    "y_pred = XG_model.predict(X_test)\n",
    "# print('lgb mse', mean_squared_error(y_test, y_pred))"
   ]
  },
  {
   "cell_type": "code",
   "execution_count": null,
   "id": "3e39e534",
   "metadata": {
    "scrolled": true
   },
   "outputs": [],
   "source": [
    "# Connecting the trainning data's feature 'Shipping Mode' with \n",
    "# predicting feature 'benefit per order'\n",
    "\n",
    "y_pred = pd.DataFrame(y_pred, columns={'benefit'})\n",
    "X_test = X_test.reset_index()\n",
    "del X_test['index']\n",
    "benefit_new_df = pd.concat([X_test, y_pred], axis=1)\n",
    "benefit_new_df = benefit_new_df[['Shipping Mode', 'benefit']]\n",
    "benefit_new_df"
   ]
  },
  {
   "cell_type": "code",
   "execution_count": null,
   "id": "44e9a318",
   "metadata": {},
   "outputs": [],
   "source": [
    "# 'Benefit per order' predicted in different shipping mode\n",
    "# and their related datas\n",
    "benefit_new_df.groupby([\"Shipping Mode\"]).describe()"
   ]
  },
  {
   "cell_type": "code",
   "execution_count": null,
   "id": "23f15891",
   "metadata": {},
   "outputs": [],
   "source": [
    "# risk -- risk of being late\n",
    "# predicting risk based on trainning the existing data \n",
    "# (when we do the prediction, we have taken out features 'Benefit per order', 'Late_delivery_risk' from data\n",
    "# and test size = 0.25)"
   ]
  },
  {
   "cell_type": "code",
   "execution_count": null,
   "id": "864d1f3c",
   "metadata": {},
   "outputs": [],
   "source": [
    "X_train, X_test, y_train, y_test = train_test_split(data_df_past[[i for i in data_df_past.columns if i not in ['Benefit per order', 'Late_delivery_risk']]], data_df['Late_delivery_risk'], test_size=0.25)\n",
    "\n",
    "LR_risk_model = LogisticRegression()\n",
    "LR_risk_model.fit(X_train, y_train)\n",
    "y_pred_01 = LR_risk_model.predict(X_test)\n",
    "print('lgb acc', accuracy_score(y_test, y_pred_01))\n",
    "y_pred = LR_risk_model.predict_proba(X_test)[:, 1]\n",
    "print('lgb auc', roc_auc_score(y_test, y_pred))\n"
   ]
  },
  {
   "cell_type": "code",
   "execution_count": null,
   "id": "1e7238c8",
   "metadata": {
    "scrolled": true
   },
   "outputs": [],
   "source": [
    "y_pred = pd.DataFrame(y_pred_01, columns={'risk_rate'})\n",
    "X_test = X_test.reset_index()\n",
    "del X_test['index']\n",
    "risk_new_df = pd.concat([X_test, y_pred], axis=1)\n",
    "risk_new_df = risk_new_df[['Shipping Mode', 'risk_rate']]\n",
    "risk_new_df.head()"
   ]
  },
  {
   "cell_type": "code",
   "execution_count": null,
   "id": "1d4f90b3",
   "metadata": {
    "scrolled": false
   },
   "outputs": [],
   "source": [
    "risk_new_df.groupby(['Shipping Mode']).describe()"
   ]
  },
  {
   "cell_type": "code",
   "execution_count": null,
   "id": "3a5dd38c",
   "metadata": {},
   "outputs": [],
   "source": [
    "data = pd.read_csv('data/DataCoSupplyChainDatasetplus.csv', encoding='ISO-8859-1')\n",
    "data.head()"
   ]
  },
  {
   "cell_type": "code",
   "execution_count": null,
   "id": "67a9b11c",
   "metadata": {},
   "outputs": [],
   "source": [
    "data['Days of Shipping(schedule-real)'].value_counts()"
   ]
  },
  {
   "cell_type": "code",
   "execution_count": null,
   "id": "672f890c",
   "metadata": {},
   "outputs": [],
   "source": [
    "# 1--advance, 0--on time, -1--late\n",
    "def process_real_sch(data):\n",
    "    if data > 0:\n",
    "        return 1\n",
    "    elif data == 0:\n",
    "        return 0\n",
    "    else:\n",
    "        return -1\n",
    "data['advance_ontime_late'] = data['Days of Shipping(schedule-real)'].apply(process_real_sch)"
   ]
  },
  {
   "cell_type": "code",
   "execution_count": null,
   "id": "0d55058b",
   "metadata": {},
   "outputs": [],
   "source": [
    "data['advance_ontime_late'].value_counts()"
   ]
  },
  {
   "cell_type": "code",
   "execution_count": null,
   "id": "e239bf54",
   "metadata": {},
   "outputs": [],
   "source": [
    "data_real_sch = data[['Days of Shipping(schedule-real)', 'advance_ontime_late', 'Benefit per order']]"
   ]
  },
  {
   "cell_type": "code",
   "execution_count": null,
   "id": "b7a05d64",
   "metadata": {},
   "outputs": [],
   "source": [
    "# Correlation matrix\n",
    "# Benefit per order is not highly related to whether the shipping is advance, on time or late.\n",
    "data_real_sch.corr()"
   ]
  },
  {
   "cell_type": "code",
   "execution_count": null,
   "id": "f2a43542",
   "metadata": {},
   "outputs": [],
   "source": [
    "data_real_sch.describe()"
   ]
  },
  {
   "cell_type": "code",
   "execution_count": null,
   "id": "cbda0ed7",
   "metadata": {},
   "outputs": [],
   "source": []
  },
  {
   "cell_type": "code",
   "execution_count": null,
   "id": "608891d0",
   "metadata": {},
   "outputs": [],
   "source": []
  },
  {
   "cell_type": "code",
   "execution_count": null,
   "id": "e2019a4c",
   "metadata": {},
   "outputs": [],
   "source": []
  },
  {
   "cell_type": "code",
   "execution_count": null,
   "id": "9948cd42",
   "metadata": {},
   "outputs": [],
   "source": []
  },
  {
   "cell_type": "code",
   "execution_count": null,
   "id": "635df5a7",
   "metadata": {},
   "outputs": [],
   "source": [
    "# Density Plot 1 showing the distribution of feature 'Days of Shipping(schedule-real)' when shipping is in advance,\n",
    "# on-time and late. \n",
    "# Density Plot 2 showing the distribution of feature 'Benefit per order' when shipping is in advance, on-time and late.   \n",
    "\n",
    "fig, ax = plt.subplots(2, 1, figsize = (20, 15))\n",
    "plt.suptitle('advance_ontime_late', fontsize = 25, color = 'teal')\n",
    "sns.kdeplot(x = data_real_sch['Days of Shipping(schedule-real)'], hue= data_real_sch['advance_ontime_late'], shade= True, ax= ax[0], palette = 'viridis')\n",
    "plt.suptitle('advance_ontime_late', fontsize = 25, color = 'teal')\n",
    "sns.kdeplot(x = data_real_sch['Benefit per order'], hue= data_real_sch['advance_ontime_late'], shade= True, ax= ax[1], palette = 'viridis')\n",
    "plt.show()\n"
   ]
  },
  {
   "cell_type": "code",
   "execution_count": null,
   "id": "361f5848",
   "metadata": {},
   "outputs": [],
   "source": [
    "# When shipping arrives in advance, what is the trend of 'Days of Shipping(schedule-real)' and 'Benefit per order'.\n",
    "data_high = data_real_sch[data_real_sch['advance_ontime_late'] == 1]\n",
    "\n",
    "# Density Plot 3 showing the distribution of feature 'Days of Shipping(schedule-real)' when shipping is in advance\n",
    "# Density Plot 4 showing the distribution of feature 'Benefit per order' when shipping is in advance \n",
    "# (Most of the shipping status is in advance for 1 or 2 days, and 81.33% of those transactions' benefit is non-negative)\n",
    "fig, ax = plt.subplots(2, 1, figsize = (20, 15))\n",
    "\n",
    "plt.suptitle('advance_ontime_late', fontsize = 25, color = 'teal')\n",
    "sns.kdeplot(x = data_high['Days of Shipping(schedule-real)'], hue= data_high['advance_ontime_late'], shade= True, ax= ax[0], palette = 'viridis')\n",
    "plt.suptitle('advance_ontime_late', fontsize = 25, color = 'teal')\n",
    "sns.kdeplot(x = data_high['Benefit per order'], hue= data_high['advance_ontime_late'], shade= True, ax= ax[1], palette = 'viridis')\n",
    "plt.show()\n"
   ]
  },
  {
   "cell_type": "code",
   "execution_count": null,
   "id": "ca264290",
   "metadata": {},
   "outputs": [],
   "source": [
    "# When the shipping is in advance, the percentage of benefit being non-negative.\n",
    "print('{:.2%}'.format(len(data_high[data_high['Benefit per order'] >= 0]) / len(data_high)))"
   ]
  },
  {
   "cell_type": "code",
   "execution_count": null,
   "id": "efe17e7b",
   "metadata": {
    "scrolled": true
   },
   "outputs": [],
   "source": [
    "# When shipping arrives on time, what is the trend of 'Days of Shipping(schedule-real)' and 'Benefit per order'.\n",
    "data_eql = data_real_sch[data_real_sch['advance_ontime_late'] == 0]\n",
    "\n",
    "# Density Plot 5 showing the distribution of feature 'Days of Shipping(schedule-real)' when shipping arrives on time\n",
    "# (81.43% of the benefit is still greater or equal to 0)\n",
    "fig, ax = plt.subplots(1,1,figsize = (20, 15))\n",
    "plt.suptitle('advance_ontime_late', fontsize = 25, color = 'teal')\n",
    "sns.kdeplot(x = data_eql['Benefit per order'], hue= data_eql['advance_ontime_late'], shade= True, ax= ax, palette = 'viridis')\n",
    "\n",
    "plt.show()\n"
   ]
  },
  {
   "cell_type": "code",
   "execution_count": null,
   "id": "4079968f",
   "metadata": {},
   "outputs": [],
   "source": [
    "# When shipping arrives on time, what is the percentage of benefit per order is non-negative.\n",
    "print('{:.2%}'.format(len(data_eql[data_eql['Benefit per order'] >= 0]) / len(data_eql)))"
   ]
  },
  {
   "cell_type": "code",
   "execution_count": null,
   "id": "9e73d13f",
   "metadata": {},
   "outputs": [],
   "source": [
    "# When the shipping is late, the percentage of benefit being non-negative.\n",
    "data_low = data_real_sch[data_real_sch['advance_ontime_late'] == -1]\n",
    "\n",
    "# Density Plot 6 showing the distribution of feature 'Days of Shipping(schedule-real)' when shipping is late\n",
    "# Density Plot 7 showing the distribution of feature 'Benefit per order' when shipping is late \n",
    "# (Most of the shipping status is in advance for 1 to 4 days, and 80.57% of those transactions' benefit is non-negative)\n",
    "\n",
    "fig, ax = plt.subplots(2, 1, figsize = (20, 15))\n",
    "\n",
    "plt.suptitle('advance_ontime_late', fontsize = 25, color = 'teal')\n",
    "sns.kdeplot(x = data_low['Days of Shipping(schedule-real)'], hue= data_low['advance_ontime_late'], shade= True, ax= ax[0], palette = 'viridis')\n",
    "plt.suptitle('advance_ontime_late', fontsize = 25, color = 'teal')\n",
    "sns.kdeplot(x = data_low['Benefit per order'], hue= data_low['advance_ontime_late'], shade= True, ax= ax[1], palette = 'viridis')\n",
    "plt.show()"
   ]
  },
  {
   "cell_type": "code",
   "execution_count": null,
   "id": "ddc61780",
   "metadata": {},
   "outputs": [],
   "source": [
    "# When shipping is late, what is the percentage of benefit per order being non-negative?\n",
    "print('{:.2%}'.format(len(data_low[data_low['Benefit per order'] >= 0]) / len(data_low)))"
   ]
  },
  {
   "cell_type": "code",
   "execution_count": null,
   "id": "64448264",
   "metadata": {},
   "outputs": [],
   "source": [
    "# Exploring the relationships between shipping result(advance/on time/late) and benefit\n",
    "# (generated new feature \"benefit_get\", if benefit >= 0, benefit_get = 1; if benefit >= 0, benefit_get = 0)\n",
    "data_real_sch.head()"
   ]
  },
  {
   "cell_type": "code",
   "execution_count": null,
   "id": "e296c7af",
   "metadata": {},
   "outputs": [],
   "source": [
    "data_real_sch['benefit_get'] = data_real_sch['Benefit per order'].apply(lambda x:1 if x >= 0 else 0)"
   ]
  },
  {
   "cell_type": "code",
   "execution_count": null,
   "id": "c6509331",
   "metadata": {
    "scrolled": false
   },
   "outputs": [],
   "source": [
    "fig, ax = plt.subplots(1, 1, figsize = (20, 15))\n",
    "\n",
    "# Density Plot 8 showing the distribution of shipping status is in advance, on-time and late\n",
    "# (when feature 'Days of Shipping(schedule-real)' > 0, = 0, < 0, respectively), and \n",
    "# the distribution of benefit_get is equal to 1 and 0 (when feature 'Benefit per order' < 0 and >= 0)\n",
    "\n",
    "plt.suptitle('advance_ontime_late', fontsize = 25, color = 'teal')\n",
    "sns.kdeplot(x = data_real_sch['advance_ontime_late'], hue= data_real_sch['benefit_get'], shade= True, ax= ax, palette = 'viridis')"
   ]
  },
  {
   "cell_type": "code",
   "execution_count": null,
   "id": "2c1ec175",
   "metadata": {},
   "outputs": [],
   "source": [
    "data_real_sch.head()"
   ]
  },
  {
   "cell_type": "code",
   "execution_count": null,
   "id": "d2cad9be",
   "metadata": {},
   "outputs": [],
   "source": [
    "# Relationships b/w benefit_get and shipping result \n",
    "\n",
    "# benefit_get = 1 ---> shipping %\n",
    "# when benefit per order is non-negative, what is the percentage of shipping is \n",
    "# in advance, on-time and late respectively\n",
    "print(data_real_sch[data_real_sch['benefit_get'] == 1]['advance_ontime_late'].value_counts()[1]/len(data_real_sch[data_real_sch['benefit_get'] == 1]))\n",
    "print(data_real_sch[data_real_sch['benefit_get'] == 1]['advance_ontime_late'].value_counts()[0]/len(data_real_sch[data_real_sch['benefit_get'] == 1]))\n",
    "print(data_real_sch[data_real_sch['benefit_get'] == 1]['advance_ontime_late'].value_counts()[-1]/len(data_real_sch[data_real_sch['benefit_get'] == 1]))"
   ]
  },
  {
   "cell_type": "code",
   "execution_count": null,
   "id": "fe5f4729",
   "metadata": {},
   "outputs": [],
   "source": [
    "# benefit_get = 0 ---> shipping %\n",
    "# when benefit per order is negative, what is the percentage of shipping is in advance, \n",
    "# on-time and late respectively\n",
    "print(data_real_sch[data_real_sch['benefit_get'] == 0]['advance_ontime_late'].value_counts()[1]/len(data_real_sch[data_real_sch['benefit_get'] == 0]))\n",
    "print(data_real_sch[data_real_sch['benefit_get'] == 0]['advance_ontime_late'].value_counts()[0]/len(data_real_sch[data_real_sch['benefit_get'] == 0]))\n",
    "print(data_real_sch[data_real_sch['benefit_get'] == 0]['advance_ontime_late'].value_counts()[-1]/len(data_real_sch[data_real_sch['benefit_get'] == 0]))"
   ]
  },
  {
   "cell_type": "code",
   "execution_count": null,
   "id": "274dc283",
   "metadata": {},
   "outputs": [],
   "source": [
    "# Figuring out the company's requent customers\n",
    "from collections import Counter\n",
    "data_customID = data['Customer Id']\n",
    "id_counts = Counter(data_customID)"
   ]
  },
  {
   "cell_type": "code",
   "execution_count": null,
   "id": "3498b870",
   "metadata": {},
   "outputs": [],
   "source": [
    "# make feature 'Customer Id' and their frequency become a dict.\n",
    "# {(customer id 1, frequency),customer id 2, frequency),..}\n",
    "id_counts = dict(id_counts)\n",
    "\n",
    "# make dict id_counts become tuple\n",
    "# and sort the value(frequency) in descending order (from high to low)\n",
    "id_counts = sorted(id_counts.items(), key=lambda x: -x[1])"
   ]
  },
  {
   "cell_type": "code",
   "execution_count": null,
   "id": "f92e667b",
   "metadata": {},
   "outputs": [],
   "source": [
    "# Keep feature 'Customer Id' and their frequency in \n",
    "# two arrays respectively to get each customer ID's frequency in percentage\n",
    "# id_counts_x：'Customer Id' ；id_counts_y：frequency \n",
    "id_counts_x = []\n",
    "id_counts_y = []\n",
    "for i in id_counts:\n",
    "    id_counts_x.append(i[0])\n",
    "    id_counts_y.append(i[1])\n",
    "# print(len(id_counts_x))"
   ]
  },
  {
   "cell_type": "code",
   "execution_count": null,
   "id": "5304b89c",
   "metadata": {
    "scrolled": true
   },
   "outputs": [],
   "source": [
    "# chart showing for each customer ID, \n",
    "# what is their frequency and their percentage for all transactions \n",
    "data_custom_ID = pd.DataFrame({\"ID\" :id_counts_x, \"times\":id_counts_y}) \n",
    "data_custom_ID['rate'] = data_custom_ID['times'].apply(lambda x:str(100. * x/len(data))[:6] + \"%\")\n",
    "data_custom_ID.head(10)"
   ]
  },
  {
   "cell_type": "code",
   "execution_count": null,
   "id": "2e527195",
   "metadata": {},
   "outputs": [],
   "source": [
    "# Create a pie chart for top 100 customers \n",
    "# tags for pie chart: customer ID -- frequency of this ID in the data\n",
    "data_custom = pd.DataFrame({'custom':id_counts_x, 'times':id_counts_y})\n",
    "data_custom['times'] = data_custom['times'].apply(lambda x:np.nan if x in [1] else x)\n",
    "data_custom = data_custom.dropna().reset_index().drop('index',axis=1)"
   ]
  },
  {
   "cell_type": "code",
   "execution_count": null,
   "id": "e68f6b39",
   "metadata": {},
   "outputs": [],
   "source": [
    "# Generating pie chart\n",
    "from pyecharts.charts import Pie, Bar\n",
    "from pyecharts.render import make_snapshot\n",
    "from pyecharts import options as opts\n",
    "warnings.filterwarnings('ignore')\n",
    "p_dict = {'width':'1920px', 'height': '1080px'}\n",
    "c = (\n",
    "    Pie(init_opts=opts.InitOpts(width=p_dict['width'], height=p_dict['height']))\n",
    "        .add(\"\", [list(z) for z in zip(data_custom['custom'][:100], data_custom['times'][:100])], center=[\"40%\", \"50%\"]) # avoid sheltering\n",
    "        .set_global_opts(title_opts=opts.TitleOpts(title=\"custom_ID\"))  # tags\n",
    "        .set_series_opts(label_opts=opts.LabelOpts(formatter=\"{b}: {c}\"))  # data tags setting\n",
    ")\n",
    "\n",
    "c.render('ID.html')\n"
   ]
  },
  {
   "cell_type": "markdown",
   "id": "6a5178a3",
   "metadata": {},
   "source": [
    "## When shipping status is late, what is the distribution of \n",
    "## category name, customer country and order country (1.a/b/c)\n",
    "## and the distribution of 1 - 4 days respectively (2.a/b/c)."
   ]
  },
  {
   "cell_type": "markdown",
   "id": "3f4b53c7",
   "metadata": {},
   "source": [
    "#### 1.Exploring when shipping status is late, the distribution of \n",
    "#### category name, customer country and order country. (1.a/b/c)"
   ]
  },
  {
   "cell_type": "code",
   "execution_count": null,
   "id": "7502f499",
   "metadata": {},
   "outputs": [],
   "source": [
    "data_total = pd.read_csv('data/DataCoSupplyChainDatasetplus.csv',encoding='ISO-8859-1')"
   ]
  },
  {
   "cell_type": "code",
   "execution_count": null,
   "id": "16a3509f",
   "metadata": {
    "scrolled": true
   },
   "outputs": [],
   "source": [
    "data_total.head()"
   ]
  },
  {
   "cell_type": "code",
   "execution_count": null,
   "id": "94ab1042",
   "metadata": {},
   "outputs": [],
   "source": [
    "out_date = data_total[data_total['Days of Shipping(schedule-real)'] < 0].reset_index().drop('index',axis=1)\n",
    "out_date.head()"
   ]
  },
  {
   "cell_type": "code",
   "execution_count": null,
   "id": "14122670",
   "metadata": {},
   "outputs": [],
   "source": [
    "# 1.a. when shipping status is late, the distribution of category name, customer country and order country.\n",
    "total_cn = pd.DataFrame(data_total['Category Name'].value_counts()).reset_index()\n",
    "out_cn = pd.DataFrame(out_date['Category Name'].value_counts()).reset_index()\n",
    "total = pd.merge(total_cn, out_cn, on='index', how = 'left')\n",
    "\n",
    "total.columns = ['category name', 'total', 'late order quantity']\n",
    "total.head()"
   ]
  },
  {
   "cell_type": "code",
   "execution_count": null,
   "id": "1b27bac4",
   "metadata": {},
   "outputs": [],
   "source": [
    "total['rate'] = total['late order quantity'] / total['total']\n",
    "total = total.sort_values('rate', ascending=False).reset_index().drop('index', axis=1)\n",
    "total.head(5)"
   ]
  },
  {
   "cell_type": "code",
   "execution_count": null,
   "id": "770b164f",
   "metadata": {},
   "outputs": [],
   "source": [
    "# bar chart total category name late\n",
    "import matplotlib.pyplot as plt\n",
    "plt.figure(figsize=(16, 9))\n",
    "for i in range(len(total)):\n",
    "    plt.bar(total['category name'][i],total['rate'][i])\n",
    "    \n",
    "plt.title(\"late & category name\")\n",
    "plt.xticks(rotation=90)  \n",
    "plt.xlabel(\"category\")\n",
    "plt.ylabel(\"rate\")\n",
    " \n",
    "plt.show()"
   ]
  },
  {
   "cell_type": "code",
   "execution_count": null,
   "id": "6799bab9",
   "metadata": {},
   "outputs": [],
   "source": [
    "# 1.b. when shipping status is late, the distribution of customer country\n",
    "# (There are only 2 customer country as a total)\n",
    "out_date['Customer Country'].value_counts()"
   ]
  },
  {
   "cell_type": "code",
   "execution_count": null,
   "id": "fe993f2b",
   "metadata": {},
   "outputs": [],
   "source": [
    "total_cc = pd.DataFrame(data_total['Customer Country'].value_counts()).reset_index()\n",
    "out_cc = pd.DataFrame(out_date['Customer Country'].value_counts()).reset_index()\n",
    "total = pd.merge(total_cc, out_cc, on='index', how = 'left')\n",
    "total.columns = ['Customer Country', 'total', 'late order quantity']\n",
    "total.head()"
   ]
  },
  {
   "cell_type": "code",
   "execution_count": null,
   "id": "03c9ad95",
   "metadata": {},
   "outputs": [],
   "source": [
    "total['rate'] = total['late order quantity'] / total['total']\n",
    "total = total.sort_values('rate', ascending=False).reset_index().drop('index', axis=1)\n",
    "total.head()"
   ]
  },
  {
   "cell_type": "code",
   "execution_count": null,
   "id": "9bb52370",
   "metadata": {
    "scrolled": true
   },
   "outputs": [],
   "source": [
    "import matplotlib.pyplot as plt\n",
    "plt.figure(figsize=(16, 9))\n",
    "for i in range(len(total)):\n",
    "    plt.bar(total['Customer Country'][i],total['rate'][i])\n",
    "    \n",
    "plt.title(\"late & custom country\")\n",
    "plt.xticks(rotation=90) \n",
    "plt.xlabel(\"Customer Country\")\n",
    "plt.ylabel(\"rate\")\n",
    " \n",
    "plt.show()"
   ]
  },
  {
   "cell_type": "code",
   "execution_count": null,
   "id": "901366b0",
   "metadata": {},
   "outputs": [],
   "source": [
    "# 1.c. when shipping status is late, the distribution of order country.\n",
    "# (Before doing the analysis, since there are too many type of countries in this feature,\n",
    "# We need to scan out those countries that have more than 1000 orders with the company, \n",
    "# and then do the analysis.)\n",
    "\n",
    "total_oc = pd.DataFrame(data_total['Order Country'].value_counts()).reset_index()\n",
    "count = 0\n",
    "sum_order_country = 0\n",
    "result = []\n",
    "for i in range(len(total_oc)):\n",
    "    if total_oc['Order Country'][i] > 1000:\n",
    "        count += 1\n",
    "        sum_order_country += total_oc['Order Country'][i]\n",
    "        result.append(total_oc['index'][i])\n",
    "sum_order_country, count, sum_order_country/len(data)"
   ]
  },
  {
   "cell_type": "code",
   "execution_count": null,
   "id": "d2a24741",
   "metadata": {},
   "outputs": [],
   "source": [
    "# total amount of order country counted into analysis.\n",
    "\n",
    "total_cn = pd.DataFrame(data_total['Order Country'].value_counts()).reset_index()\n",
    "out_cn = pd.DataFrame(out_date['Order Country'].value_counts()).reset_index()\n",
    "out_cn"
   ]
  },
  {
   "cell_type": "code",
   "execution_count": null,
   "id": "585b6d98",
   "metadata": {},
   "outputs": [],
   "source": [
    "total_cn = pd.DataFrame(data_total['Order Country'].value_counts()).reset_index()\n",
    "out_cn = pd.DataFrame(out_date['Order Country'].value_counts()).reset_index()\n",
    "\n",
    "for i in range(len(out_cn)):\n",
    "    if out_cn['index'][i] not in result:\n",
    "        out_cn['Order Country'][i] = np.nan\n",
    "out_cn = out_cn.dropna().reset_index().drop('level_0',axis=1)\n",
    "total = pd.merge(total_cn, out_cn[['index', 'Order Country']], on='index', how = 'right')\n",
    "total.columns = ['Order Country', 'total', 'late order quantity']\n",
    "total.head()"
   ]
  },
  {
   "cell_type": "code",
   "execution_count": null,
   "id": "37e4cde8",
   "metadata": {},
   "outputs": [],
   "source": [
    "total['rate'] = total['late order quantity'] / total['total']\n",
    "total = total.sort_values('rate', ascending=False).reset_index().drop('index', axis=1)\n",
    "total.head()"
   ]
  },
  {
   "cell_type": "code",
   "execution_count": null,
   "id": "2697dd44",
   "metadata": {},
   "outputs": [],
   "source": [
    "import matplotlib.pyplot as plt\n",
    "plt.figure(figsize=(16, 9))\n",
    "for i in range(len(total)):\n",
    "    plt.bar(total['Order Country'][i],total['rate'][i])\n",
    "    \n",
    "plt.title(\"late & Order Country\")\n",
    "plt.xticks(rotation=90)  \n",
    "plt.xlabel(\"Order Country\")\n",
    "plt.ylabel(\"rate\")\n",
    "\n",
    "plt.show()"
   ]
  },
  {
   "cell_type": "markdown",
   "id": "4d082355",
   "metadata": {},
   "source": [
    "#####  2. When shipping status is late, the distribution of  1-4 late days of \n",
    "#### category name, customer country and order country (2.a/b/c). "
   ]
  },
  {
   "cell_type": "code",
   "execution_count": null,
   "id": "0d76e42b",
   "metadata": {},
   "outputs": [],
   "source": [
    "out_date['Days of Shipping(schedule-real)'].value_counts()"
   ]
  },
  {
   "cell_type": "code",
   "execution_count": null,
   "id": "d1480321",
   "metadata": {},
   "outputs": [],
   "source": [
    "late1 = out_date[out_date['Days of Shipping(schedule-real)'] == -1]\n",
    "late2 = out_date[out_date['Days of Shipping(schedule-real)'] == -2]\n",
    "late3 = out_date[out_date['Days of Shipping(schedule-real)'] == -3]\n",
    "late4 = out_date[out_date['Days of Shipping(schedule-real)'] == -4]"
   ]
  },
  {
   "cell_type": "markdown",
   "id": "f754ac03",
   "metadata": {},
   "source": [
    "##### 2.a.  When shipping status is late, the distribution of 1 - 4 late days of category name\n",
    "##### (The bar charts below is from 1st late day to 4th late day respectively)"
   ]
  },
  {
   "cell_type": "code",
   "execution_count": null,
   "id": "1325cf38",
   "metadata": {},
   "outputs": [],
   "source": [
    "total_cn = pd.DataFrame(data_total['Category Name'].value_counts()).reset_index()\n",
    "out_cn = pd.DataFrame(late1['Category Name'].value_counts()).reset_index()\n",
    "total = pd.merge(total_cn, out_cn, on='index', how = 'left')\n",
    "total.columns = ['category name', 'total', 'out']\n",
    "total['rate'] = total['out'] / total['total']\n",
    "total = total.sort_values('rate', ascending=False).reset_index().drop('index', axis=1)\n",
    "import matplotlib.pyplot as plt\n",
    "plt.figure(figsize=(16, 9))\n",
    "for i in range(len(total)):\n",
    "    plt.bar(total['category name'][i],total['rate'][i])\n",
    "    \n",
    "plt.title(\"late & category name\")\n",
    "plt.xticks(rotation=90)  \n",
    "plt.xlabel(\"category\")\n",
    "plt.ylabel(\"rate\")\n",
    "\n",
    "plt.show()"
   ]
  },
  {
   "cell_type": "code",
   "execution_count": null,
   "id": "a709da2f",
   "metadata": {},
   "outputs": [],
   "source": [
    "total_cn = pd.DataFrame(data_total['Category Name'].value_counts()).reset_index()\n",
    "out_cn = pd.DataFrame(late2['Category Name'].value_counts()).reset_index()\n",
    "total = pd.merge(total_cn, out_cn, on='index', how = 'left')\n",
    "total.columns = ['category name', 'total', 'out']\n",
    "total['rate'] = total['out'] / total['total']\n",
    "total = total.sort_values('rate', ascending=False).reset_index().drop('index', axis=1)\n",
    "import matplotlib.pyplot as plt\n",
    "plt.figure(figsize=(16, 9))\n",
    "for i in range(len(total)):\n",
    "    plt.bar(total['category name'][i],total['rate'][i])\n",
    "    \n",
    "plt.title(\"late & category name\")\n",
    "plt.xticks(rotation=90)  \n",
    "plt.xlabel(\"category\")\n",
    "plt.ylabel(\"rate\")\n",
    "\n",
    "plt.show()"
   ]
  },
  {
   "cell_type": "code",
   "execution_count": null,
   "id": "2fdb79cf",
   "metadata": {},
   "outputs": [],
   "source": [
    "total_cn = pd.DataFrame(data_total['Category Name'].value_counts()).reset_index()\n",
    "out_cn = pd.DataFrame(late3['Category Name'].value_counts()).reset_index()\n",
    "total = pd.merge(total_cn, out_cn, on='index', how = 'left')\n",
    "total.columns = ['category name', 'total', 'out']\n",
    "total['rate'] = total['out'] / total['total']\n",
    "total = total.sort_values('rate', ascending=False).reset_index().drop('index', axis=1)\n",
    "import matplotlib.pyplot as plt\n",
    "plt.figure(figsize=(16, 9))\n",
    "for i in range(len(total)):\n",
    "    plt.bar(total['category name'][i],total['rate'][i])\n",
    "    \n",
    "plt.title(\"late & category name\")\n",
    "plt.xticks(rotation=90) \n",
    "plt.xlabel(\"category\")\n",
    "plt.ylabel(\"rate\")\n",
    "\n",
    "plt.show()"
   ]
  },
  {
   "cell_type": "code",
   "execution_count": null,
   "id": "12f4142b",
   "metadata": {},
   "outputs": [],
   "source": [
    "total_cn = pd.DataFrame(data_total['Category Name'].value_counts()).reset_index()\n",
    "out_cn = pd.DataFrame(late4['Category Name'].value_counts()).reset_index()\n",
    "total = pd.merge(total_cn, out_cn, on='index', how = 'left')\n",
    "total.columns = ['category name', 'total', 'out']\n",
    "total['rate'] = total['out'] / total['total']\n",
    "total = total.sort_values('rate', ascending=False).reset_index().drop('index', axis=1)\n",
    "import matplotlib.pyplot as plt\n",
    "plt.figure(figsize=(16, 9))\n",
    "for i in range(len(total)):\n",
    "    plt.bar(total['category name'][i],total['rate'][i])\n",
    "    \n",
    "plt.title(\"late & category name\")\n",
    "plt.xticks(rotation=90) \n",
    "plt.xlabel(\"category\")\n",
    "plt.ylabel(\"rate\")\n",
    "\n",
    "plt.show()"
   ]
  },
  {
   "cell_type": "markdown",
   "id": "95215063",
   "metadata": {},
   "source": [
    "##### 2.b.  When shipping status is late, the distribution of 1 - 4 late days of customer country of late orders\n",
    "##### (The bar charts below is from 1st late day to 4th late day respectively, since there is only\n",
    "##### 2 countries, unlike all the other analysis, we regard the total as late orders (instead of all orders including late, on-time and \n",
    "##### in advance). So the bar charts below are showing how distribution of order changes in late shipping status\n",
    "##### from day 1 to day 4.\n"
   ]
  },
  {
   "cell_type": "code",
   "execution_count": null,
   "id": "d8a6ad0e",
   "metadata": {},
   "outputs": [],
   "source": [
    "total_cn = pd.DataFrame(data_total['Customer Country'].value_counts()).reset_index()\n",
    "out_cn = pd.DataFrame(late1['Customer Country'].value_counts()).reset_index()\n",
    "total = pd.merge(total_cn, out_cn, on='index', how = 'left')\n",
    "total.columns = ['Customer Country', 'total', 'out']\n",
    "total['rate'] = total['out'] / sum(total['out'])\n",
    "total = total.sort_values('rate', ascending=False).reset_index().drop('index', axis=1)\n",
    "import matplotlib.pyplot as plt\n",
    "plt.figure(figsize=(16, 9))\n",
    "for i in range(len(total)):\n",
    "    plt.bar(total['Customer Country'][i],total['rate'][i])\n",
    "    \n",
    "plt.title(\"late & Customer Country\")\n",
    "plt.xticks(rotation=90) \n",
    "plt.xlabel(\"Customer Country\")\n",
    "plt.ylabel(\"rate\")\n",
    "\n",
    "plt.show()"
   ]
  },
  {
   "cell_type": "code",
   "execution_count": null,
   "id": "cd3fe825",
   "metadata": {},
   "outputs": [],
   "source": [
    "total_cn = pd.DataFrame(data_total['Customer Country'].value_counts()).reset_index()\n",
    "out_cn = pd.DataFrame(late2['Customer Country'].value_counts()).reset_index()\n",
    "total = pd.merge(total_cn, out_cn, on='index', how = 'left')\n",
    "total.columns = ['Customer Country', 'total', 'out']\n",
    "total['rate'] = total['out'] / sum(total['out'])\n",
    "total = total.sort_values('rate', ascending=False).reset_index().drop('index', axis=1)\n",
    "import matplotlib.pyplot as plt\n",
    "plt.figure(figsize=(16, 9))\n",
    "for i in range(len(total)):\n",
    "    plt.bar(total['Customer Country'][i],total['rate'][i])\n",
    "    \n",
    "plt.title(\"late & Customer Country\")\n",
    "plt.xticks(rotation=90) \n",
    "plt.xlabel(\"Customer Country\")\n",
    "plt.ylabel(\"rate\")\n",
    "\n",
    "plt.show()"
   ]
  },
  {
   "cell_type": "code",
   "execution_count": null,
   "id": "98441971",
   "metadata": {},
   "outputs": [],
   "source": [
    "total_cn = pd.DataFrame(data_total['Customer Country'].value_counts()).reset_index()\n",
    "out_cn = pd.DataFrame(late3['Customer Country'].value_counts()).reset_index()\n",
    "total = pd.merge(total_cn, out_cn, on='index', how = 'left')\n",
    "total.columns = ['Customer Country', 'total', 'out']\n",
    "total['rate'] = total['out'] / sum(total['out'])\n",
    "total = total.sort_values('rate', ascending=False).reset_index().drop('index', axis=1)\n",
    "\n",
    "import matplotlib.pyplot as plt\n",
    "plt.figure(figsize=(16, 9))\n",
    "for i in range(len(total)):\n",
    "    plt.bar(total['Customer Country'][i],total['rate'][i])\n",
    "    \n",
    "plt.title(\"late & Customer Country\")\n",
    "plt.xticks(rotation=90)  \n",
    "plt.xlabel(\"Customer Country\")\n",
    "plt.ylabel(\"rate\")\n",
    "\n",
    "plt.show()"
   ]
  },
  {
   "cell_type": "code",
   "execution_count": null,
   "id": "dd53b31a",
   "metadata": {},
   "outputs": [],
   "source": [
    "total_cn = pd.DataFrame(data_total['Customer Country'].value_counts()).reset_index()\n",
    "out_cn = pd.DataFrame(late4['Customer Country'].value_counts()).reset_index()\n",
    "total = pd.merge(total_cn, out_cn, on='index', how = 'left')\n",
    "total.columns = ['Customer Country', 'total', 'out']\n",
    "\n",
    "total['rate'] = total['out'] / sum(total['out'])\n",
    "total = total.sort_values('rate', ascending=False).reset_index().drop('index', axis=1)\n",
    "import matplotlib.pyplot as plt\n",
    "plt.figure(figsize=(16, 9))\n",
    "for i in range(len(total)):\n",
    "    plt.bar(total['Customer Country'][i],total['rate'][i])\n",
    "    \n",
    "plt.title(\"late & Customer Country\")\n",
    "plt.xticks(rotation=90)  \n",
    "plt.xlabel(\"Customer Country\")\n",
    "plt.ylabel(\"rate\")\n",
    "\n",
    "plt.show()"
   ]
  },
  {
   "cell_type": "markdown",
   "id": "fbd29b06",
   "metadata": {},
   "source": [
    "##### 2.c.  When shipping status is late, the distribution of 1 - 4 late days of order country\n",
    "##### (The bar charts below is from 1st late day to 4th late day respectively)"
   ]
  },
  {
   "cell_type": "code",
   "execution_count": null,
   "id": "97186bc6",
   "metadata": {},
   "outputs": [],
   "source": [
    "\n",
    "total_cn = pd.DataFrame(data_total['Order Country'].value_counts()).reset_index()\n",
    "out_cn = pd.DataFrame(late1['Order Country'].value_counts()).reset_index()\n",
    "# out_cn['Order Country1'] = out_cn['index'].apply(lambda x:x if x in result else np.nan)\n",
    "for i in range(len(out_cn)):\n",
    "    if out_cn['index'][i] not in result:\n",
    "        out_cn['Order Country'][i] = np.nan\n",
    "out_cn = out_cn.dropna().reset_index().drop('level_0',axis=1)\n",
    "total = pd.merge(total_cn, out_cn[['index', 'Order Country']], on='index', how = 'right')\n",
    "\n",
    "total.columns = ['Order Country', 'total', 'out']\n",
    "total['rate'] = total['out'] / sum(total['out'])\n",
    "total = total.sort_values('rate', ascending=False).reset_index().drop('index', axis=1)\n",
    "import matplotlib.pyplot as plt\n",
    "plt.figure(figsize=(16, 9))\n",
    "for i in range(len(total)):\n",
    "    plt.bar(total['Order Country'][i],total['rate'][i])\n",
    "    \n",
    "plt.title(\"late & Order Country\")\n",
    "plt.xticks(rotation=90) \n",
    "plt.xlabel(\"Order Country\")\n",
    "plt.ylabel(\"rate\")\n",
    "\n",
    "plt.show()"
   ]
  },
  {
   "cell_type": "code",
   "execution_count": null,
   "id": "91dbc08f",
   "metadata": {},
   "outputs": [],
   "source": [
    "total_cn = pd.DataFrame(data_total['Order Country'].value_counts()).reset_index()\n",
    "out_cn = pd.DataFrame(late2['Order Country'].value_counts()).reset_index()\n",
    "# out_cn['Order Country1'] = out_cn['index'].apply(lambda x:x if x in result else np.nan)\n",
    "for i in range(len(out_cn)):\n",
    "    if out_cn['index'][i] not in result:\n",
    "        out_cn['Order Country'][i] = np.nan\n",
    "out_cn = out_cn.dropna().reset_index().drop('level_0',axis=1)\n",
    "total = pd.merge(total_cn, out_cn[['index', 'Order Country']], on='index', how = 'right')\n",
    "\n",
    "total.columns = ['Order Country', 'total', 'out']\n",
    "total['rate'] = total['out'] / sum(total['out'])\n",
    "total = total.sort_values('rate', ascending=False).reset_index().drop('index', axis=1)\n",
    "import matplotlib.pyplot as plt\n",
    "plt.figure(figsize=(16, 9))\n",
    "for i in range(len(total)):\n",
    "    plt.bar(total['Order Country'][i],total['rate'][i])\n",
    "    \n",
    "plt.title(\"late & Order Country\")\n",
    "plt.xticks(rotation=90) \n",
    "plt.xlabel(\"Order Country\")\n",
    "plt.ylabel(\"rate\")\n",
    "\n",
    "plt.show()"
   ]
  },
  {
   "cell_type": "code",
   "execution_count": null,
   "id": "dc6b762e",
   "metadata": {},
   "outputs": [],
   "source": [
    "total_cn = pd.DataFrame(data_total['Order Country'].value_counts()).reset_index()\n",
    "out_cn = pd.DataFrame(late3['Order Country'].value_counts()).reset_index()\n",
    "# out_cn['Order Country1'] = out_cn['index'].apply(lambda x:x if x in result else np.nan)\n",
    "for i in range(len(out_cn)):\n",
    "    if out_cn['index'][i] not in result:\n",
    "        out_cn['Order Country'][i] = np.nan\n",
    "out_cn = out_cn.dropna().reset_index().drop('level_0',axis=1)\n",
    "total = pd.merge(total_cn, out_cn[['index', 'Order Country']], on='index', how = 'right')\n",
    "\n",
    "total.columns = ['Order Country', 'total', 'out']\n",
    "total['rate'] = total['out'] / sum(total['out'])\n",
    "total = total.sort_values('rate', ascending=False).reset_index().drop('index', axis=1)\n",
    "import matplotlib.pyplot as plt\n",
    "plt.figure(figsize=(16, 9))\n",
    "for i in range(len(total)):\n",
    "    plt.bar(total['Order Country'][i],total['rate'][i])\n",
    "    \n",
    "plt.title(\"late & Order Country\")\n",
    "plt.xticks(rotation=90) \n",
    "plt.xlabel(\"Order Country\")\n",
    "plt.ylabel(\"rate\")\n",
    "\n",
    "plt.show()"
   ]
  },
  {
   "cell_type": "code",
   "execution_count": null,
   "id": "de648c74",
   "metadata": {},
   "outputs": [],
   "source": [
    "total_cn = pd.DataFrame(data_total['Order Country'].value_counts()).reset_index()\n",
    "out_cn = pd.DataFrame(late4['Order Country'].value_counts()).reset_index()\n",
    "# out_cn['Order Country1'] = out_cn['index'].apply(lambda x:x if x in result else np.nan)\n",
    "for i in range(len(out_cn)):\n",
    "    if out_cn['index'][i] not in result:\n",
    "        out_cn['Order Country'][i] = np.nan\n",
    "out_cn = out_cn.dropna().reset_index().drop('level_0',axis=1)\n",
    "total = pd.merge(total_cn, out_cn[['index', 'Order Country']], on='index', how = 'right')\n",
    "\n",
    "total.columns = ['Order Country', 'total', 'out']\n",
    "total['rate'] = total['out'] / sum(total['out'])\n",
    "import matplotlib.pyplot as plt\n",
    "plt.figure(figsize=(16, 9))\n",
    "for i in range(len(total)):\n",
    "    plt.bar(total['Order Country'][i],total['rate'][i])\n",
    "    \n",
    "plt.title(\"late & Order Country\")\n",
    "plt.xticks(rotation=90) \n",
    "plt.xlabel(\"Order Country\")\n",
    "plt.ylabel(\"rate\")\n",
    "\n",
    "plt.show()"
   ]
  },
  {
   "cell_type": "code",
   "execution_count": null,
   "id": "60e194d8",
   "metadata": {},
   "outputs": [],
   "source": []
  },
  {
   "cell_type": "code",
   "execution_count": null,
   "id": "5afa1325",
   "metadata": {},
   "outputs": [],
   "source": []
  },
  {
   "cell_type": "code",
   "execution_count": null,
   "id": "66e3cccf",
   "metadata": {},
   "outputs": [],
   "source": []
  }
 ],
 "metadata": {
  "kernelspec": {
   "display_name": "Python 3 (ipykernel)",
   "language": "python",
   "name": "python3"
  },
  "language_info": {
   "codemirror_mode": {
    "name": "ipython",
    "version": 3
   },
   "file_extension": ".py",
   "mimetype": "text/x-python",
   "name": "python",
   "nbconvert_exporter": "python",
   "pygments_lexer": "ipython3",
   "version": "3.9.12"
  }
 },
 "nbformat": 4,
 "nbformat_minor": 5
}
